{
 "cells": [
  {
   "cell_type": "code",
   "execution_count": 3,
   "metadata": {},
   "outputs": [
    {
     "data": {
      "text/plain": [
       "True"
      ]
     },
     "execution_count": 3,
     "metadata": {},
     "output_type": "execute_result"
    }
   ],
   "source": [
    "x = int(\"5\")\n",
    "y = 5\n",
    "x == y\n"
   ]
  },
  {
   "cell_type": "code",
   "execution_count": 12,
   "metadata": {},
   "outputs": [
    {
     "name": "stdout",
     "output_type": "stream",
     "text": [
      "We have len['banana', 'apple', 'pear']fruits\n",
      "3\n"
     ]
    }
   ],
   "source": [
    "fruits = ['banana','apple','pear']\n",
    "if fruits:\n",
    "\n",
    " print(len(fruits))"
   ]
  },
  {
   "cell_type": "code",
   "execution_count": 21,
   "metadata": {},
   "outputs": [],
   "source": [
    "fruitstring = \"banana,pear,apple\"\n",
    "fruitlist = fruitstring. split(',')"
   ]
  },
  {
   "cell_type": "code",
   "execution_count": null,
   "metadata": {},
   "outputs": [],
   "source": [
    "s = \" strip me ! \"\n",
    "print(s.strip())"
   ]
  },
  {
   "cell_type": "code",
   "execution_count": 24,
   "metadata": {},
   "outputs": [
    {
     "name": "stdout",
     "output_type": "stream",
     "text": [
      "['A', 'computer', 'would', 'deserve', 'to', 'be', 'called', 'intelligent', 'if', 'it', 'could', 'deceive', 'a', 'human', 'into\\nbelieving', 'that', 'it', 'was', 'human']\n"
     ]
    }
   ],
   "source": [
    "quotestring = '''A computer would deserve to be called intelligent if it could deceive a human into\n",
    "believing that it was human'''\n",
    "quotelist = quotestring.split(' ')\n",
    "print(quotelist)"
   ]
  },
  {
   "cell_type": "code",
   "execution_count": 1,
   "metadata": {},
   "outputs": [
    {
     "ename": "NameError",
     "evalue": "name 'quotelist' is not defined",
     "output_type": "error",
     "traceback": [
      "\u001b[1;31m---------------------------------------------------------------------------\u001b[0m",
      "\u001b[1;31mNameError\u001b[0m                                 Traceback (most recent call last)",
      "Cell \u001b[1;32mIn[1], line 2\u001b[0m\n\u001b[0;32m      1\u001b[0m numberoftwoletterwords \u001b[39m=\u001b[39m \u001b[39m'\u001b[39m\u001b[39mto\u001b[39m\u001b[39m'\u001b[39m\n\u001b[1;32m----> 2\u001b[0m \u001b[39mfor\u001b[39;00m word \u001b[39min\u001b[39;00m quotelist:\n\u001b[0;32m      3\u001b[0m  \u001b[39mif\u001b[39;00m \u001b[39mlen\u001b[39m(word \u001b[39m==\u001b[39m \u001b[39m2\u001b[39m):\n\u001b[0;32m      4\u001b[0m   numberoftwoletterwords \u001b[39m+\u001b[39m\u001b[39m=\u001b[39m \u001b[39m1\u001b[39m\n",
      "\u001b[1;31mNameError\u001b[0m: name 'quotelist' is not defined"
     ]
    }
   ],
   "source": [
    "numberoftwoletterwords = 0+\n",
    "for word in quotelist:\n",
    " if len(word == 2):\n",
    "  numberoftwoletterwords += 1\n",
    "print(numberoftwoletterwords == 5) # This will be True if you've done it right"
   ]
  },
  {
   "cell_type": "code",
   "execution_count": 26,
   "metadata": {},
   "outputs": [
    {
     "ename": "TypeError",
     "evalue": "sequence item 0: expected str instance, list found",
     "output_type": "error",
     "traceback": [
      "\u001b[1;31m---------------------------------------------------------------------------\u001b[0m",
      "\u001b[1;31mTypeError\u001b[0m                                 Traceback (most recent call last)",
      "Cell \u001b[1;32mIn[26], line 3\u001b[0m\n\u001b[0;32m      1\u001b[0m fruitlist \u001b[39m=\u001b[39m [\u001b[39m'\u001b[39m\u001b[39mbanana\u001b[39m\u001b[39m'\u001b[39m \u001b[39m'\u001b[39m\u001b[39mpear\u001b[39m\u001b[39m'\u001b[39m \u001b[39m'\u001b[39m\u001b[39mapple\u001b[39m\u001b[39m'\u001b[39m]\n\u001b[0;32m      2\u001b[0m delimiter \u001b[39m=\u001b[39m \u001b[39m\"\u001b[39m\u001b[39m,\u001b[39m\u001b[39m\"\u001b[39m\n\u001b[1;32m----> 3\u001b[0m fruitstring \u001b[39m=\u001b[39m delimiter\u001b[39m.\u001b[39;49mjoin([fruitlist])\n\u001b[0;32m      4\u001b[0m \u001b[39mprint\u001b[39m(fruitstring)\n",
      "\u001b[1;31mTypeError\u001b[0m: sequence item 0: expected str instance, list found"
     ]
    }
   ],
   "source": [
    "fruitlist = ['banana' 'pear' 'apple']\n",
    "delimiter = \",\"\n",
    "fruitstring = delimiter.join([fruitlist])\n",
    "print(fruitstring)"
   ]
  },
  {
   "cell_type": "code",
   "execution_count": null,
   "metadata": {},
   "outputs": [],
   "source": [
    "text = \"We spend our time searching for security and hate it when we get it\"\n",
    "found = text.find('security')\n",
    "if _____ == -1:\n",
    " print(\"No security found! :(\")\n",
    "else:\n",
    " print(\"Security found at position \" + str(found))"
   ]
  }
 ],
 "metadata": {
  "kernelspec": {
   "display_name": "base",
   "language": "python",
   "name": "python3"
  },
  "language_info": {
   "codemirror_mode": {
    "name": "ipython",
    "version": 3
   },
   "file_extension": ".py",
   "mimetype": "text/x-python",
   "name": "python",
   "nbconvert_exporter": "python",
   "pygments_lexer": "ipython3",
   "version": "3.10.9"
  },
  "orig_nbformat": 4
 },
 "nbformat": 4,
 "nbformat_minor": 2
}
