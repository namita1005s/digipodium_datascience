{
 "cells": [
  {
   "cell_type": "markdown",
   "metadata": {},
   "source": [
    "# numpy Library"
   ]
  },
  {
   "cell_type": "code",
   "execution_count": 1,
   "metadata": {},
   "outputs": [],
   "source": [
    "import numpy as np"
   ]
  },
  {
   "cell_type": "code",
   "execution_count": 2,
   "metadata": {},
   "outputs": [
    {
     "name": "stdout",
     "output_type": "stream",
     "text": [
      "\u001b[1;31mSignature:\u001b[0m \u001b[0mnp\u001b[0m\u001b[1;33m.\u001b[0m\u001b[0meye\u001b[0m\u001b[1;33m(\u001b[0m\u001b[0mN\u001b[0m\u001b[1;33m,\u001b[0m \u001b[0mM\u001b[0m\u001b[1;33m=\u001b[0m\u001b[1;32mNone\u001b[0m\u001b[1;33m,\u001b[0m \u001b[0mk\u001b[0m\u001b[1;33m=\u001b[0m\u001b[1;36m0\u001b[0m\u001b[1;33m,\u001b[0m \u001b[0mdtype\u001b[0m\u001b[1;33m=\u001b[0m\u001b[1;33m<\u001b[0m\u001b[1;32mclass\u001b[0m \u001b[1;34m'float'\u001b[0m\u001b[1;33m>\u001b[0m\u001b[1;33m,\u001b[0m \u001b[0morder\u001b[0m\u001b[1;33m=\u001b[0m\u001b[1;34m'C'\u001b[0m\u001b[1;33m,\u001b[0m \u001b[1;33m*\u001b[0m\u001b[1;33m,\u001b[0m \u001b[0mlike\u001b[0m\u001b[1;33m=\u001b[0m\u001b[1;32mNone\u001b[0m\u001b[1;33m)\u001b[0m\u001b[1;33m\u001b[0m\u001b[1;33m\u001b[0m\u001b[0m\n",
      "\u001b[1;31mDocstring:\u001b[0m\n",
      "Return a 2-D array with ones on the diagonal and zeros elsewhere.\n",
      "\n",
      "Parameters\n",
      "----------\n",
      "N : int\n",
      "  Number of rows in the output.\n",
      "M : int, optional\n",
      "  Number of columns in the output. If None, defaults to `N`.\n",
      "k : int, optional\n",
      "  Index of the diagonal: 0 (the default) refers to the main diagonal,\n",
      "  a positive value refers to an upper diagonal, and a negative value\n",
      "  to a lower diagonal.\n",
      "dtype : data-type, optional\n",
      "  Data-type of the returned array.\n",
      "order : {'C', 'F'}, optional\n",
      "    Whether the output should be stored in row-major (C-style) or\n",
      "    column-major (Fortran-style) order in memory.\n",
      "\n",
      "    .. versionadded:: 1.14.0\n",
      "like : array_like, optional\n",
      "    Reference object to allow the creation of arrays which are not\n",
      "    NumPy arrays. If an array-like passed in as ``like`` supports\n",
      "    the ``__array_function__`` protocol, the result will be defined\n",
      "    by it. In this case, it ensures the creation of an array object\n",
      "    compatible with that passed in via this argument.\n",
      "\n",
      "    .. versionadded:: 1.20.0\n",
      "\n",
      "Returns\n",
      "-------\n",
      "I : ndarray of shape (N,M)\n",
      "  An array where all elements are equal to zero, except for the `k`-th\n",
      "  diagonal, whose values are equal to one.\n",
      "\n",
      "See Also\n",
      "--------\n",
      "identity : (almost) equivalent function\n",
      "diag : diagonal 2-D array from a 1-D array specified by the user.\n",
      "\n",
      "Examples\n",
      "--------\n",
      ">>> np.eye(2, dtype=int)\n",
      "array([[1, 0],\n",
      "       [0, 1]])\n",
      ">>> np.eye(3, k=1)\n",
      "array([[0.,  1.,  0.],\n",
      "       [0.,  0.,  1.],\n",
      "       [0.,  0.,  0.]])\n",
      "\u001b[1;31mFile:\u001b[0m      c:\\users\\win-10\\miniconda\\lib\\site-packages\\numpy\\lib\\twodim_base.py\n",
      "\u001b[1;31mType:\u001b[0m      function"
     ]
    }
   ],
   "source": [
    "np.eye?"
   ]
  },
  {
   "cell_type": "code",
   "execution_count": 7,
   "metadata": {},
   "outputs": [
    {
     "name": "stdout",
     "output_type": "stream",
     "text": [
      "[2 3 5 1]\n",
      "[[1 2 3]\n",
      " [4 5 6]]\n"
     ]
    }
   ],
   "source": [
    "x = np.array([2,3,5,1]) # 1D array\n",
    "x2d = np.array([[1,2,3],[4,5,6]])\n",
    "x3d = np.array([[[1,3],[4,2]],[[2,1],[3,4]]])\n",
    "print(x)\n",
    "print(x2d)"
   ]
  },
  {
   "cell_type": "code",
   "execution_count": 8,
   "metadata": {},
   "outputs": [
    {
     "name": "stdout",
     "output_type": "stream",
     "text": [
      "\u001b[1;31mDocstring:\u001b[0m\n",
      "arange([start,] stop[, step,], dtype=None, *, like=None)\n",
      "\n",
      "Return evenly spaced values within a given interval.\n",
      "\n",
      "``arange`` can be called with a varying number of positional arguments:\n",
      "\n",
      "* ``arange(stop)``: Values are generated within the half-open interval\n",
      "  ``[0, stop)`` (in other words, the interval including `start` but\n",
      "  excluding `stop`).\n",
      "* ``arange(start, stop)``: Values are generated within the half-open\n",
      "  interval ``[start, stop)``.\n",
      "* ``arange(start, stop, step)`` Values are generated within the half-open\n",
      "  interval ``[start, stop)``, with spacing between values given by\n",
      "  ``step``.\n",
      "\n",
      "For integer arguments the function is roughly equivalent to the Python\n",
      "built-in :py:class:`range`, but returns an ndarray rather than a ``range``\n",
      "instance.\n",
      "\n",
      "When using a non-integer step, such as 0.1, it is often better to use\n",
      "`numpy.linspace`.\n",
      "\n",
      "See the Warning sections below for more information.\n",
      "\n",
      "Parameters\n",
      "----------\n",
      "start : integer or real, optional\n",
      "    Start of interval.  The interval includes this value.  The default\n",
      "    start value is 0.\n",
      "stop : integer or real\n",
      "    End of interval.  The interval does not include this value, except\n",
      "    in some cases where `step` is not an integer and floating point\n",
      "    round-off affects the length of `out`.\n",
      "step : integer or real, optional\n",
      "    Spacing between values.  For any output `out`, this is the distance\n",
      "    between two adjacent values, ``out[i+1] - out[i]``.  The default\n",
      "    step size is 1.  If `step` is specified as a position argument,\n",
      "    `start` must also be given.\n",
      "dtype : dtype, optional\n",
      "    The type of the output array.  If `dtype` is not given, infer the data\n",
      "    type from the other input arguments.\n",
      "like : array_like, optional\n",
      "    Reference object to allow the creation of arrays which are not\n",
      "    NumPy arrays. If an array-like passed in as ``like`` supports\n",
      "    the ``__array_function__`` protocol, the result will be defined\n",
      "    by it. In this case, it ensures the creation of an array object\n",
      "    compatible with that passed in via this argument.\n",
      "\n",
      "    .. versionadded:: 1.20.0\n",
      "\n",
      "Returns\n",
      "-------\n",
      "arange : ndarray\n",
      "    Array of evenly spaced values.\n",
      "\n",
      "    For floating point arguments, the length of the result is\n",
      "    ``ceil((stop - start)/step)``.  Because of floating point overflow,\n",
      "    this rule may result in the last element of `out` being greater\n",
      "    than `stop`.\n",
      "\n",
      "Warnings\n",
      "--------\n",
      "The length of the output might not be numerically stable.\n",
      "\n",
      "Another stability issue is due to the internal implementation of\n",
      "`numpy.arange`.\n",
      "The actual step value used to populate the array is\n",
      "``dtype(start + step) - dtype(start)`` and not `step`. Precision loss\n",
      "can occur here, due to casting or due to using floating points when\n",
      "`start` is much larger than `step`. This can lead to unexpected\n",
      "behaviour. For example::\n",
      "\n",
      "  >>> np.arange(0, 5, 0.5, dtype=int)\n",
      "  array([0, 0, 0, 0, 0, 0, 0, 0, 0, 0])\n",
      "  >>> np.arange(-3, 3, 0.5, dtype=int)\n",
      "  array([-3, -2, -1,  0,  1,  2,  3,  4,  5,  6,  7,  8])\n",
      "\n",
      "In such cases, the use of `numpy.linspace` should be preferred.\n",
      "\n",
      "The built-in :py:class:`range` generates :std:doc:`Python built-in integers\n",
      "that have arbitrary size <python:c-api/long>`, while `numpy.arange`\n",
      "produces `numpy.int32` or `numpy.int64` numbers. This may result in\n",
      "incorrect results for large integer values::\n",
      "\n",
      "  >>> power = 40\n",
      "  >>> modulo = 10000\n",
      "  >>> x1 = [(n ** power) % modulo for n in range(8)]\n",
      "  >>> x2 = [(n ** power) % modulo for n in np.arange(8)]\n",
      "  >>> print(x1)\n",
      "  [0, 1, 7776, 8801, 6176, 625, 6576, 4001]  # correct\n",
      "  >>> print(x2)\n",
      "  [0, 1, 7776, 7185, 0, 5969, 4816, 3361]  # incorrect\n",
      "\n",
      "See Also\n",
      "--------\n",
      "numpy.linspace : Evenly spaced numbers with careful handling of endpoints.\n",
      "numpy.ogrid: Arrays of evenly spaced numbers in N-dimensions.\n",
      "numpy.mgrid: Grid-shaped arrays of evenly spaced numbers in N-dimensions.\n",
      ":ref:`how-to-partition`\n",
      "\n",
      "Examples\n",
      "--------\n",
      ">>> np.arange(3)\n",
      "array([0, 1, 2])\n",
      ">>> np.arange(3.0)\n",
      "array([ 0.,  1.,  2.])\n",
      ">>> np.arange(3,7)\n",
      "array([3, 4, 5, 6])\n",
      ">>> np.arange(3,7,2)\n",
      "array([3, 5])\n",
      "\u001b[1;31mType:\u001b[0m      builtin_function_or_method"
     ]
    }
   ],
   "source": [
    "# sequential matrix, np.arange() and np.linspace()\n",
    "np.arange?"
   ]
  },
  {
   "cell_type": "code",
   "execution_count": 11,
   "metadata": {},
   "outputs": [
    {
     "data": {
      "text/plain": [
       "array([0. , 0.2, 0.4, 0.6, 0.8, 1. , 1.2, 1.4, 1.6, 1.8, 2. , 2.2, 2.4,\n",
       "       2.6, 2.8, 3. , 3.2, 3.4, 3.6, 3.8, 4. , 4.2, 4.4, 4.6, 4.8, 5. ,\n",
       "       5.2, 5.4, 5.6, 5.8, 6. , 6.2, 6.4, 6.6, 6.8, 7. , 7.2, 7.4, 7.6,\n",
       "       7.8, 8. , 8.2, 8.4, 8.6, 8.8, 9. , 9.2, 9.4, 9.6, 9.8])"
      ]
     },
     "execution_count": 11,
     "metadata": {},
     "output_type": "execute_result"
    }
   ],
   "source": [
    "np.arange(0, 10, .2)"
   ]
  },
  {
   "cell_type": "code",
   "execution_count": 10,
   "metadata": {},
   "outputs": [
    {
     "data": {
      "text/plain": [
       "50"
      ]
     },
     "execution_count": 10,
     "metadata": {},
     "output_type": "execute_result"
    }
   ],
   "source": [
    "np.arange(0, 10, .2).size"
   ]
  },
  {
   "cell_type": "code",
   "execution_count": 12,
   "metadata": {},
   "outputs": [
    {
     "data": {
      "text/plain": [
       "array([[0. , 0.2, 0.4, 0.6, 0.8, 1. , 1.2, 1.4, 1.6, 1.8],\n",
       "       [2. , 2.2, 2.4, 2.6, 2.8, 3. , 3.2, 3.4, 3.6, 3.8],\n",
       "       [4. , 4.2, 4.4, 4.6, 4.8, 5. , 5.2, 5.4, 5.6, 5.8],\n",
       "       [6. , 6.2, 6.4, 6.6, 6.8, 7. , 7.2, 7.4, 7.6, 7.8],\n",
       "       [8. , 8.2, 8.4, 8.6, 8.8, 9. , 9.2, 9.4, 9.6, 9.8]])"
      ]
     },
     "execution_count": 12,
     "metadata": {},
     "output_type": "execute_result"
    }
   ],
   "source": [
    "np.arange(0, 10, .2).reshape(5,10)"
   ]
  },
  {
   "cell_type": "code",
   "execution_count": 17,
   "metadata": {},
   "outputs": [
    {
     "data": {
      "text/plain": [
       "array([ 0.        ,  0.1010101 ,  0.2020202 ,  0.3030303 ,  0.4040404 ,\n",
       "        0.50505051,  0.60606061,  0.70707071,  0.80808081,  0.90909091,\n",
       "        1.01010101,  1.11111111,  1.21212121,  1.31313131,  1.41414141,\n",
       "        1.51515152,  1.61616162,  1.71717172,  1.81818182,  1.91919192,\n",
       "        2.02020202,  2.12121212,  2.22222222,  2.32323232,  2.42424242,\n",
       "        2.52525253,  2.62626263,  2.72727273,  2.82828283,  2.92929293,\n",
       "        3.03030303,  3.13131313,  3.23232323,  3.33333333,  3.43434343,\n",
       "        3.53535354,  3.63636364,  3.73737374,  3.83838384,  3.93939394,\n",
       "        4.04040404,  4.14141414,  4.24242424,  4.34343434,  4.44444444,\n",
       "        4.54545455,  4.64646465,  4.74747475,  4.84848485,  4.94949495,\n",
       "        5.05050505,  5.15151515,  5.25252525,  5.35353535,  5.45454545,\n",
       "        5.55555556,  5.65656566,  5.75757576,  5.85858586,  5.95959596,\n",
       "        6.06060606,  6.16161616,  6.26262626,  6.36363636,  6.46464646,\n",
       "        6.56565657,  6.66666667,  6.76767677,  6.86868687,  6.96969697,\n",
       "        7.07070707,  7.17171717,  7.27272727,  7.37373737,  7.47474747,\n",
       "        7.57575758,  7.67676768,  7.77777778,  7.87878788,  7.97979798,\n",
       "        8.08080808,  8.18181818,  8.28282828,  8.38383838,  8.48484848,\n",
       "        8.58585859,  8.68686869,  8.78787879,  8.88888889,  8.98989899,\n",
       "        9.09090909,  9.19191919,  9.29292929,  9.39393939,  9.49494949,\n",
       "        9.5959596 ,  9.6969697 ,  9.7979798 ,  9.8989899 , 10.        ])"
      ]
     },
     "execution_count": 17,
     "metadata": {},
     "output_type": "execute_result"
    }
   ],
   "source": [
    "np.linspace(0, 10, 100)"
   ]
  },
  {
   "cell_type": "code",
   "execution_count": 21,
   "metadata": {},
   "outputs": [
    {
     "data": {
      "text/plain": [
       "array([[ 0.,  5.],\n",
       "       [10., 15.]])"
      ]
     },
     "execution_count": 21,
     "metadata": {},
     "output_type": "execute_result"
    }
   ],
   "source": [
    "np.linspace(0, 15, 4).reshape(2,2)"
   ]
  },
  {
   "cell_type": "markdown",
   "metadata": {},
   "source": [
    "# randomized matrix with np.random\n",
    "# np.random.rand()"
   ]
  },
  {
   "cell_type": "code",
   "execution_count": 25,
   "metadata": {},
   "outputs": [
    {
     "name": "stdout",
     "output_type": "stream",
     "text": [
      "[[0.54787062 0.62310162]\n",
      " [0.69367908 0.05886247]]\n",
      "[[ 1.06298042 -0.19847682  0.27087647]\n",
      " [-0.29478752 -0.37363785 -1.07779149]\n",
      " [-0.20064495 -0.99139482 -0.15182837]]\n",
      "[[  5   7  -3]\n",
      " [ -8 -10   6]\n",
      " [  0   0   3]]\n",
      "[[1.00165793 0.51844836 0.8220251 ]\n",
      " [1.10478314 0.3646805  1.51728809]\n",
      " [0.99789647 1.74307468 0.34577979]]\n",
      "[ 9  2  8  4  6  1  7  3 10  5]\n"
     ]
    }
   ],
   "source": [
    "print(np.random.rand(2,2)) #0 to 1\n",
    "# np.random.randn() #normal distribution\n",
    "\n",
    "print(np.random.randn(3,3))\n",
    "#np.random randit()\n",
    "\n",
    "print(np.random.randint(-10,10,(3,3))) #random int from -10 to 10\n",
    "#np.random uniform()\n",
    "\n",
    "print(np.random.uniform(0,2,(3,3))) #random uniform from 0 to 2\n",
    "#np.random permutation()\n",
    "\n",
    "print(np.random.permutation([1,2,3,4,5,6,7,8,9,10])) #random permutation"
   ]
  },
  {
   "cell_type": "markdown",
   "metadata": {},
   "source": [
    "# operations\n",
    "\n",
    "\n"
   ]
  },
  {
   "cell_type": "code",
   "execution_count": 27,
   "metadata": {},
   "outputs": [
    {
     "name": "stdout",
     "output_type": "stream",
     "text": [
      "[[-7  8 -1]\n",
      " [ 4 -5 -9]\n",
      " [-9  5  8]]\n",
      "[[ 9  5 -3]\n",
      " [ 0 -6  4]\n",
      " [ 7 -2  2]]\n"
     ]
    }
   ],
   "source": [
    "a = np.random.randint(-10,10,(3,3))\n",
    "b = np.random.randint(-10,10,(3,3))\n",
    "print(a)\n",
    "print(b)\n"
   ]
  },
  {
   "cell_type": "code",
   "execution_count": 28,
   "metadata": {},
   "outputs": [
    {
     "data": {
      "text/plain": [
       "array([[49, 64,  1],\n",
       "       [16, 25, 81],\n",
       "       [81, 25, 64]])"
      ]
     },
     "execution_count": 28,
     "metadata": {},
     "output_type": "execute_result"
    }
   ],
   "source": [
    "a **2"
   ]
  },
  {
   "cell_type": "code",
   "execution_count": 29,
   "metadata": {},
   "outputs": [
    {
     "name": "stdout",
     "output_type": "stream",
     "text": [
      "[[  2  13  -4]\n",
      " [  4 -11  -5]\n",
      " [ -2   3  10]]\n",
      "[[-16   3   2]\n",
      " [  4   1 -13]\n",
      " [-16   7   6]]\n",
      "[[-0.77777778  1.6         0.33333333]\n",
      " [        inf  0.83333333 -2.25      ]\n",
      " [-1.28571429 -2.5         4.        ]]\n",
      "[[-63  40   3]\n",
      " [  0  30 -36]\n",
      " [-63 -10  16]]\n",
      "[[-70 -81  51]\n",
      " [-27  68 -50]\n",
      " [-25 -91  63]]\n"
     ]
    },
    {
     "name": "stderr",
     "output_type": "stream",
     "text": [
      "C:\\Users\\win-10\\AppData\\Local\\Temp\\ipykernel_6368\\1012109709.py:3: RuntimeWarning: divide by zero encountered in divide\n",
      "  print(a/b)\n"
     ]
    }
   ],
   "source": [
    "print(a+b)\n",
    "print(a-b)\n",
    "print(a/b)\n",
    "print(a*b)\n",
    "print(a@b) #matrix multiplication"
   ]
  },
  {
   "cell_type": "code",
   "execution_count": 30,
   "metadata": {},
   "outputs": [
    {
     "data": {
      "text/plain": [
       "array([[-70, -81,  51],\n",
       "       [-27,  68, -50],\n",
       "       [-25, -91,  63]])"
      ]
     },
     "execution_count": 30,
     "metadata": {},
     "output_type": "execute_result"
    }
   ],
   "source": [
    "\n",
    "np.matmul(a,b) #or np.dot(a,b) or a @b"
   ]
  }
 ],
 "metadata": {
  "kernelspec": {
   "display_name": "base",
   "language": "python",
   "name": "python3"
  },
  "language_info": {
   "codemirror_mode": {
    "name": "ipython",
    "version": 3
   },
   "file_extension": ".py",
   "mimetype": "text/x-python",
   "name": "python",
   "nbconvert_exporter": "python",
   "pygments_lexer": "ipython3",
   "version": "3.10.9"
  },
  "orig_nbformat": 4
 },
 "nbformat": 4,
 "nbformat_minor": 2
}
