{
 "cells": [
  {
   "cell_type": "code",
   "execution_count": 1,
   "metadata": {},
   "outputs": [
    {
     "data": {
      "text/plain": [
       "' write a program to print numbers from 1 to 10 using for loop  '"
      ]
     },
     "execution_count": 1,
     "metadata": {},
     "output_type": "execute_result"
    }
   ],
   "source": [
    "''' write a program to print numbers from 1 to 10 using for loop  '''"
   ]
  },
  {
   "cell_type": "code",
   "execution_count": 2,
   "metadata": {},
   "outputs": [],
   "source": [
    "#write a program to print numbers from 1 to 10 using for loop"
   ]
  },
  {
   "cell_type": "code",
   "execution_count": 4,
   "metadata": {},
   "outputs": [
    {
     "name": "stdout",
     "output_type": "stream",
     "text": [
      "1\n",
      "2\n",
      "3\n",
      "4\n",
      "5\n",
      "6\n",
      "7\n",
      "8\n",
      "9\n",
      "10\n"
     ]
    }
   ],
   "source": [
    "for i in range(1,11):\n",
    " print(i)"
   ]
  },
  {
   "cell_type": "code",
   "execution_count": 5,
   "metadata": {},
   "outputs": [
    {
     "data": {
      "text/plain": [
       "' Write a program to print the multiplication table of a given number using a while loop. '"
      ]
     },
     "execution_count": 5,
     "metadata": {},
     "output_type": "execute_result"
    }
   ],
   "source": [
    "\"\"\" Write a program to print the multiplication table of a given number using a while loop. \"\"\""
   ]
  },
  {
   "cell_type": "code",
   "execution_count": 9,
   "metadata": {},
   "outputs": [
    {
     "name": "stdout",
     "output_type": "stream",
     "text": [
      "multiplication table of a given number is given \n",
      "\n",
      "5 * 1 = 10\n",
      "5 * 2 = 20\n",
      "5 * 3 = 30\n",
      "5 * 4 = 40\n",
      "5 * 5 = 50\n",
      "5 * 6 = 60\n",
      "5 * 7 = 70\n",
      "5 * 8 = 80\n",
      "5 * 9 = 90\n",
      "5 * 10 = 100\n"
     ]
    }
   ],
   "source": [
    "number = int(input(\"enter a number\"))\n",
    "print(\"multiplication table of a given number is given \\n\")\n",
    "i = 1\n",
    "while i <= 10:\n",
    "      result = i * 10\n",
    "      print(number, '*', i,'=', result)\n",
    "      i += 1\n"
   ]
  },
  {
   "cell_type": "code",
   "execution_count": 1,
   "metadata": {},
   "outputs": [
    {
     "data": {
      "text/plain": [
       "'Write a program to find the sum of all even numbers between 1 and 100 using a for loop.\\n'"
      ]
     },
     "execution_count": 1,
     "metadata": {},
     "output_type": "execute_result"
    }
   ],
   "source": [
    "'''Write a program to find the sum of all even numbers between 1 and 100 using a for loop.\n",
    "'''"
   ]
  },
  {
   "cell_type": "code",
   "execution_count": 2,
   "metadata": {},
   "outputs": [
    {
     "name": "stdout",
     "output_type": "stream",
     "text": [
      "The sum of all even numbers between 1 and 100 is: 2550\n"
     ]
    }
   ],
   "source": [
    "sum_of_evens = 0\n",
    "\n",
    "for num in range(1, 101):\n",
    "    if num % 2 == 0:\n",
    "        sum_of_evens += num\n",
    "\n",
    "print(\"The sum of all even numbers between 1 and 100 is:\", sum_of_evens)"
   ]
  },
  {
   "cell_type": "code",
   "execution_count": 3,
   "metadata": {},
   "outputs": [
    {
     "data": {
      "text/plain": [
       "'Write a program to check if a given number is prime or not using a while loop.\\n'"
      ]
     },
     "execution_count": 3,
     "metadata": {},
     "output_type": "execute_result"
    }
   ],
   "source": [
    "'''Write a program to check if a given number is prime or not using a while loop.\n",
    "'''"
   ]
  },
  {
   "cell_type": "code",
   "execution_count": 10,
   "metadata": {},
   "outputs": [
    {
     "name": "stdout",
     "output_type": "stream",
     "text": [
      "Given number is 49\n",
      "49 is not a prime number\n"
     ]
    }
   ],
   "source": [
    "num = int(input(\"Enter a number: \"))\n",
    "print(\"Given number is\", num)\n",
    "\n",
    "if num == 1:\n",
    "    print(\"It is not a prime number\")\n",
    "else:\n",
    "    i = 2\n",
    "    while i * i <= num:\n",
    "        if num % i == 0:\n",
    "            print(num, \"is not a prime number\")\n",
    "            break\n",
    "        i += 1\n",
    "    else:\n",
    "        print(num, \"is a prime number.\")\n"
   ]
  },
  {
   "cell_type": "code",
   "execution_count": 11,
   "metadata": {},
   "outputs": [
    {
     "data": {
      "text/plain": [
       "'Write a program to calculate the factorial of a number using a for loop.'"
      ]
     },
     "execution_count": 11,
     "metadata": {},
     "output_type": "execute_result"
    }
   ],
   "source": [
    "\"\"\"Write a program to calculate the factorial of a number using a for loop.\"\"\""
   ]
  },
  {
   "cell_type": "code",
   "execution_count": 12,
   "metadata": {},
   "outputs": [
    {
     "name": "stdout",
     "output_type": "stream",
     "text": [
      "The factorial of 8 is 40320\n"
     ]
    }
   ],
   "source": [
    "num = int(input(\"Enter a number: \"))\n",
    "\n",
    "factorial = 1\n",
    "\n",
    "for i in range(1, num + 1):\n",
    "    factorial *= i\n",
    "\n",
    "print(\"The factorial of\", num, \"is\", factorial)\n"
   ]
  },
  {
   "cell_type": "markdown",
   "metadata": {},
   "source": [
    "Write a program to print the Fibonacci series up to a given limit using a while loop."
   ]
  },
  {
   "cell_type": "code",
   "execution_count": 2,
   "metadata": {},
   "outputs": [
    {
     "name": "stdout",
     "output_type": "stream",
     "text": [
      "fibonacci series up to 5 limit\n",
      "0 \n",
      "1 \n",
      "1 \n",
      "2 \n",
      "3 \n",
      "5 \n"
     ]
    }
   ],
   "source": [
    "limit = int(input(\"enter limit\"))\n",
    "a, b = 0, 1\n",
    "print(f'fibonacci series up to {limit} limit')\n",
    "\n",
    "while a<=limit:\n",
    "    print(a, '')\n",
    "    a, b= b, a+b"
   ]
  },
  {
   "cell_type": "markdown",
   "metadata": {},
   "source": [
    "• Write a program to find the largest element in an array using a for loop."
   ]
  },
  {
   "cell_type": "code",
   "execution_count": null,
   "metadata": {},
   "outputs": [],
   "source": [
    "arr = [5, 8, 2, 11, 3, 6]\n",
    "largest = arr[0]\n",
    "for num in arr:\n",
    "    if num > largest:\n",
    "        largest = num\n",
    "print(\"The largest element in the array is:\", largest)\n"
   ]
  },
  {
   "cell_type": "markdown",
   "metadata": {},
   "source": [
    "Write a program to reverse a given string using a while loop."
   ]
  },
  {
   "cell_type": "code",
   "execution_count": 1,
   "metadata": {},
   "outputs": [
    {
     "name": "stdout",
     "output_type": "stream",
     "text": [
      "reverse string atimaN\n"
     ]
    }
   ],
   "source": [
    "string = input('enter a string')\n",
    "i=len(string)-1\n",
    "rev = ''\n",
    "while i>=0:\n",
    "    rev=rev+string[i]\n",
    "    i=i-1\n",
    "print(f\"reverse string {rev}\")\n"
   ]
  },
  {
   "cell_type": "markdown",
   "metadata": {},
   "source": [
    "Write a program to print the ASCII values of all uppercase letters using a for loop."
   ]
  },
  {
   "cell_type": "code",
   "execution_count": 2,
   "metadata": {},
   "outputs": [
    {
     "name": "stdout",
     "output_type": "stream",
     "text": [
      "Character: A, ASCII Value: 0\n",
      "Character: B, ASCII Value: 1\n",
      "Character: C, ASCII Value: 2\n",
      "Character: D, ASCII Value: 3\n",
      "Character: E, ASCII Value: 4\n",
      "Character: F, ASCII Value: 5\n",
      "Character: G, ASCII Value: 6\n",
      "Character: H, ASCII Value: 7\n",
      "Character: I, ASCII Value: 8\n",
      "Character: J, ASCII Value: 9\n",
      "Character: K, ASCII Value: 10\n",
      "Character: L, ASCII Value: 11\n",
      "Character: M, ASCII Value: 12\n",
      "Character: N, ASCII Value: 13\n",
      "Character: O, ASCII Value: 14\n",
      "Character: P, ASCII Value: 15\n",
      "Character: Q, ASCII Value: 16\n",
      "Character: R, ASCII Value: 17\n",
      "Character: S, ASCII Value: 18\n",
      "Character: T, ASCII Value: 19\n",
      "Character: U, ASCII Value: 20\n",
      "Character: V, ASCII Value: 21\n",
      "Character: W, ASCII Value: 22\n",
      "Character: X, ASCII Value: 23\n",
      "Character: Y, ASCII Value: 24\n",
      "Character: Z, ASCII Value: 25\n"
     ]
    }
   ],
   "source": [
    "a = 'ABCDEFGHIJKLMNOPQRSTUVWXYZ'\n",
    "for index, character in enumerate(a):\n",
    " print(f'Character: {character}, ASCII Value: {index}')"
   ]
  },
  {
   "cell_type": "markdown",
   "metadata": {},
   "source": [
    "Write a program to check if a given string is a palindrome using a while loop."
   ]
  },
  {
   "cell_type": "code",
   "execution_count": null,
   "metadata": {},
   "outputs": [],
   "source": [
    "string = input('enter a string')\n",
    "i=len(string)-1\n",
    "rev = ''\n",
    "while i>=0:\n",
    "    rev=rev+string[i]\n",
    "    i=i-1\n",
    "if string == rev:\n",
    "    print(\"given string is a palindrome string\")\n",
    "else:\n",
    "    print(\"given string is not a palindrome\")"
   ]
  },
  {
   "cell_type": "markdown",
   "metadata": {},
   "source": [
    "Write a program to calculate the average of a list of numbers using a for loop."
   ]
  },
  {
   "cell_type": "code",
   "execution_count": 6,
   "metadata": {},
   "outputs": [
    {
     "name": "stdout",
     "output_type": "stream",
     "text": [
      "Average: 6.0\n"
     ]
    }
   ],
   "source": [
    "numbers_list = [2, 4, 6, 8, 10]\n",
    "length = len(numbers_list)\n",
    "sum_of_numbers = 0\n",
    "for number in numbers_list:\n",
    "    sum_of_numbers += number\n",
    "average = sum_of_numbers / length\n",
    "print(\"Average:\", average)\n"
   ]
  },
  {
   "cell_type": "markdown",
   "metadata": {},
   "source": [
    "Write a program to find the smallest element in an array using a while loop."
   ]
  },
  {
   "cell_type": "code",
   "execution_count": null,
   "metadata": {},
   "outputs": [],
   "source": [
    "array = [5, 3, 9, 1, 7, 2]\n",
    "\n",
    "if not array:\n",
    "    print(\"Array is empty.\")\n",
    "else:\n",
    "    smallest = array[0]\n",
    "    i = 1\n",
    "\n",
    "    while i < len(array):\n",
    "        if array[i] < smallest:\n",
    "            smallest = array[i]\n",
    "        i += 1\n",
    "\n",
    "    print(\"Smallest element:\", smallest)\n"
   ]
  },
  {
   "cell_type": "markdown",
   "metadata": {},
   "source": [
    "Write a program to calculate the sum of digits of a number using a for loop."
   ]
  },
  {
   "cell_type": "code",
   "execution_count": 8,
   "metadata": {},
   "outputs": [
    {
     "name": "stdout",
     "output_type": "stream",
     "text": [
      "3456\n",
      "Sum of digits: 18\n"
     ]
    }
   ],
   "source": [
    "number = int(input(\"Enter a number: \"))\n",
    "print(number)\n",
    "number_str = str(number)\n",
    "sum_of_digits = 0\n",
    "for digit in number_str:\n",
    "    sum_of_digits += int(digit)\n",
    "print(\"Sum of digits:\", sum_of_digits)\n"
   ]
  },
  {
   "cell_type": "markdown",
   "metadata": {},
   "source": [
    "Write a program to check if a given year is a leap year using a while loop."
   ]
  },
  {
   "cell_type": "code",
   "execution_count": 1,
   "metadata": {},
   "outputs": [
    {
     "name": "stdout",
     "output_type": "stream",
     "text": [
      "2003 is not a leap year.\n"
     ]
    }
   ],
   "source": [
    "year = int(input(\"Enter a year: \"))\n",
    "\n",
    "is_leap_year = False\n",
    "\n",
    "while year % 4 == 0:\n",
    "    if year % 100 == 0:\n",
    "        if year % 400 == 0:\n",
    "            is_leap_year = True\n",
    "        break\n",
    "    else:\n",
    "        is_leap_year = True\n",
    "        break\n",
    "\n",
    "if is_leap_year:\n",
    "    print(year, \"is a leap year.\")\n",
    "else:\n",
    "    print(year, \"is not a leap year.\")\n"
   ]
  },
  {
   "cell_type": "markdown",
   "metadata": {},
   "source": [
    "Write a program to print the multiplication table of numbers from 1 to 5 using a for loop."
   ]
  },
  {
   "cell_type": "code",
   "execution_count": 9,
   "metadata": {},
   "outputs": [
    {
     "name": "stdout",
     "output_type": "stream",
     "text": [
      "1 x 1 = 1\n",
      "1 x 2 = 2\n",
      "1 x 3 = 3\n",
      "1 x 4 = 4\n",
      "1 x 5 = 5\n",
      "1 x 6 = 6\n",
      "1 x 7 = 7\n",
      "1 x 8 = 8\n",
      "1 x 9 = 9\n",
      "1 x 10 = 10\n",
      "2 x 1 = 2\n",
      "2 x 2 = 4\n",
      "2 x 3 = 6\n",
      "2 x 4 = 8\n",
      "2 x 5 = 10\n",
      "2 x 6 = 12\n",
      "2 x 7 = 14\n",
      "2 x 8 = 16\n",
      "2 x 9 = 18\n",
      "2 x 10 = 20\n",
      "3 x 1 = 3\n",
      "3 x 2 = 6\n",
      "3 x 3 = 9\n",
      "3 x 4 = 12\n",
      "3 x 5 = 15\n",
      "3 x 6 = 18\n",
      "3 x 7 = 21\n",
      "3 x 8 = 24\n",
      "3 x 9 = 27\n",
      "3 x 10 = 30\n",
      "4 x 1 = 4\n",
      "4 x 2 = 8\n",
      "4 x 3 = 12\n",
      "4 x 4 = 16\n",
      "4 x 5 = 20\n",
      "4 x 6 = 24\n",
      "4 x 7 = 28\n",
      "4 x 8 = 32\n",
      "4 x 9 = 36\n",
      "4 x 10 = 40\n",
      "5 x 1 = 5\n",
      "5 x 2 = 10\n",
      "5 x 3 = 15\n",
      "5 x 4 = 20\n",
      "5 x 5 = 25\n",
      "5 x 6 = 30\n",
      "5 x 7 = 35\n",
      "5 x 8 = 40\n",
      "5 x 9 = 45\n",
      "5 x 10 = 50\n"
     ]
    }
   ],
   "source": [
    "for n in range(1, 6):\n",
    "    for i in range(1, 11):\n",
    "        m= n*i\n",
    "        print(f'{n} x {i} = {m}')"
   ]
  },
  {
   "cell_type": "markdown",
   "metadata": {},
   "source": []
  },
  {
   "cell_type": "markdown",
   "metadata": {},
   "source": [
    "Write a program to find the factorial of a number using a while loop.\n",
    "\n"
   ]
  },
  {
   "cell_type": "code",
   "execution_count": 1,
   "metadata": {},
   "outputs": [
    {
     "name": "stdout",
     "output_type": "stream",
     "text": [
      "Factorial: 40320\n"
     ]
    }
   ],
   "source": [
    "number = int(input(\"Enter a number: \"))\n",
    "factorial = 1\n",
    "\n",
    "while number > 0:\n",
    "    factorial *= number\n",
    "    number -= 1\n",
    "\n",
    "print(\"Factorial:\", factorial)\n"
   ]
  },
  {
   "cell_type": "markdown",
   "metadata": {},
   "source": [
    "Write a program to count the number of vowels in a given string using a for loop."
   ]
  },
  {
   "cell_type": "code",
   "execution_count": 3,
   "metadata": {},
   "outputs": [
    {
     "name": "stdout",
     "output_type": "stream",
     "text": [
      "Number of vowels: 3\n"
     ]
    }
   ],
   "source": [
    "string = input(\"Enter a string: \")\n",
    "vowels = \"AEIOUaeiou\"\n",
    "count = 0\n",
    "\n",
    "for char in string:\n",
    "    if char in vowels:\n",
    "        count += 1\n",
    "\n",
    "print(\"Number of vowels:\", count)\n"
   ]
  },
  {
   "cell_type": "markdown",
   "metadata": {},
   "source": [
    "Write a program to check if a given number is a perfect square using a while loop."
   ]
  },
  {
   "cell_type": "code",
   "execution_count": 4,
   "metadata": {},
   "outputs": [
    {
     "name": "stdout",
     "output_type": "stream",
     "text": [
      "The number is a perfect square.\n"
     ]
    }
   ],
   "source": [
    "number = int(input(\"Enter a number: \"))\n",
    "is_perfect_square = False\n",
    "i = 1\n",
    "\n",
    "while i * i <= number:\n",
    "    if i * i == number:\n",
    "        is_perfect_square = True\n",
    "        break\n",
    "    i += 1\n",
    "\n",
    "if is_perfect_square:\n",
    "    print(\"The number is a perfect square.\")\n",
    "else:\n",
    "    print(\"The number is not a perfect square.\")\n"
   ]
  },
  {
   "cell_type": "markdown",
   "metadata": {},
   "source": [
    "Write a program to find the largest and smallest elements in an array using a for loop."
   ]
  },
  {
   "cell_type": "code",
   "execution_count": 2,
   "metadata": {},
   "outputs": [
    {
     "name": "stdout",
     "output_type": "stream",
     "text": [
      "Smallest element: 1\n",
      "Largest element: 9\n"
     ]
    }
   ],
   "source": [
    "array = [5, 3, 9, 1, 7, 2]\n",
    "smallest = largest = array[0]\n",
    "\n",
    "for num in array:\n",
    "    if num < smallest:\n",
    "        smallest = num\n",
    "    if num > largest:\n",
    "        largest = num\n",
    "\n",
    "print(\"Smallest element:\", smallest)\n",
    "print(\"Largest element:\", largest)\n"
   ]
  },
  {
   "cell_type": "markdown",
   "metadata": {},
   "source": [
    "Write a program to reverse the order of words in a sentence using a while loop.\n",
    "in python"
   ]
  },
  {
   "cell_type": "code",
   "execution_count": 3,
   "metadata": {},
   "outputs": [
    {
     "name": "stdout",
     "output_type": "stream",
     "text": [
      "Reversed sentence: best the is namita\n"
     ]
    }
   ],
   "source": [
    "sentence = input(\"Enter a sentence: \")\n",
    "words = sentence.split()\n",
    "reversed_sentence = \"\"\n",
    "i = len(words) - 1\n",
    "\n",
    "while i >= 0:\n",
    "    reversed_sentence += words[i] + \" \"\n",
    "    i -= 1\n",
    "\n",
    "print(\"Reversed sentence:\", reversed_sentence.strip())\n"
   ]
  }
 ],
 "metadata": {
  "kernelspec": {
   "display_name": "Python 3",
   "language": "python",
   "name": "python3"
  },
  "language_info": {
   "codemirror_mode": {
    "name": "ipython",
    "version": 3
   },
   "file_extension": ".py",
   "mimetype": "text/x-python",
   "name": "python",
   "nbconvert_exporter": "python",
   "pygments_lexer": "ipython3",
   "version": "3.10.10"
  },
  "orig_nbformat": 4
 },
 "nbformat": 4,
 "nbformat_minor": 2
}
