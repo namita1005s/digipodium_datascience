{
 "cells": [
  {
   "cell_type": "markdown",
   "metadata": {},
   "source": [
    "data structure\n",
    " list # imp\n",
    "  indexed,mutable,ordered,'[ ]'\n",
    " tuple\n",
    "  indexed,ordered,immutable,'( )'\n",
    " set\n",
    "  unidexed,unodered,mutable,no duplcation,'{ }'\n",
    " dictionary #imp\n",
    "  unindexed,key-value pairs,mutable, '{ }'"
   ]
  },
  {
   "cell_type": "markdown",
   "metadata": {},
   "source": [
    "creating a list"
   ]
  },
  {
   "cell_type": "code",
   "execution_count": 2,
   "metadata": {},
   "outputs": [
    {
     "name": "stdout",
     "output_type": "stream",
     "text": [
      "[10, 10, 10, 10, 10]\n"
     ]
    }
   ],
   "source": [
    "x = [] #empty  list\n",
    "y = [1,2,3,4,5] #list of integers\n",
    "grocery = ['milk',55,'bread',20,'butter',49]\n",
    "z = ['sunday','monday','tuesday']\n",
    "info = [[1,2,3],[4,5,6],[7,8],[9,10,11]] #nested list\n",
    "a = [10]*5 #list of 5 elements with value 10\n",
    "print(a)"
   ]
  },
  {
   "cell_type": "markdown",
   "metadata": {},
   "source": [
    "indexing"
   ]
  },
  {
   "cell_type": "code",
   "execution_count": 1,
   "metadata": {},
   "outputs": [
    {
     "name": "stdout",
     "output_type": "stream",
     "text": [
      "apple\n",
      "cherry\n",
      "date\n"
     ]
    }
   ],
   "source": [
    "my_list = ['apple', 'banana', 'cherry', 'date']\n",
    "\n",
    "print(my_list[0])    \n",
    "print(my_list[2])    \n",
    "print(my_list[-1])   # (Negative index accesses elements from the end)\n"
   ]
  },
  {
   "cell_type": "markdown",
   "metadata": {},
   "source": [
    "slicing"
   ]
  },
  {
   "cell_type": "code",
   "execution_count": 2,
   "metadata": {},
   "outputs": [
    {
     "name": "stdout",
     "output_type": "stream",
     "text": [
      "['banana', 'cherry']\n",
      "['apple', 'banana']\n",
      "['cherry', 'date', 'elderberry']\n",
      "['banana', 'date']\n"
     ]
    }
   ],
   "source": [
    "my_list = ['apple', 'banana', 'cherry', 'date', 'elderberry']\n",
    "\n",
    "print(my_list[1:3])     \n",
    "print(my_list[:2])      \n",
    "print(my_list[2:])      \n",
    "print(my_list[1:4:2])   \n"
   ]
  },
  {
   "cell_type": "code",
   "execution_count": 6,
   "metadata": {},
   "outputs": [
    {
     "name": "stdout",
     "output_type": "stream",
     "text": [
      "[10, 10, 100, 10, 5, 10, 6]\n"
     ]
    }
   ],
   "source": [
    "x.append(10) #append(element): Adds an element to the end of the list.\n",
    "x.append(int(input(\"Enter the number: \")))\n",
    "print(x)"
   ]
  },
  {
   "cell_type": "code",
   "execution_count": 7,
   "metadata": {},
   "outputs": [
    {
     "name": "stdout",
     "output_type": "stream",
     "text": [
      "[10, 5]\n"
     ]
    }
   ],
   "source": [
    "x = []\n",
    "x.append(10)\n",
    "x.append(int(input(\"Enter the number: \")))\n",
    "print(x)\n"
   ]
  },
  {
   "cell_type": "code",
   "execution_count": 8,
   "metadata": {},
   "outputs": [
    {
     "name": "stdout",
     "output_type": "stream",
     "text": [
      "[5, 10]\n"
     ]
    }
   ],
   "source": [
    "x = []\n",
    "x.append(int(input(\"Enter the number: \")))\n",
    "x.append(10)\n",
    "print(x)\n"
   ]
  },
  {
   "cell_type": "code",
   "execution_count": 9,
   "metadata": {},
   "outputs": [
    {
     "name": "stdout",
     "output_type": "stream",
     "text": [
      "[5, 10, 5, 7, 6]\n"
     ]
    }
   ],
   "source": [
    "for i in range(3):\n",
    "    val = int(input(\"enter a number: \"))\n",
    "    x.append(val)\n",
    "print(x)"
   ]
  },
  {
   "cell_type": "code",
   "execution_count": 10,
   "metadata": {},
   "outputs": [],
   "source": [
    "del info #deleting the list"
   ]
  },
  {
   "cell_type": "markdown",
   "metadata": {},
   "source": [
    "Slicing and indexing in list"
   ]
  },
  {
   "cell_type": "code",
   "execution_count": 11,
   "metadata": {},
   "outputs": [
    {
     "name": "stdout",
     "output_type": "stream",
     "text": [
      "5 6 7\n",
      "[5, 10, 5]\n",
      "[5, 7, 6]\n",
      "[6, 7, 5, 10, 5]\n"
     ]
    }
   ],
   "source": [
    "print(x[0],x[-1],x[-2])\n",
    "print(x[ :-2])\n",
    "print(x[-3: ])\n",
    "print(x[::-1])"
   ]
  },
  {
   "cell_type": "code",
   "execution_count": 13,
   "metadata": {},
   "outputs": [
    {
     "name": "stdout",
     "output_type": "stream",
     "text": [
      "5😂10😂5😂7😂6😂"
     ]
    }
   ],
   "source": [
    "for i in x:\n",
    "    print(i, end='😂')"
   ]
  },
  {
   "cell_type": "code",
   "execution_count": 12,
   "metadata": {},
   "outputs": [
    {
     "name": "stdout",
     "output_type": "stream",
     "text": [
      "5 10 5 7 6 "
     ]
    }
   ],
   "source": [
    "for i in x:\n",
    "    print(i, end= ' ')"
   ]
  },
  {
   "cell_type": "markdown",
   "metadata": {},
   "source": [
    "List Methods:\n",
    "\n",
    "Python provides several built-in methods that you can use to manipulate lists. Here are some commonly used methods:\n",
    "\n",
    "append(element): Adds an element to the end of the list.\n",
    "insert(index, element): Inserts an element at the specified index.\n",
    "extend(iterable): Appends elements from another iterable (e.g., another list) to the end of the list.\n",
    "remove(element): Removes the first occurrence of the specified element from the list.\n",
    "pop(index): Removes and returns the element at the specified index. If no index is provided, it removes and returns the last element.\n",
    "index(element): Returns the index of the first occurrence of the specified element.\n",
    "count(element): Returns the number of occurrences of the specified element in the list.\n",
    "sort(): Sorts the list in ascending order.\n",
    "reverse(): Reverses the order of elements in the list."
   ]
  },
  {
   "cell_type": "markdown",
   "metadata": {},
   "source": [
    "list have total 11 functions\n",
    " adding\n",
    "  append() - add single item to the end\n",
    "  extend() - insert single item at the given index\n",
    "  insert() - merge an list to an existing list\n",
    " remove\n",
    "  remove() - remove single item by value\n",
    "  pop() - remove single item by index\n",
    "  clear() - remove all items\n",
    " utility\n",
    "  index() - find index of item by value\n",
    "  count() - count repeated items\n",
    "  sort() - sort items\n",
    "  reverse() - reverse items\n",
    "  copy() - copy list"
   ]
  },
  {
   "cell_type": "code",
   "execution_count": 7,
   "metadata": {},
   "outputs": [
    {
     "name": "stdout",
     "output_type": "stream",
     "text": [
      "['apple', 'banana', 'cherry', 'date']\n",
      "['apple', 'avocado', 'banana', 'cherry', 'date']\n",
      "['apple', 'avocado', 'banana', 'cherry', 'date', 'elderberry', 'fig']\n",
      "['apple', 'banana', 'cherry', 'date', 'elderberry', 'fig']\n",
      "cherry\n",
      "1\n",
      "1\n",
      "['apple', 'banana', 'date', 'elderberry', 'fig']\n",
      "['fig', 'elderberry', 'date', 'banana', 'apple']\n"
     ]
    }
   ],
   "source": [
    "my_list = ['apple', 'banana', 'cherry']\n",
    "\n",
    "my_list.append('date')\n",
    "print(my_list)         \n",
    "\n",
    "my_list.insert(1, 'avocado')\n",
    "print(my_list)         \n",
    "\n",
    "my_list.extend(['elderberry', 'fig'])\n",
    "print(my_list)         \n",
    "\n",
    "my_list.remove('avocado')\n",
    "print(my_list)         \n",
    "\n",
    "popped_item = my_list.pop(2)\n",
    "print(popped_item)     \n",
    "\n",
    "print(my_list.index('banana'))  \n",
    "\n",
    "print(my_list.count('apple'))   \n",
    "\n",
    "my_list.sort()\n",
    "print(my_list)        \n",
    "\n",
    "my_list.reverse()\n",
    "print(my_list)         "
   ]
  },
  {
   "cell_type": "markdown",
   "metadata": {},
   "source": [
    "append()"
   ]
  },
  {
   "cell_type": "code",
   "execution_count": 6,
   "metadata": {},
   "outputs": [
    {
     "data": {
      "text/plain": [
       "['The Final Empire', 'Psychology of Money', 'Well of Ascension']"
      ]
     },
     "execution_count": 6,
     "metadata": {},
     "output_type": "execute_result"
    }
   ],
   "source": [
    "books = [] #empty list\n",
    "books.append('The Final Empire')\n",
    "books.append('Psychology of Money')\n",
    "books.append('Well of Ascension')\n",
    "books"
   ]
  },
  {
   "cell_type": "markdown",
   "metadata": {},
   "source": [
    "inset()"
   ]
  },
  {
   "cell_type": "code",
   "execution_count": 2,
   "metadata": {},
   "outputs": [
    {
     "data": {
      "text/plain": [
       "['The Final Empire',\n",
       " 'Harry Potter',\n",
       " 'Psychology of Money',\n",
       " 'Well of Ascension']"
      ]
     },
     "execution_count": 2,
     "metadata": {},
     "output_type": "execute_result"
    }
   ],
   "source": [
    "books.insert(1, \"Harry Potter\")\n",
    "books"
   ]
  },
  {
   "cell_type": "code",
   "execution_count": 3,
   "metadata": {},
   "outputs": [
    {
     "data": {
      "text/plain": [
       "['The Final Empire', 'Harry Potter', 'The Hero of Ages', 'Well of Ascension']"
      ]
     },
     "execution_count": 3,
     "metadata": {},
     "output_type": "execute_result"
    }
   ],
   "source": [
    "books[2] = \"The Hero of Ages\"\n",
    "books"
   ]
  },
  {
   "cell_type": "markdown",
   "metadata": {},
   "source": [
    "extend()"
   ]
  },
  {
   "cell_type": "code",
   "execution_count": 4,
   "metadata": {},
   "outputs": [
    {
     "data": {
      "text/plain": [
       "['The Final Empire',\n",
       " 'Harry Potter',\n",
       " 'The Hero of Ages',\n",
       " 'Well of Ascension',\n",
       " 'The Lord of Rings',\n",
       " 'Umbrella',\n",
       " 'The Jungle Book',\n",
       " 'Pride and Prejudice']"
      ]
     },
     "execution_count": 4,
     "metadata": {},
     "output_type": "execute_result"
    }
   ],
   "source": [
    "old_books = [\"The Lord of Rings\",\"Umbrella\",\"The Jungle Book\",\"Pride and Prejudice\"]\n",
    "books.extend(old_books)\n",
    "books"
   ]
  },
  {
   "cell_type": "markdown",
   "metadata": {},
   "source": [
    "remove()"
   ]
  },
  {
   "cell_type": "code",
   "execution_count": null,
   "metadata": {},
   "outputs": [],
   "source": [
    "if 'The Jungle Book' in books:\n",
    "   books.remove('The Jungle Book') #removes only the first Occurence\n",
    "books"
   ]
  },
  {
   "cell_type": "markdown",
   "metadata": {},
   "source": [
    "pop()"
   ]
  },
  {
   "cell_type": "code",
   "execution_count": 5,
   "metadata": {},
   "outputs": [
    {
     "data": {
      "text/plain": [
       "'The Lord of Rings'"
      ]
     },
     "execution_count": 5,
     "metadata": {},
     "output_type": "execute_result"
    }
   ],
   "source": [
    "books.pop(4) #it remove the item and return the same item as the output"
   ]
  },
  {
   "cell_type": "code",
   "execution_count": 7,
   "metadata": {},
   "outputs": [
    {
     "data": {
      "text/plain": [
       "['The Final Empire',\n",
       " 'Harry Potter',\n",
       " 'The Hero of Ages',\n",
       " 'Well of Ascension',\n",
       " 'Umbrella']"
      ]
     },
     "execution_count": 7,
     "metadata": {},
     "output_type": "execute_result"
    }
   ],
   "source": [
    "books.pop() #removes the last item\n",
    "books"
   ]
  },
  {
   "cell_type": "markdown",
   "metadata": {},
   "source": [
    "clear()"
   ]
  },
  {
   "cell_type": "code",
   "execution_count": 8,
   "metadata": {},
   "outputs": [
    {
     "data": {
      "text/plain": [
       "[]"
      ]
     },
     "execution_count": 8,
     "metadata": {},
     "output_type": "execute_result"
    }
   ],
   "source": [
    "books.clear()\n",
    "books"
   ]
  },
  {
   "cell_type": "code",
   "execution_count": 9,
   "metadata": {},
   "outputs": [
    {
     "data": {
      "text/plain": [
       "['The Shawshank Redemption',\n",
       " 'The Godfather',\n",
       " 'Pulp Fiction',\n",
       " 'The Dark Knight',\n",
       " 'Fight Club',\n",
       " 'Forrest Gump',\n",
       " 'Inception',\n",
       " 'The Matrix',\n",
       " 'Star Wars: Episode IV - A New Hope',\n",
       " 'The Lord of the Rings: The Fellowship of the Ring',\n",
       " 'The Lion King',\n",
       " 'Titanic',\n",
       " 'The Avengers',\n",
       " 'Interstellar',\n",
       " 'Gladiator',\n",
       " 'The Departed',\n",
       " 'Goodfellas',\n",
       " 'The Silence of the Lambs',\n",
       " 'Saving Private Ryan',\n",
       " 'The Prestige',\n",
       " 'The Green Mile',\n",
       " 'The Godfather: Part II',\n",
       " 'The Dark Knight Rises',\n",
       " 'The Shawshank Redemption',\n",
       " 'The Usual Suspects',\n",
       " \"Schindler's List\",\n",
       " 'The Terminator',\n",
       " 'The Social Network',\n",
       " 'The Notebook',\n",
       " 'The Sixth Sense',\n",
       " 'The Great Gatsby',\n",
       " 'The Breakfast Club',\n",
       " 'The Princess Bride',\n",
       " 'The Exorcist',\n",
       " 'The Shining',\n",
       " 'The Big Lebowski',\n",
       " 'The Wizard of Oz',\n",
       " 'The Sound of Music',\n",
       " 'The Graduate',\n",
       " 'The Good, the Bad and the Ugly',\n",
       " 'The Rocky Horror Picture Show',\n",
       " 'The Goonies',\n",
       " 'The Godfather: Part III',\n",
       " 'The Hobbit: An Unexpected Journey',\n",
       " 'The Avengers: Endgame',\n",
       " 'The Lion King (2019)',\n",
       " 'The Dark Knight Rises',\n",
       " 'The Empire Strikes Back',\n",
       " 'The Lord of the Rings: The Two Towers',\n",
       " 'The Little Mermaid',\n",
       " 'The Jungle Book',\n",
       " 'The Princess and the Frog',\n",
       " 'The Hunchback of Notre Dame',\n",
       " 'The Nightmare Before Christmas',\n",
       " 'The Beauty and the Beast',\n",
       " 'The Incredibles',\n",
       " \"The Lion King II: Simba's Pride\",\n",
       " 'The Iron Giant',\n",
       " \"The Emperor's New Groove\",\n",
       " 'The Aladdin',\n",
       " 'The Finding Nemo',\n",
       " 'The Toy Story',\n",
       " 'The Wall-E',\n",
       " 'The Inside Out',\n",
       " 'The Zootopia',\n",
       " 'The Moana',\n",
       " 'The Coco',\n",
       " 'The Mulan',\n",
       " 'The Ratatouille',\n",
       " 'The Frozen',\n",
       " 'The Up',\n",
       " 'The Tangled',\n",
       " 'The Brave',\n",
       " 'The Cars',\n",
       " 'The The Nightmare Before Christmas',\n",
       " 'The Monsters, Inc.',\n",
       " 'The Big Hero 6',\n",
       " 'The The Princess Bride',\n",
       " 'The The Dark Crystal',\n",
       " 'The The Muppet Movie',\n",
       " 'The Labyrinth',\n",
       " 'The The Wizard of Oz',\n",
       " 'The The NeverEnding Story',\n",
       " 'The The Iron Giant',\n",
       " 'The The Lion King (2019)',\n",
       " 'The The Jungle Book (2016)',\n",
       " 'The The Chronicles of Narnia: The Lion, the Witch and the Wardrobe',\n",
       " \"The The Harry Potter and the Sorcerer's Stone\",\n",
       " 'The The Lord of the Rings: The Fellowship of the Ring',\n",
       " 'The The Spider-Man: Into the Spider-Verse',\n",
       " 'The The Captain America: The Winter Soldier',\n",
       " 'The The Thor: Ragnarok',\n",
       " 'The The Black Panther',\n",
       " 'The The Guardians of the Galaxy',\n",
       " 'The The Wonder Woman',\n",
       " 'The The Avengers: Infinity War',\n",
       " 'The The Deadpool',\n",
       " 'The The Joker',\n",
       " 'The The Batman',\n",
       " 'The The Fast and the Furious']"
      ]
     },
     "execution_count": 9,
     "metadata": {},
     "output_type": "execute_result"
    }
   ],
   "source": [
    "movies = '''The Shawshank Redemption\n",
    "The Godfather\n",
    "Pulp Fiction\n",
    "The Dark Knight\n",
    "Fight Club\n",
    "Forrest Gump\n",
    "Inception\n",
    "The Matrix\n",
    "Star Wars: Episode IV - A New Hope\n",
    "The Lord of the Rings: The Fellowship of the Ring\n",
    "The Lion King\n",
    "Titanic\n",
    "The Avengers\n",
    "Interstellar\n",
    "Gladiator\n",
    "The Departed\n",
    "Goodfellas\n",
    "The Silence of the Lambs\n",
    "Saving Private Ryan\n",
    "The Prestige\n",
    "The Green Mile\n",
    "The Godfather: Part II\n",
    "The Dark Knight Rises\n",
    "The Shawshank Redemption\n",
    "The Usual Suspects\n",
    "Schindler's List\n",
    "The Terminator\n",
    "The Social Network\n",
    "The Notebook\n",
    "The Sixth Sense\n",
    "The Great Gatsby\n",
    "The Breakfast Club\n",
    "The Princess Bride\n",
    "The Exorcist\n",
    "The Shining\n",
    "The Big Lebowski\n",
    "The Wizard of Oz\n",
    "The Sound of Music\n",
    "The Graduate\n",
    "The Good, the Bad and the Ugly\n",
    "The Rocky Horror Picture Show\n",
    "The Goonies\n",
    "The Godfather: Part III\n",
    "The Hobbit: An Unexpected Journey\n",
    "The Avengers: Endgame\n",
    "The Lion King (2019)\n",
    "The Dark Knight Rises\n",
    "The Empire Strikes Back\n",
    "The Lord of the Rings: The Two Towers\n",
    "The Little Mermaid\n",
    "The Jungle Book\n",
    "The Princess and the Frog\n",
    "The Hunchback of Notre Dame\n",
    "The Nightmare Before Christmas\n",
    "The Beauty and the Beast\n",
    "The Incredibles\n",
    "The Lion King II: Simba's Pride\n",
    "The Iron Giant\n",
    "The Emperor's New Groove\n",
    "The Aladdin\n",
    "The Finding Nemo\n",
    "The Toy Story\n",
    "The Wall-E\n",
    "The Inside Out\n",
    "The Zootopia\n",
    "The Moana\n",
    "The Coco\n",
    "The Mulan\n",
    "The Ratatouille\n",
    "The Frozen\n",
    "The Up\n",
    "The Tangled\n",
    "The Brave\n",
    "The Cars\n",
    "The The Nightmare Before Christmas\n",
    "The Monsters, Inc.\n",
    "The Big Hero 6\n",
    "The The Princess Bride\n",
    "The The Dark Crystal\n",
    "The The Muppet Movie\n",
    "The Labyrinth\n",
    "The The Wizard of Oz\n",
    "The The NeverEnding Story\n",
    "The The Iron Giant\n",
    "The The Lion King (2019)\n",
    "The The Jungle Book (2016)\n",
    "The The Chronicles of Narnia: The Lion, the Witch and the Wardrobe\n",
    "The The Harry Potter and the Sorcerer's Stone\n",
    "The The Lord of the Rings: The Fellowship of the Ring\n",
    "The The Spider-Man: Into the Spider-Verse\n",
    "The The Captain America: The Winter Soldier\n",
    "The The Thor: Ragnarok\n",
    "The The Black Panther\n",
    "The The Guardians of the Galaxy\n",
    "The The Wonder Woman\n",
    "The The Avengers: Infinity War\n",
    "The The Deadpool\n",
    "The The Joker\n",
    "The The Batman\n",
    "The The Fast and the Furious'''\n",
    "data = movies.splitlines()\n",
    "data"
   ]
  },
  {
   "cell_type": "markdown",
   "metadata": {},
   "source": [
    "len()"
   ]
  },
  {
   "cell_type": "code",
   "execution_count": 10,
   "metadata": {},
   "outputs": [
    {
     "name": "stdout",
     "output_type": "stream",
     "text": [
      "100\n"
     ]
    }
   ],
   "source": [
    "print(len(data))"
   ]
  },
  {
   "cell_type": "markdown",
   "metadata": {},
   "source": [
    "reverse()"
   ]
  },
  {
   "cell_type": "code",
   "execution_count": 11,
   "metadata": {},
   "outputs": [
    {
     "data": {
      "text/plain": [
       "['The The Fast and the Furious',\n",
       " 'The The Batman',\n",
       " 'The The Joker',\n",
       " 'The The Deadpool',\n",
       " 'The The Avengers: Infinity War',\n",
       " 'The The Wonder Woman',\n",
       " 'The The Guardians of the Galaxy',\n",
       " 'The The Black Panther',\n",
       " 'The The Thor: Ragnarok',\n",
       " 'The The Captain America: The Winter Soldier',\n",
       " 'The The Spider-Man: Into the Spider-Verse',\n",
       " 'The The Lord of the Rings: The Fellowship of the Ring',\n",
       " \"The The Harry Potter and the Sorcerer's Stone\",\n",
       " 'The The Chronicles of Narnia: The Lion, the Witch and the Wardrobe',\n",
       " 'The The Jungle Book (2016)',\n",
       " 'The The Lion King (2019)',\n",
       " 'The The Iron Giant',\n",
       " 'The The NeverEnding Story',\n",
       " 'The The Wizard of Oz',\n",
       " 'The Labyrinth',\n",
       " 'The The Muppet Movie',\n",
       " 'The The Dark Crystal',\n",
       " 'The The Princess Bride',\n",
       " 'The Big Hero 6',\n",
       " 'The Monsters, Inc.',\n",
       " 'The The Nightmare Before Christmas',\n",
       " 'The Cars',\n",
       " 'The Brave',\n",
       " 'The Tangled',\n",
       " 'The Up',\n",
       " 'The Frozen',\n",
       " 'The Ratatouille',\n",
       " 'The Mulan',\n",
       " 'The Coco',\n",
       " 'The Moana',\n",
       " 'The Zootopia',\n",
       " 'The Inside Out',\n",
       " 'The Wall-E',\n",
       " 'The Toy Story',\n",
       " 'The Finding Nemo',\n",
       " 'The Aladdin',\n",
       " \"The Emperor's New Groove\",\n",
       " 'The Iron Giant',\n",
       " \"The Lion King II: Simba's Pride\",\n",
       " 'The Incredibles',\n",
       " 'The Beauty and the Beast',\n",
       " 'The Nightmare Before Christmas',\n",
       " 'The Hunchback of Notre Dame',\n",
       " 'The Princess and the Frog',\n",
       " 'The Jungle Book',\n",
       " 'The Little Mermaid',\n",
       " 'The Lord of the Rings: The Two Towers',\n",
       " 'The Empire Strikes Back',\n",
       " 'The Dark Knight Rises',\n",
       " 'The Lion King (2019)',\n",
       " 'The Avengers: Endgame',\n",
       " 'The Hobbit: An Unexpected Journey',\n",
       " 'The Godfather: Part III',\n",
       " 'The Goonies',\n",
       " 'The Rocky Horror Picture Show',\n",
       " 'The Good, the Bad and the Ugly',\n",
       " 'The Graduate',\n",
       " 'The Sound of Music',\n",
       " 'The Wizard of Oz',\n",
       " 'The Big Lebowski',\n",
       " 'The Shining',\n",
       " 'The Exorcist',\n",
       " 'The Princess Bride',\n",
       " 'The Breakfast Club',\n",
       " 'The Great Gatsby',\n",
       " 'The Sixth Sense',\n",
       " 'The Notebook',\n",
       " 'The Social Network',\n",
       " 'The Terminator',\n",
       " \"Schindler's List\",\n",
       " 'The Usual Suspects',\n",
       " 'The Shawshank Redemption',\n",
       " 'The Dark Knight Rises',\n",
       " 'The Godfather: Part II',\n",
       " 'The Green Mile',\n",
       " 'The Prestige',\n",
       " 'Saving Private Ryan',\n",
       " 'The Silence of the Lambs',\n",
       " 'Goodfellas',\n",
       " 'The Departed',\n",
       " 'Gladiator',\n",
       " 'Interstellar',\n",
       " 'The Avengers',\n",
       " 'Titanic',\n",
       " 'The Lion King',\n",
       " 'The Lord of the Rings: The Fellowship of the Ring',\n",
       " 'Star Wars: Episode IV - A New Hope',\n",
       " 'The Matrix',\n",
       " 'Inception',\n",
       " 'Forrest Gump',\n",
       " 'Fight Club',\n",
       " 'The Dark Knight',\n",
       " 'Pulp Fiction',\n",
       " 'The Godfather',\n",
       " 'The Shawshank Redemption']"
      ]
     },
     "execution_count": 11,
     "metadata": {},
     "output_type": "execute_result"
    }
   ],
   "source": [
    "data.reverse()\n",
    "data"
   ]
  },
  {
   "cell_type": "markdown",
   "metadata": {},
   "source": [
    "sort()\n"
   ]
  },
  {
   "cell_type": "code",
   "execution_count": 12,
   "metadata": {},
   "outputs": [
    {
     "data": {
      "text/plain": [
       "['Fight Club',\n",
       " 'Forrest Gump',\n",
       " 'Gladiator',\n",
       " 'Goodfellas',\n",
       " 'Inception',\n",
       " 'Interstellar',\n",
       " 'Pulp Fiction',\n",
       " 'Saving Private Ryan',\n",
       " \"Schindler's List\",\n",
       " 'Star Wars: Episode IV - A New Hope',\n",
       " 'The Aladdin',\n",
       " 'The Avengers',\n",
       " 'The Avengers: Endgame',\n",
       " 'The Beauty and the Beast',\n",
       " 'The Big Hero 6',\n",
       " 'The Big Lebowski',\n",
       " 'The Brave',\n",
       " 'The Breakfast Club',\n",
       " 'The Cars',\n",
       " 'The Coco',\n",
       " 'The Dark Knight',\n",
       " 'The Dark Knight Rises',\n",
       " 'The Dark Knight Rises',\n",
       " 'The Departed',\n",
       " \"The Emperor's New Groove\",\n",
       " 'The Empire Strikes Back',\n",
       " 'The Exorcist',\n",
       " 'The Finding Nemo',\n",
       " 'The Frozen',\n",
       " 'The Godfather',\n",
       " 'The Godfather: Part II',\n",
       " 'The Godfather: Part III',\n",
       " 'The Good, the Bad and the Ugly',\n",
       " 'The Goonies',\n",
       " 'The Graduate',\n",
       " 'The Great Gatsby',\n",
       " 'The Green Mile',\n",
       " 'The Hobbit: An Unexpected Journey',\n",
       " 'The Hunchback of Notre Dame',\n",
       " 'The Incredibles',\n",
       " 'The Inside Out',\n",
       " 'The Iron Giant',\n",
       " 'The Jungle Book',\n",
       " 'The Labyrinth',\n",
       " 'The Lion King',\n",
       " 'The Lion King (2019)',\n",
       " \"The Lion King II: Simba's Pride\",\n",
       " 'The Little Mermaid',\n",
       " 'The Lord of the Rings: The Fellowship of the Ring',\n",
       " 'The Lord of the Rings: The Two Towers',\n",
       " 'The Matrix',\n",
       " 'The Moana',\n",
       " 'The Monsters, Inc.',\n",
       " 'The Mulan',\n",
       " 'The Nightmare Before Christmas',\n",
       " 'The Notebook',\n",
       " 'The Prestige',\n",
       " 'The Princess Bride',\n",
       " 'The Princess and the Frog',\n",
       " 'The Ratatouille',\n",
       " 'The Rocky Horror Picture Show',\n",
       " 'The Shawshank Redemption',\n",
       " 'The Shawshank Redemption',\n",
       " 'The Shining',\n",
       " 'The Silence of the Lambs',\n",
       " 'The Sixth Sense',\n",
       " 'The Social Network',\n",
       " 'The Sound of Music',\n",
       " 'The Tangled',\n",
       " 'The Terminator',\n",
       " 'The The Avengers: Infinity War',\n",
       " 'The The Batman',\n",
       " 'The The Black Panther',\n",
       " 'The The Captain America: The Winter Soldier',\n",
       " 'The The Chronicles of Narnia: The Lion, the Witch and the Wardrobe',\n",
       " 'The The Dark Crystal',\n",
       " 'The The Deadpool',\n",
       " 'The The Fast and the Furious',\n",
       " 'The The Guardians of the Galaxy',\n",
       " \"The The Harry Potter and the Sorcerer's Stone\",\n",
       " 'The The Iron Giant',\n",
       " 'The The Joker',\n",
       " 'The The Jungle Book (2016)',\n",
       " 'The The Lion King (2019)',\n",
       " 'The The Lord of the Rings: The Fellowship of the Ring',\n",
       " 'The The Muppet Movie',\n",
       " 'The The NeverEnding Story',\n",
       " 'The The Nightmare Before Christmas',\n",
       " 'The The Princess Bride',\n",
       " 'The The Spider-Man: Into the Spider-Verse',\n",
       " 'The The Thor: Ragnarok',\n",
       " 'The The Wizard of Oz',\n",
       " 'The The Wonder Woman',\n",
       " 'The Toy Story',\n",
       " 'The Up',\n",
       " 'The Usual Suspects',\n",
       " 'The Wall-E',\n",
       " 'The Wizard of Oz',\n",
       " 'The Zootopia',\n",
       " 'Titanic']"
      ]
     },
     "execution_count": 12,
     "metadata": {},
     "output_type": "execute_result"
    }
   ],
   "source": [
    "data.sort()\n",
    "data"
   ]
  },
  {
   "cell_type": "code",
   "execution_count": 13,
   "metadata": {},
   "outputs": [
    {
     "data": {
      "text/plain": [
       "['Titanic',\n",
       " 'The Zootopia',\n",
       " 'The Wizard of Oz',\n",
       " 'The Wall-E',\n",
       " 'The Usual Suspects',\n",
       " 'The Up',\n",
       " 'The Toy Story',\n",
       " 'The The Wonder Woman',\n",
       " 'The The Wizard of Oz',\n",
       " 'The The Thor: Ragnarok',\n",
       " 'The The Spider-Man: Into the Spider-Verse',\n",
       " 'The The Princess Bride',\n",
       " 'The The Nightmare Before Christmas',\n",
       " 'The The NeverEnding Story',\n",
       " 'The The Muppet Movie',\n",
       " 'The The Lord of the Rings: The Fellowship of the Ring',\n",
       " 'The The Lion King (2019)',\n",
       " 'The The Jungle Book (2016)',\n",
       " 'The The Joker',\n",
       " 'The The Iron Giant',\n",
       " \"The The Harry Potter and the Sorcerer's Stone\",\n",
       " 'The The Guardians of the Galaxy',\n",
       " 'The The Fast and the Furious',\n",
       " 'The The Deadpool',\n",
       " 'The The Dark Crystal',\n",
       " 'The The Chronicles of Narnia: The Lion, the Witch and the Wardrobe',\n",
       " 'The The Captain America: The Winter Soldier',\n",
       " 'The The Black Panther',\n",
       " 'The The Batman',\n",
       " 'The The Avengers: Infinity War',\n",
       " 'The Terminator',\n",
       " 'The Tangled',\n",
       " 'The Sound of Music',\n",
       " 'The Social Network',\n",
       " 'The Sixth Sense',\n",
       " 'The Silence of the Lambs',\n",
       " 'The Shining',\n",
       " 'The Shawshank Redemption',\n",
       " 'The Shawshank Redemption',\n",
       " 'The Rocky Horror Picture Show',\n",
       " 'The Ratatouille',\n",
       " 'The Princess and the Frog',\n",
       " 'The Princess Bride',\n",
       " 'The Prestige',\n",
       " 'The Notebook',\n",
       " 'The Nightmare Before Christmas',\n",
       " 'The Mulan',\n",
       " 'The Monsters, Inc.',\n",
       " 'The Moana',\n",
       " 'The Matrix',\n",
       " 'The Lord of the Rings: The Two Towers',\n",
       " 'The Lord of the Rings: The Fellowship of the Ring',\n",
       " 'The Little Mermaid',\n",
       " \"The Lion King II: Simba's Pride\",\n",
       " 'The Lion King (2019)',\n",
       " 'The Lion King',\n",
       " 'The Labyrinth',\n",
       " 'The Jungle Book',\n",
       " 'The Iron Giant',\n",
       " 'The Inside Out',\n",
       " 'The Incredibles',\n",
       " 'The Hunchback of Notre Dame',\n",
       " 'The Hobbit: An Unexpected Journey',\n",
       " 'The Green Mile',\n",
       " 'The Great Gatsby',\n",
       " 'The Graduate',\n",
       " 'The Goonies',\n",
       " 'The Good, the Bad and the Ugly',\n",
       " 'The Godfather: Part III',\n",
       " 'The Godfather: Part II',\n",
       " 'The Godfather',\n",
       " 'The Frozen',\n",
       " 'The Finding Nemo',\n",
       " 'The Exorcist',\n",
       " 'The Empire Strikes Back',\n",
       " \"The Emperor's New Groove\",\n",
       " 'The Departed',\n",
       " 'The Dark Knight Rises',\n",
       " 'The Dark Knight Rises',\n",
       " 'The Dark Knight',\n",
       " 'The Coco',\n",
       " 'The Cars',\n",
       " 'The Breakfast Club',\n",
       " 'The Brave',\n",
       " 'The Big Lebowski',\n",
       " 'The Big Hero 6',\n",
       " 'The Beauty and the Beast',\n",
       " 'The Avengers: Endgame',\n",
       " 'The Avengers',\n",
       " 'The Aladdin',\n",
       " 'Star Wars: Episode IV - A New Hope',\n",
       " \"Schindler's List\",\n",
       " 'Saving Private Ryan',\n",
       " 'Pulp Fiction',\n",
       " 'Interstellar',\n",
       " 'Inception',\n",
       " 'Goodfellas',\n",
       " 'Gladiator',\n",
       " 'Forrest Gump',\n",
       " 'Fight Club']"
      ]
     },
     "execution_count": 13,
     "metadata": {},
     "output_type": "execute_result"
    }
   ],
   "source": [
    "data.sort(reverse = True)\n",
    "data"
   ]
  },
  {
   "cell_type": "markdown",
   "metadata": {},
   "source": [
    "index()"
   ]
  },
  {
   "cell_type": "code",
   "execution_count": 17,
   "metadata": {},
   "outputs": [
    {
     "data": {
      "text/plain": [
       "95"
      ]
     },
     "execution_count": 17,
     "metadata": {},
     "output_type": "execute_result"
    }
   ],
   "source": [
    "data.index('Inception')\n",
    "\n"
   ]
  },
  {
   "cell_type": "code",
   "execution_count": 18,
   "metadata": {},
   "outputs": [
    {
     "data": {
      "text/plain": [
       "0"
      ]
     },
     "execution_count": 18,
     "metadata": {},
     "output_type": "execute_result"
    }
   ],
   "source": [
    "data.index('Titanic')"
   ]
  },
  {
   "cell_type": "markdown",
   "metadata": {},
   "source": [
    "copy()"
   ]
  },
  {
   "cell_type": "code",
   "execution_count": 15,
   "metadata": {},
   "outputs": [
    {
     "data": {
      "text/plain": [
       "['Titanic',\n",
       " 'The Zootopia',\n",
       " 'The Wizard of Oz',\n",
       " 'The Wall-E',\n",
       " 'The Usual Suspects',\n",
       " 'The Up',\n",
       " 'The Toy Story',\n",
       " 'The The Wonder Woman',\n",
       " 'The The Wizard of Oz',\n",
       " 'The The Thor: Ragnarok',\n",
       " 'The The Spider-Man: Into the Spider-Verse',\n",
       " 'The The Princess Bride',\n",
       " 'The The Nightmare Before Christmas',\n",
       " 'The The NeverEnding Story',\n",
       " 'The The Muppet Movie',\n",
       " 'The The Lord of the Rings: The Fellowship of the Ring',\n",
       " 'The The Lion King (2019)',\n",
       " 'The The Jungle Book (2016)',\n",
       " 'The The Joker',\n",
       " 'The The Iron Giant',\n",
       " \"The The Harry Potter and the Sorcerer's Stone\",\n",
       " 'The The Guardians of the Galaxy',\n",
       " 'The The Fast and the Furious',\n",
       " 'The The Deadpool',\n",
       " 'The The Dark Crystal',\n",
       " 'The The Chronicles of Narnia: The Lion, the Witch and the Wardrobe',\n",
       " 'The The Captain America: The Winter Soldier',\n",
       " 'The The Black Panther',\n",
       " 'The The Batman',\n",
       " 'The The Avengers: Infinity War',\n",
       " 'The Terminator',\n",
       " 'The Tangled',\n",
       " 'The Sound of Music',\n",
       " 'The Social Network',\n",
       " 'The Sixth Sense',\n",
       " 'The Silence of the Lambs',\n",
       " 'The Shining',\n",
       " 'The Shawshank Redemption',\n",
       " 'The Shawshank Redemption',\n",
       " 'The Rocky Horror Picture Show',\n",
       " 'The Ratatouille',\n",
       " 'The Princess and the Frog',\n",
       " 'The Princess Bride',\n",
       " 'The Prestige',\n",
       " 'The Notebook',\n",
       " 'The Nightmare Before Christmas',\n",
       " 'The Mulan',\n",
       " 'The Monsters, Inc.',\n",
       " 'The Moana',\n",
       " 'The Matrix',\n",
       " 'The Lord of the Rings: The Two Towers',\n",
       " 'The Lord of the Rings: The Fellowship of the Ring',\n",
       " 'The Little Mermaid',\n",
       " \"The Lion King II: Simba's Pride\",\n",
       " 'The Lion King (2019)',\n",
       " 'The Lion King',\n",
       " 'The Labyrinth',\n",
       " 'The Jungle Book',\n",
       " 'The Iron Giant',\n",
       " 'The Inside Out',\n",
       " 'The Incredibles',\n",
       " 'The Hunchback of Notre Dame',\n",
       " 'The Hobbit: An Unexpected Journey',\n",
       " 'The Green Mile',\n",
       " 'The Great Gatsby',\n",
       " 'The Graduate',\n",
       " 'The Goonies',\n",
       " 'The Good, the Bad and the Ugly',\n",
       " 'The Godfather: Part III',\n",
       " 'The Godfather: Part II',\n",
       " 'The Godfather',\n",
       " 'The Frozen',\n",
       " 'The Finding Nemo',\n",
       " 'The Exorcist',\n",
       " 'The Empire Strikes Back',\n",
       " \"The Emperor's New Groove\",\n",
       " 'The Departed',\n",
       " 'The Dark Knight Rises',\n",
       " 'The Dark Knight Rises',\n",
       " 'The Dark Knight',\n",
       " 'The Coco',\n",
       " 'The Cars',\n",
       " 'The Breakfast Club',\n",
       " 'The Brave',\n",
       " 'The Big Lebowski',\n",
       " 'The Big Hero 6',\n",
       " 'The Beauty and the Beast',\n",
       " 'The Avengers: Endgame',\n",
       " 'The Avengers',\n",
       " 'The Aladdin',\n",
       " 'Star Wars: Episode IV - A New Hope',\n",
       " \"Schindler's List\",\n",
       " 'Saving Private Ryan',\n",
       " 'Pulp Fiction',\n",
       " 'Interstellar',\n",
       " 'Inception',\n",
       " 'Goodfellas',\n",
       " 'Gladiator',\n",
       " 'Forrest Gump',\n",
       " 'Fight Club']"
      ]
     },
     "execution_count": 15,
     "metadata": {},
     "output_type": "execute_result"
    }
   ],
   "source": [
    "movies_2 = data.copy()\n",
    "movies_2"
   ]
  },
  {
   "cell_type": "code",
   "execution_count": 16,
   "metadata": {},
   "outputs": [
    {
     "name": "stdout",
     "output_type": "stream",
     "text": [
      "[7, 12, 16, 10, 18, 6, 13, 20, 20, 22, 41, 22, 34, 25, 20, 53, 24, 26, 13, 18, 45, 31, 28, 16, 20, 66, 43, 21, 14, 30, 14, 11, 18, 18, 15, 24, 11, 24, 24, 29, 15, 25, 18, 12, 12, 30, 9, 18, 9, 10, 37, 49, 18, 31, 20, 13, 13, 15, 14, 14, 15, 27, 33, 14, 16, 12, 11, 30, 23, 22, 13, 10, 16, 12, 23, 24, 12, 21, 21, 15, 8, 8, 18, 9, 16, 14, 24, 21, 12, 11, 34, 16, 19, 12, 12, 9, 10, 9, 12, 10]\n"
     ]
    }
   ],
   "source": [
    "size_movies = []\n",
    "for movie in data:\n",
    "    s = len(movie)\n",
    "    size_movies.append(s)\n",
    "print(size_movies)"
   ]
  },
  {
   "cell_type": "markdown",
   "metadata": {},
   "source": [
    "List Comprehension:\n",
    "\n",
    "List comprehension is a concise way to create lists based on existing lists or other iterables. \n",
    "It allows you to generate new lists by applying expressions and conditions to the elements of an existing list"
   ]
  },
  {
   "cell_type": "markdown",
   "metadata": {},
   "source": [
    "list comprehension\n",
    " syntax\n",
    "  new_list = [operation loop condition]\n",
    "  condition is optional\n",
    "  example:\n",
    "   size_movies = [len(i) for i in data]"
   ]
  },
  {
   "cell_type": "code",
   "execution_count": 19,
   "metadata": {},
   "outputs": [
    {
     "name": "stdout",
     "output_type": "stream",
     "text": [
      "[12, 2, 3, 5, 6, 7, 8, 9]\n",
      "[144, 4, 9, 25, 36, 49, 64, 81]\n"
     ]
    }
   ],
   "source": [
    "x = [12,2,3,5,6,7,8,9]\n",
    "x2 = [i**2 for i in x]\n",
    "print(x)\n",
    "print(x2)"
   ]
  },
  {
   "cell_type": "code",
   "execution_count": 20,
   "metadata": {},
   "outputs": [
    {
     "name": "stdout",
     "output_type": "stream",
     "text": [
      "[12, 2, 3, 5, 6, 7, 8, 9]\n",
      "[144, 4, 36, 64]\n"
     ]
    }
   ],
   "source": [
    "x2_even = [i**2 for i in x if i%2 == 0]\n",
    "print(x)\n",
    "print(x2_even)"
   ]
  },
  {
   "cell_type": "code",
   "execution_count": 21,
   "metadata": {},
   "outputs": [
    {
     "name": "stdout",
     "output_type": "stream",
     "text": [
      "['Alex', 'Sam', 'Raj', 'Amar', 'Bruce']\n"
     ]
    }
   ],
   "source": [
    "names = ['Alex Firece','Sam Hemmingay','Raj Mohan','Amar Pratap','Bruce Lee']\n",
    "f_name = [name.split()[0] for name in names]\n",
    "print(f_name)"
   ]
  },
  {
   "cell_type": "code",
   "execution_count": 22,
   "metadata": {},
   "outputs": [
    {
     "name": "stdout",
     "output_type": "stream",
     "text": [
      "[125, 343, 27, 1, 343]\n"
     ]
    }
   ],
   "source": [
    "numbers = [2,5,7,3,1,4,7]\n",
    "odd_cubes = [i**3 for i in numbers if i%2!=0]\n",
    "print(odd_cubes)"
   ]
  },
  {
   "cell_type": "code",
   "execution_count": 3,
   "metadata": {},
   "outputs": [
    {
     "name": "stdout",
     "output_type": "stream",
     "text": [
      "[1, 2, 10, 4, 5]\n",
      "[1, 2, 10, 4, 5, 6]\n",
      "[1, 10, 4, 5, 6]\n",
      "[1, 20, 30, 5, 6]\n"
     ]
    }
   ],
   "source": [
    "#prove list is mutable\n",
    "''', lists in Python are mutable, which means you can modify them after they are created. \n",
    "You can add, remove, or modify elements within a list without creating a new list. \n",
    "This is one of the key characteristics that sets lists apart from other data structures in Python.'''\n",
    "\n",
    "my_list = [1, 2, 3, 4, 5]\n",
    "\n",
    "# Modifying an element at a specific index\n",
    "my_list[2] = 10\n",
    "print(my_list)  \n",
    "\n",
    "# Adding elements to the end of the list\n",
    "my_list.append(6)\n",
    "print(my_list)  \n",
    "\n",
    "# Removing an element from the list\n",
    "my_list.remove(2)\n",
    "print(my_list)  \n",
    "\n",
    "# Slicing and modifying a portion of the list\n",
    "my_list[1:3] = [20, 30]\n",
    "print(my_list)  \n"
   ]
  },
  {
   "cell_type": "markdown",
   "metadata": {},
   "source": [
    "List Concatenation:\n",
    "\n",
    "You can combine two or more lists using the concatenation operator (+). This operation creates a new list that contains all the elements from both lists"
   ]
  },
  {
   "cell_type": "code",
   "execution_count": 8,
   "metadata": {},
   "outputs": [
    {
     "name": "stdout",
     "output_type": "stream",
     "text": [
      "[1, 2, 3, 4, 5, 6]\n"
     ]
    }
   ],
   "source": [
    "list1 = [1, 2, 3]\n",
    "list2 = [4, 5, 6]\n",
    "concatenated_list = list1 + list2\n",
    "\n",
    "print(concatenated_list)  \n"
   ]
  },
  {
   "cell_type": "markdown",
   "metadata": {},
   "source": [
    "List Repetition:\n",
    "\n",
    "You can repeat a list by using the multiplication operator (*) with an integer. This operation creates a new list that contains multiple copies of the original list."
   ]
  },
  {
   "cell_type": "code",
   "execution_count": 9,
   "metadata": {},
   "outputs": [
    {
     "name": "stdout",
     "output_type": "stream",
     "text": [
      "[1, 2, 3, 1, 2, 3, 1, 2, 3]\n"
     ]
    }
   ],
   "source": [
    "my_list = [1, 2, 3]\n",
    "repeated_list = my_list * 3\n",
    "\n",
    "print(repeated_list)  \n"
   ]
  },
  {
   "cell_type": "markdown",
   "metadata": {},
   "source": [
    "List Length:\n",
    "\n",
    "To determine the number of elements in a list, you can use the len() function. It returns the length of the list as an integer. "
   ]
  },
  {
   "cell_type": "code",
   "execution_count": 10,
   "metadata": {},
   "outputs": [
    {
     "name": "stdout",
     "output_type": "stream",
     "text": [
      "5\n"
     ]
    }
   ],
   "source": [
    "my_list = [1, 2, 3, 4, 5]\n",
    "length = len(my_list)\n",
    "\n",
    "print(length)  \n"
   ]
  },
  {
   "cell_type": "markdown",
   "metadata": {},
   "source": [
    "Checking Membership in a List:\n",
    "\n",
    "You can check if an element is present in a list using the in keyword.\n",
    "It returns a boolean value (True or False)."
   ]
  },
  {
   "cell_type": "code",
   "execution_count": 11,
   "metadata": {},
   "outputs": [
    {
     "name": "stdout",
     "output_type": "stream",
     "text": [
      "True\n",
      "False\n"
     ]
    }
   ],
   "source": [
    "my_list = ['apple', 'banana', 'cherry']\n",
    "\n",
    "print('banana' in my_list)   \n",
    "print('orange' in my_list)  \n"
   ]
  },
  {
   "cell_type": "markdown",
   "metadata": {},
   "source": [
    "Copying a List:\n",
    "\n",
    "When you assign a list to another variable, you're actually creating a reference to the original list. Any changes made to one list will affect the other. If you want to create an independent copy of a list, you can use the slicing technique or the list() function. "
   ]
  },
  {
   "cell_type": "code",
   "execution_count": 12,
   "metadata": {},
   "outputs": [
    {
     "name": "stdout",
     "output_type": "stream",
     "text": [
      "[1, 2, 3]\n",
      "[1, 2, 3]\n",
      "[1, 2, 3]\n",
      "[1, 2, 3, 4]\n",
      "[1, 2, 3, 5]\n"
     ]
    }
   ],
   "source": [
    "my_list = [1, 2, 3]\n",
    "copy1 = my_list[:]         # Using slicing\n",
    "copy2 = list(my_list)      # Using list() function\n",
    "\n",
    "print(copy1)\n",
    "print(copy2)            \n",
    "\n",
    "copy1.append(4)\n",
    "copy2.append(5)\n",
    "\n",
    "print(my_list)           \n",
    "print(copy1)              \n",
    "print(copy2)\n"
   ]
  }
 ],
 "metadata": {
  "kernelspec": {
   "display_name": "Python 3",
   "language": "python",
   "name": "python3"
  },
  "language_info": {
   "codemirror_mode": {
    "name": "ipython",
    "version": 3
   },
   "file_extension": ".py",
   "mimetype": "text/x-python",
   "name": "python",
   "nbconvert_exporter": "python",
   "pygments_lexer": "ipython3",
   "version": "3.10.10"
  },
  "orig_nbformat": 4
 },
 "nbformat": 4,
 "nbformat_minor": 2
}
