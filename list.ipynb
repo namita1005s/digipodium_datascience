{
 "cells": [
  {
   "cell_type": "markdown",
   "metadata": {},
   "source": [
    "data structure\n",
    " list # imp\n",
    "  indexed,mutable,ordered,'[ ]'\n",
    " tuple\n",
    "  indexed,ordered,immutable,'( )'\n",
    " set\n",
    "  unidexed,unodered,mutable,no duplcation,'{ }'\n",
    " dictionary #imp\n",
    "  unindexed,key-value pairs,mutable, '{ }'"
   ]
  },
  {
   "cell_type": "markdown",
   "metadata": {},
   "source": [
    "creating a list"
   ]
  },
  {
   "cell_type": "code",
   "execution_count": 2,
   "metadata": {},
   "outputs": [
    {
     "name": "stdout",
     "output_type": "stream",
     "text": [
      "[10, 10, 10, 10, 10]\n"
     ]
    }
   ],
   "source": [
    "x = [] #empty  list\n",
    "y = [1,2,3,4,5] #list of integers\n",
    "grocery = ['milk',55,'bread',20,'butter',49]\n",
    "z = ['sunday','monday','tuesday']\n",
    "info = [[1,2,3],[4,5,6],[7,8],[9,10,11]] #nested list\n",
    "a = [10]*5 #list of 5 elements with value 10\n",
    "print(a)"
   ]
  },
  {
   "cell_type": "code",
   "execution_count": 6,
   "metadata": {},
   "outputs": [
    {
     "name": "stdout",
     "output_type": "stream",
     "text": [
      "[10, 10, 100, 10, 5, 10, 6]\n"
     ]
    }
   ],
   "source": [
    "x.append(10)\n",
    "x.append(int(input(\"Enter the number: \")))\n",
    "print(x)"
   ]
  },
  {
   "cell_type": "code",
   "execution_count": 7,
   "metadata": {},
   "outputs": [
    {
     "name": "stdout",
     "output_type": "stream",
     "text": [
      "[10, 5]\n"
     ]
    }
   ],
   "source": [
    "x = []\n",
    "x.append(10)\n",
    "x.append(int(input(\"Enter the number: \")))\n",
    "print(x)\n"
   ]
  },
  {
   "cell_type": "code",
   "execution_count": 8,
   "metadata": {},
   "outputs": [
    {
     "name": "stdout",
     "output_type": "stream",
     "text": [
      "[5, 10]\n"
     ]
    }
   ],
   "source": [
    "x = []\n",
    "x.append(int(input(\"Enter the number: \")))\n",
    "x.append(10)\n",
    "print(x)\n"
   ]
  },
  {
   "cell_type": "code",
   "execution_count": 9,
   "metadata": {},
   "outputs": [
    {
     "name": "stdout",
     "output_type": "stream",
     "text": [
      "[5, 10, 5, 7, 6]\n"
     ]
    }
   ],
   "source": [
    "for i in range(3):\n",
    "    val = int(input(\"enter a number: \"))\n",
    "    x.append(val)\n",
    "print(x)"
   ]
  },
  {
   "cell_type": "code",
   "execution_count": 10,
   "metadata": {},
   "outputs": [],
   "source": [
    "del info #deleting the list"
   ]
  },
  {
   "cell_type": "markdown",
   "metadata": {},
   "source": [
    "Slicing and indexing in list"
   ]
  },
  {
   "cell_type": "code",
   "execution_count": 11,
   "metadata": {},
   "outputs": [
    {
     "name": "stdout",
     "output_type": "stream",
     "text": [
      "5 6 7\n",
      "[5, 10, 5]\n",
      "[5, 7, 6]\n",
      "[6, 7, 5, 10, 5]\n"
     ]
    }
   ],
   "source": [
    "print(x[0],x[-1],x[-2])\n",
    "print(x[ :-2])\n",
    "print(x[-3: ])\n",
    "print(x[::-1])"
   ]
  },
  {
   "cell_type": "code",
   "execution_count": 13,
   "metadata": {},
   "outputs": [
    {
     "name": "stdout",
     "output_type": "stream",
     "text": [
      "5😂10😂5😂7😂6😂"
     ]
    }
   ],
   "source": [
    "for i in x:\n",
    "    print(i, end='😂')"
   ]
  },
  {
   "cell_type": "code",
   "execution_count": 12,
   "metadata": {},
   "outputs": [
    {
     "name": "stdout",
     "output_type": "stream",
     "text": [
      "5 10 5 7 6 "
     ]
    }
   ],
   "source": [
    "for i in x:\n",
    "    print(i, end= ' ')"
   ]
  },
  {
   "cell_type": "markdown",
   "metadata": {},
   "source": [
    "list have total 11 functions\n",
    " adding\n",
    "  append() - add single item to the end\n",
    "  extend() - insert single item at the given index\n",
    "  insert() - merge an list to an existing list\n",
    " remove\n",
    "  remove() - remove single item by value\n",
    "  pop() - remove single item by index\n",
    "  clear() - remove all items\n",
    " utility\n",
    "  index() - find index of item by value\n",
    "  count() - count repeated items\n",
    "  sort() - sort items\n",
    "  reverse() - reverse items\n",
    "  copy() - copy list"
   ]
  },
  {
   "cell_type": "code",
   "execution_count": null,
   "metadata": {},
   "outputs": [],
   "source": []
  }
 ],
 "metadata": {
  "kernelspec": {
   "display_name": "Python 3",
   "language": "python",
   "name": "python3"
  },
  "language_info": {
   "codemirror_mode": {
    "name": "ipython",
    "version": 3
   },
   "file_extension": ".py",
   "mimetype": "text/x-python",
   "name": "python",
   "nbconvert_exporter": "python",
   "pygments_lexer": "ipython3",
   "version": "3.10.10"
  },
  "orig_nbformat": 4
 },
 "nbformat": 4,
 "nbformat_minor": 2
}
