{
 "cells": [
  {
   "cell_type": "markdown",
   "metadata": {},
   "source": [
    "Functions\n",
    " .Reuse of the code\n",
    " .make the code more readable\n",
    " .break the complex code into smaller codes\n",
    " .customization"
   ]
  },
  {
   "cell_type": "markdown",
   "metadata": {},
   "source": [
    "programming functions \n",
    " -**predefined functions** \n",
    "  -standard library \n",
    "     -the functions that are imported by default when executing python code \n",
    "  -library (module) fuctions \n",
    "     -preistalled library \n",
    "        -for example \n",
    "           -os \n",
    "           -math \n",
    "           -random \n",
    "           -datetime \n",
    "      -3rd party \n",
    "           -install with pip\n",
    "              -pip install \n",
    "              -pip show \n",
    "           -install with conda \n",
    "              -conda install \n",
    " -**user defined fuctions** \n",
    "-fuctions with name\n",
    "  (1)fuction without parameters and return value\n",
    "  (2)function with parameters \n",
    "    -required parameters\n",
    "    -default parameters\n",
    "    -named parameters\n",
    "    -variable arguments\n",
    "    -variable keyward arguments \n",
    "  (3)function with return value \n",
    "  (4)function with both parameters and return value \n",
    "  (5)generators \n",
    "      -function without name\n",
    "      -Lambda function (anonymous function)"
   ]
  },
  {
   "cell_type": "markdown",
   "metadata": {},
   "source": []
  },
  {
   "cell_type": "markdown",
   "metadata": {},
   "source": [
    "guments \n",
    "  (3)function with return value \n",
    "  (4)function with both parameters and return value \n",
    "  (5)generators \n",
    "      -function without name\n",
    "      -Lambda function (anonymous function)"
   ]
  },
  {
   "cell_type": "code",
   "execution_count": 1,
   "metadata": {},
   "outputs": [
    {
     "name": "stdout",
     "output_type": "stream",
     "text": [
      "\u001b[1;31mSignature:\u001b[0m \u001b[0mmath\u001b[0m\u001b[1;33m.\u001b[0m\u001b[0mceil\u001b[0m\u001b[1;33m(\u001b[0m\u001b[0mx\u001b[0m\u001b[1;33m,\u001b[0m \u001b[1;33m/\u001b[0m\u001b[1;33m)\u001b[0m\u001b[1;33m\u001b[0m\u001b[1;33m\u001b[0m\u001b[0m\n",
      "\u001b[1;31mDocstring:\u001b[0m\n",
      "Return the ceiling of x as an Integral.\n",
      "\n",
      "This is the smallest integer >= x.\n",
      "\u001b[1;31mType:\u001b[0m      builtin_function_or_method"
     ]
    }
   ],
   "source": [
    "import math\n",
    "math.ceil?"
   ]
  },
  {
   "cell_type": "code",
   "execution_count": 2,
   "metadata": {},
   "outputs": [
    {
     "name": "stdout",
     "output_type": "stream",
     "text": [
      "Help on built-in function ceil in module math:\n",
      "\n",
      "ceil(x, /)\n",
      "    Return the ceiling of x as an Integral.\n",
      "    \n",
      "    This is the smallest integer >= x.\n",
      "\n"
     ]
    }
   ],
   "source": [
    "help(math.ceil)"
   ]
  },
  {
   "cell_type": "code",
   "execution_count": 3,
   "metadata": {},
   "outputs": [],
   "source": [
    "#simple intrest\n",
    "def si(p, r, t):\n",
    "    ans = p * r * t / 100\n",
    "    print(f'simple intrest is {ans:.2f}')"
   ]
  },
  {
   "cell_type": "code",
   "execution_count": 4,
   "metadata": {},
   "outputs": [
    {
     "name": "stdout",
     "output_type": "stream",
     "text": [
      "simple intrest is 100.00\n"
     ]
    }
   ],
   "source": [
    "si(1000, 5, 2)"
   ]
  },
  {
   "cell_type": "code",
   "execution_count": 5,
   "metadata": {},
   "outputs": [
    {
     "name": "stdout",
     "output_type": "stream",
     "text": [
      "\u001b[1;31mSignature:\u001b[0m \u001b[0msi\u001b[0m\u001b[1;33m(\u001b[0m\u001b[0mp\u001b[0m\u001b[1;33m,\u001b[0m \u001b[0mr\u001b[0m\u001b[1;33m,\u001b[0m \u001b[0mt\u001b[0m\u001b[1;33m)\u001b[0m\u001b[1;33m\u001b[0m\u001b[1;33m\u001b[0m\u001b[0m\n",
      "\u001b[1;31mDocstring:\u001b[0m <no docstring>\n",
      "\u001b[1;31mFile:\u001b[0m      c:\\users\\aditya pc\\appdata\\local\\temp\\ipykernel_5180\\1594359912.py\n",
      "\u001b[1;31mType:\u001b[0m      function"
     ]
    }
   ],
   "source": [
    "si?"
   ]
  },
  {
   "cell_type": "code",
   "execution_count": 6,
   "metadata": {},
   "outputs": [
    {
     "name": "stdout",
     "output_type": "stream",
     "text": [
      "5 is a prime number.\n"
     ]
    }
   ],
   "source": [
    "def is_prime(number):\n",
    "    if number < 2:  # Numbers less than 2 are not prime\n",
    "        return False\n",
    "    i = 2\n",
    "    while i * i <= number:\n",
    "        if number % i == 0:\n",
    "            return False\n",
    "        i += 1\n",
    "    return True\n",
    "\n",
    "# Example usage\n",
    "num = int(input(\"Enter a number: \"))\n",
    "if is_prime(num):\n",
    "    print(f\"{num} is a prime number.\")\n",
    "else:\n",
    "    print(f\"{num} is not a prime number.\")\n"
   ]
  },
  {
   "cell_type": "code",
   "execution_count": 1,
   "metadata": {},
   "outputs": [
    {
     "name": "stdout",
     "output_type": "stream",
     "text": [
      "13.0\n",
      "12.041594578792296\n",
      "1.4142135623730951\n",
      "11.180339887498949\n",
      "17.69180601295413\n",
      "13.0\n",
      "7.810249675906654\n",
      "7.810249675906654\n",
      "7.810249675906654\n",
      "7.810249675906654\n"
     ]
    }
   ],
   "source": [
    "def hypotenuse(p=1,b=1): #default parameters are always written from right to left\n",
    "    h = (p**2 + b**2) ** 0.5\n",
    "    print(h)\n",
    "hypotenuse(12,5)\n",
    "hypotenuse(12)\n",
    "hypotenuse()\n",
    "hypotenuse(p =10, b=5) #named arguments or keyword arguments\n",
    "hypotenuse(b=13, p=12)\n",
    "hypotenuse(12, b=5) #positional arguments\n",
    "#hypotenuse(12, b=5) #postional arguments followed the named arguments\n",
    "\n",
    "a = int(input('perp:'))\n",
    "y = int(input('base:'))\n",
    "hypotenuse(a,y)\n",
    "hypotenuse(p=a,b=y)\n",
    "hypotenuse(a, b=y)\n",
    "hypotenuse(b=y, p=a)"
   ]
  },
  {
   "cell_type": "code",
   "execution_count": 2,
   "metadata": {},
   "outputs": [
    {
     "name": "stdout",
     "output_type": "stream",
     "text": [
      "1\n",
      "2\n",
      "24\n",
      "40320\n"
     ]
    }
   ],
   "source": [
    "#variable arguments used in libraries and projects\n",
    "\n",
    "def multiplier(*num):\n",
    "    ans = 1\n",
    "    for i in num:\n",
    "        ans *= i\n",
    "    print(ans)\n",
    "multiplier()\n",
    "multiplier(2)\n",
    "multiplier(2,3,4)\n",
    "multiplier(2,3,4,5,6,7,8)"
   ]
  },
  {
   "cell_type": "code",
   "execution_count": 4,
   "metadata": {},
   "outputs": [
    {
     "name": "stdout",
     "output_type": "stream",
     "text": [
      "60\n",
      "6000\n",
      "20.0\n",
      "Invalid operator\n"
     ]
    }
   ],
   "source": [
    "def agg(*num, operator=\"add\"):\n",
    "    if operator == 'add':\n",
    "        ans = 0\n",
    "        for i in num:\n",
    "            ans += i\n",
    "        print(ans)\n",
    "    elif operator == 'mul':\n",
    "        ans = 1\n",
    "        for i in num:\n",
    "            ans *= i\n",
    "        print(ans)\n",
    "    elif operator == 'mean':\n",
    "        ans = 0\n",
    "        for i in num:\n",
    "            ans += i\n",
    "        print(ans/len(num))\n",
    "    else:\n",
    "        print(\"Invalid operator\")\n",
    "\n",
    "\n",
    "agg(10,20,30)\n",
    "agg(10,20,30, operator ='mul')\n",
    "agg(10,20,30, operator='mean')\n",
    "agg(10,20,30, operator='sheen')"
   ]
  }
 ],
 "metadata": {
  "kernelspec": {
   "display_name": "Python 3",
   "language": "python",
   "name": "python3"
  },
  "language_info": {
   "codemirror_mode": {
    "name": "ipython",
    "version": 3
   },
   "file_extension": ".py",
   "mimetype": "text/x-python",
   "name": "python",
   "nbconvert_exporter": "python",
   "pygments_lexer": "ipython3",
   "version": "3.10.10"
  },
  "orig_nbformat": 4
 },
 "nbformat": 4,
 "nbformat_minor": 2
}
