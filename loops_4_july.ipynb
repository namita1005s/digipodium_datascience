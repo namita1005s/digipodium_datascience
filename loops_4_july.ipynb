{
 "cells": [
  {
   "cell_type": "code",
   "execution_count": 1,
   "metadata": {},
   "outputs": [
    {
     "name": "stdout",
     "output_type": "stream",
     "text": [
      "10\n"
     ]
    }
   ],
   "source": [
    "#LOOPS\n",
    "movies = [\n",
    "    'Pihu',\n",
    "    'Harry Potter',\n",
    "    'Kerala story',\n",
    "    'Wednesday',\n",
    "    'Dark Knight',\n",
    "    'Pathan',\n",
    "    'Fast Five',\n",
    "    'Titanic',\n",
    "    'Bahubali',\n",
    "    'Anabella']\n",
    "print(len(movies))"
   ]
  },
  {
   "cell_type": "code",
   "execution_count": 2,
   "metadata": {},
   "outputs": [
    {
     "name": "stdout",
     "output_type": "stream",
     "text": [
      "Pihu\n",
      "Harry Potter\n",
      "Kerala story\n",
      "Wednesday\n",
      "Dark Knight\n",
      "Pathan\n",
      "Fast Five\n",
      "Titanic\n",
      "Bahubali\n",
      "Anabella\n"
     ]
    }
   ],
   "source": [
    "#FOR LOOP\n",
    "for title in movies:\n",
    "    print(title)"
   ]
  },
  {
   "cell_type": "code",
   "execution_count": 3,
   "metadata": {},
   "outputs": [
    {
     "name": "stdout",
     "output_type": "stream",
     "text": [
      "Pihu                 4 chars\n",
      "Harry Potter         12 chars\n",
      "Kerala story         12 chars\n",
      "Wednesday            9 chars\n",
      "Dark Knight          11 chars\n",
      "Pathan               6 chars\n",
      "Fast Five            9 chars\n",
      "Titanic              7 chars\n",
      "Bahubali             8 chars\n",
      "Anabella             8 chars\n"
     ]
    }
   ],
   "source": [
    "for title in movies:\n",
    "    print(f'{title:20} {len(title)} chars')"
   ]
  },
  {
   "cell_type": "code",
   "execution_count": 4,
   "metadata": {},
   "outputs": [
    {
     "name": "stdout",
     "output_type": "stream",
     "text": [
      "Harry Potter\n",
      "Kerala story\n",
      "Wednesday\n",
      "Dark Knight\n",
      "Pathan\n",
      "Fast Five\n",
      "Titanic\n",
      "Bahubali\n",
      "Anabella\n"
     ]
    }
   ],
   "source": [
    "for title in movies:\n",
    "    if('a' in title):\n",
    "        print(title)"
   ]
  },
  {
   "cell_type": "code",
   "execution_count": 5,
   "metadata": {},
   "outputs": [
    {
     "name": "stdout",
     "output_type": "stream",
     "text": [
      "Harry Potter\n",
      "Kerala story\n",
      "Wednesday\n",
      "Dark Knight\n",
      "Pathan\n",
      "Fast Five\n",
      "Titanic\n",
      "Bahubali\n",
      "Anabella\n"
     ]
    }
   ],
   "source": [
    "for title in movies:\n",
    "    if('a' in title or 'e' in title):\n",
    "        print(title)"
   ]
  },
  {
   "cell_type": "code",
   "execution_count": 6,
   "metadata": {},
   "outputs": [
    {
     "name": "stdout",
     "output_type": "stream",
     "text": [
      "10\n"
     ]
    }
   ],
   "source": [
    "#NESTED LOOPS\n",
    "books = [\n",
    "    ['The India Story','Bimal Jalal',10],\n",
    "    ['A place called home','Preeti shenoy',9],\n",
    "    ['Lal salam','Smriti Irani',8],\n",
    "    ['Queen of fire','Devika Rangachari',10],\n",
    "    ['The maverick effect','Harish Mehta',10],\n",
    "    ['Monsoon','Sahitya Akademi',9],\n",
    "    ['Tomb sand','Geetenjali shree',10],\n",
    "    ['Fearless Governance','Dr.Kiran bedi',9],\n",
    "    ['A nation to protect','Priyam Gandhi',9],\n",
    "    ['Unfinished','Priyanka chopra Jonas',10],\n",
    "]\n",
    "print(len(books))"
   ]
  },
  {
   "cell_type": "code",
   "execution_count": 7,
   "metadata": {},
   "outputs": [
    {
     "name": "stdout",
     "output_type": "stream",
     "text": [
      "The India Story\n",
      "Bimal Jalal\n",
      "10\n",
      "\n",
      "A place called home\n",
      "Preeti shenoy\n",
      "9\n",
      "\n",
      "Lal salam\n",
      "Smriti Irani\n",
      "8\n",
      "\n",
      "Queen of fire\n",
      "Devika Rangachari\n",
      "10\n",
      "\n",
      "The maverick effect\n",
      "Harish Mehta\n",
      "10\n",
      "\n",
      "Monsoon\n",
      "Sahitya Akademi\n",
      "9\n",
      "\n",
      "Tomb sand\n",
      "Geetenjali shree\n",
      "10\n",
      "\n",
      "Fearless Governance\n",
      "Dr.Kiran bedi\n",
      "9\n",
      "\n",
      "A nation to protect\n",
      "Priyam Gandhi\n",
      "9\n",
      "\n",
      "Unfinished\n",
      "Priyanka chopra Jonas\n",
      "10\n",
      "\n"
     ]
    }
   ],
   "source": [
    "for book in books:\n",
    "    for field in book:\n",
    "        print(field)\n",
    "    print()"
   ]
  },
  {
   "cell_type": "code",
   "execution_count": 8,
   "metadata": {},
   "outputs": [
    {
     "name": "stdout",
     "output_type": "stream",
     "text": [
      "title: The India Story\n",
      "author: Bimal Jalal\n",
      "rating: 10\n",
      "\n",
      "title: A place called home\n",
      "author: Preeti shenoy\n",
      "rating: 9\n",
      "\n",
      "title: Lal salam\n",
      "author: Smriti Irani\n",
      "rating: 8\n",
      "\n",
      "title: Queen of fire\n",
      "author: Devika Rangachari\n",
      "rating: 10\n",
      "\n",
      "title: The maverick effect\n",
      "author: Harish Mehta\n",
      "rating: 10\n",
      "\n",
      "title: Monsoon\n",
      "author: Sahitya Akademi\n",
      "rating: 9\n",
      "\n",
      "title: Tomb sand\n",
      "author: Geetenjali shree\n",
      "rating: 10\n",
      "\n",
      "title: Fearless Governance\n",
      "author: Dr.Kiran bedi\n",
      "rating: 9\n",
      "\n",
      "title: A nation to protect\n",
      "author: Priyam Gandhi\n",
      "rating: 9\n",
      "\n",
      "title: Unfinished\n",
      "author: Priyanka chopra Jonas\n",
      "rating: 10\n",
      "\n"
     ]
    }
   ],
   "source": [
    "for book in books:\n",
    "    print(f'title: {book[0]}')\n",
    "    print(f'author: {book[1]}')\n",
    "    print(f'rating: {book[2]}')\n",
    "    print()"
   ]
  },
  {
   "cell_type": "code",
   "execution_count": 9,
   "metadata": {},
   "outputs": [
    {
     "name": "stdout",
     "output_type": "stream",
     "text": [
      "title: The India Story\n",
      "title: A place called home\n",
      "title: Lal salam\n",
      "title: Queen of fire\n",
      "title: The maverick effect\n",
      "title: Monsoon\n",
      "title: Tomb sand\n",
      "title: Fearless Governance\n",
      "title: A nation to protect\n",
      "title: Unfinished\n"
     ]
    }
   ],
   "source": [
    "for book in books:\n",
    "    print(f'title: {book[0]}')"
   ]
  },
  {
   "cell_type": "code",
   "execution_count": 10,
   "metadata": {},
   "outputs": [
    {
     "name": "stdout",
     "output_type": "stream",
     "text": [
      "239\n",
      "530\n",
      "103\n",
      "600\n",
      "100\n",
      "400\n",
      "None\n",
      "4000\n",
      "99\n"
     ]
    }
   ],
   "source": [
    "#BREAK AND CONTINUE STATEMENT\n",
    "prices = [239,530,103,600,100,400,None,4000,99]\n",
    "for price in prices:\n",
    "    print(price)"
   ]
  },
  {
   "cell_type": "code",
   "execution_count": 11,
   "metadata": {},
   "outputs": [
    {
     "name": "stdout",
     "output_type": "stream",
     "text": [
      "239\n",
      "530\n",
      "103\n",
      "600\n",
      "100\n",
      "400\n"
     ]
    }
   ],
   "source": [
    "#BREAK STATEMENT\n",
    "for price in prices:\n",
    "    if (price is None):\n",
    "        break\n",
    "    print(price)"
   ]
  },
  {
   "cell_type": "code",
   "execution_count": 12,
   "metadata": {},
   "outputs": [
    {
     "name": "stdout",
     "output_type": "stream",
     "text": [
      "239\n",
      "530\n",
      "103\n",
      "600\n",
      "100\n",
      "400\n",
      "4000\n",
      "99\n"
     ]
    }
   ],
   "source": [
    "#CONTINUE STATEMENT\n",
    "for price in prices:\n",
    "    if (price is None):\n",
    "        continue\n",
    "    print(price)"
   ]
  },
  {
   "cell_type": "code",
   "execution_count": 13,
   "metadata": {},
   "outputs": [
    {
     "name": "stdout",
     "output_type": "stream",
     "text": [
      "250\n",
      "949\n",
      "199\n",
      "299\n",
      "100\n"
     ]
    }
   ],
   "source": [
    "data = [250,None,949,199,None,299,None,100]\n",
    "for price in data:\n",
    "    if price is None:\n",
    "        continue\n",
    "    print(price)"
   ]
  },
  {
   "cell_type": "code",
   "execution_count": 14,
   "metadata": {},
   "outputs": [
    {
     "name": "stdout",
     "output_type": "stream",
     "text": [
      "Namita\n",
      "Shreya\n",
      "Ritesh\n",
      "Pihu\n"
     ]
    }
   ],
   "source": [
    "names= ['Namita','Shreya','Ritesh','Pihu']\n",
    "\n",
    "for name in names:\n",
    "    print(name)"
   ]
  },
  {
   "cell_type": "code",
   "execution_count": 15,
   "metadata": {},
   "outputs": [
    {
     "name": "stdout",
     "output_type": "stream",
     "text": [
      "(0, 'Namita')\n",
      "(1, 'Shreya')\n",
      "(2, 'Ritesh')\n",
      "(3, 'Pihu')\n"
     ]
    }
   ],
   "source": [
    "#Enumerate function is a spection fuction used in iterables ang gives the result in tuple form.\n",
    "for name in enumerate(names):\n",
    "    print(name)"
   ]
  },
  {
   "cell_type": "code",
   "execution_count": 16,
   "metadata": {},
   "outputs": [
    {
     "name": "stdout",
     "output_type": "stream",
     "text": [
      "0 Namita\n",
      "1 Shreya\n",
      "2 Ritesh\n",
      "3 Pihu\n"
     ]
    }
   ],
   "source": [
    "#Enumerate function when we want the result not in tuple form.\n",
    "for id,name in enumerate(names):\n",
    "    print(id,name)"
   ]
  },
  {
   "cell_type": "code",
   "execution_count": 17,
   "metadata": {},
   "outputs": [
    {
     "name": "stdout",
     "output_type": "stream",
     "text": [
      "bread         20     2    40\n",
      "milk          60     1    60\n",
      "butter       100     2   200\n",
      "cheese       150     1   150\n"
     ]
    }
   ],
   "source": [
    "#zip function\n",
    "grocery = ['bread','milk','butter','cheese']\n",
    "price = [20,60,100,150]\n",
    "qty = [2,1,2,1]\n",
    "\n",
    "for g,p,q in zip(grocery, price, qty):\n",
    "    print(f'{g:10} {p:5} {q:5} {p*q:5}')"
   ]
  },
  {
   "cell_type": "code",
   "execution_count": 18,
   "metadata": {},
   "outputs": [
    {
     "name": "stdout",
     "output_type": "stream",
     "text": [
      "2\n",
      "5\n"
     ]
    }
   ],
   "source": [
    "#factors of a number\n",
    "num= 10\n",
    "for i in range(2,num):\n",
    "    if(num % i ==0):\n",
    "        print(i)"
   ]
  },
  {
   "cell_type": "code",
   "execution_count": 19,
   "metadata": {},
   "outputs": [
    {
     "name": "stdout",
     "output_type": "stream",
     "text": [
      "23 is a prime number\n"
     ]
    }
   ],
   "source": [
    "# prime number\n",
    "num = 23\n",
    "for i in range(2,num):\n",
    "    if(num%i==0):\n",
    "        print(f'{num} is not a prime number')\n",
    "        break\n",
    "else:\n",
    "    print(f'{num} is a prime number')"
   ]
  },
  {
   "cell_type": "code",
   "execution_count": 20,
   "metadata": {},
   "outputs": [
    {
     "name": "stdout",
     "output_type": "stream",
     "text": [
      "Reverse of a number is 321\n"
     ]
    }
   ],
   "source": [
    "#WHILE LOOP\n",
    "# reverse of a number\n",
    "num = 123\n",
    "rev = 0\n",
    "while num > 0:\n",
    "    d = num % 10\n",
    "    rev = rev * 10 + d\n",
    "    num = num // 10\n",
    "print(f'Reverse of a number is {rev}')"
   ]
  },
  {
   "cell_type": "code",
   "execution_count": 21,
   "metadata": {},
   "outputs": [
    {
     "name": "stdout",
     "output_type": "stream",
     "text": [
      "logged in\n"
     ]
    }
   ],
   "source": [
    "#EXAMPLE OF WHILE LOOP -> USERNAME AND PASSWORD\n",
    "\n",
    "username = 'admin'\n",
    "password = 'admin123'\n",
    "while True:\n",
    "    u = input(\"Enter the useraname: \")\n",
    "    p = input(\"Enter the password: \")\n",
    "    if u == username and p == password:\n",
    "        print('logged in')\n",
    "        break\n",
    "    else:\n",
    "        print('Invalid Credentials')\n",
    "        continue"
   ]
  }
 ],
 "metadata": {
  "kernelspec": {
   "display_name": "Python 3",
   "language": "python",
   "name": "python3"
  },
  "language_info": {
   "codemirror_mode": {
    "name": "ipython",
    "version": 3
   },
   "file_extension": ".py",
   "mimetype": "text/x-python",
   "name": "python",
   "nbconvert_exporter": "python",
   "pygments_lexer": "ipython3",
   "version": "3.10.10"
  },
  "orig_nbformat": 4
 },
 "nbformat": 4,
 "nbformat_minor": 2
}
