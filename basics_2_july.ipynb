{
 "cells": [
  {
   "cell_type": "code",
   "execution_count": 1,
   "metadata": {},
   "outputs": [],
   "source": [
    "# coditions\n",
    "#  True values\n",
    "\n",
    "#True\n",
    "#any non zero numbers\n",
    "#any non empty string\n",
    "#any non empty data structure\n",
    "#False values\n",
    "\n",
    "#0\n",
    "#False\n",
    "#empty string\n",
    "#empty data structure\n",
    "#Block of code ''' keyword(expression): statement 1 statement 2 ..... statement n\n",
    "\n",
    "#statement outside block ''' 4 spaces or 1 tab = indentation "
   ]
  },
  {
   "cell_type": "code",
   "execution_count": 1,
   "metadata": {},
   "outputs": [
    {
     "name": "stdout",
     "output_type": "stream",
     "text": [
      "x is bigger than 25\n"
     ]
    }
   ],
   "source": [
    "x = 30\n",
    "if x > 25:\n",
    "    print(\"x is bigger than 25\")"
   ]
  },
  {
   "cell_type": "code",
   "execution_count": 2,
   "metadata": {},
   "outputs": [
    {
     "name": "stdout",
     "output_type": "stream",
     "text": [
      "greater than ten\n",
      "greater than fifty\n"
     ]
    }
   ],
   "source": [
    "x = int(input(\"enter a number\"))\n",
    "if x > 10:\n",
    "    print(\"greater than ten\") # if the input is greater than 10, it will\n",
    "    if x > 50:\n",
    "        print(\"greater than fifty\")# and also check whether its more than or equal to 5\n",
    "        if x <= 10:\n",
    "            print(\"x is smaller than or equal to 10\")"
   ]
  },
  {
   "cell_type": "code",
   "execution_count": 3,
   "metadata": {},
   "outputs": [
    {
     "name": "stdout",
     "output_type": "stream",
     "text": [
      "greater than ten\n",
      "greater than fifty\n"
     ]
    }
   ],
   "source": [
    "x = int(input(\"enter a number\"))\n",
    "if x > 10:\n",
    " print(\"greater than ten\") # if the input is greater than 10, it will\n",
    "if x > 50:\n",
    " print(\"greater than fifty\")# and also check whether its more than or equal to 5\n",
    "if x <= 10:\n",
    " print(\"x is smaller than or equal to 10\")"
   ]
  },
  {
   "cell_type": "code",
   "execution_count": 4,
   "metadata": {},
   "outputs": [
    {
     "name": "stdout",
     "output_type": "stream",
     "text": [
      "even\n"
     ]
    }
   ],
   "source": [
    "x = int(input(\"enter a number\"))\n",
    "if (x % 2 == 0):\n",
    "    print (\"even\")\n",
    "else:\n",
    "    print (\"odd\")"
   ]
  },
  {
   "cell_type": "code",
   "execution_count": 5,
   "metadata": {},
   "outputs": [
    {
     "name": "stdout",
     "output_type": "stream",
     "text": [
      "c is the biggest number\n"
     ]
    }
   ],
   "source": [
    "a , b , c = 10, 20, 30\n",
    "if a > b and a >c:\n",
    "    print(\"a is the biggest number\")\n",
    "elif b > a and b > c:\n",
    "    print(\"b is the biggest number\")\n",
    "else:\n",
    "    print (\"c is the biggest number\" )"
   ]
  },
  {
   "cell_type": "code",
   "execution_count": 1,
   "metadata": {},
   "outputs": [
    {
     "name": "stdout",
     "output_type": "stream",
     "text": [
      "username and password are valid\n"
     ]
    }
   ],
   "source": [
    "username = input(\"enter username\")\n",
    "pwd = input(\"enter password\")\n",
    "if len(username) < 5:\n",
    "    print('Username should be at least five characters long')\n",
    "elif len(pwd) < 8:\n",
    "    print('Password must contain minimum eight characters.')\n",
    "elif not username.isalpha():\n",
    "    print('User name can only have alphabets and numbers, no special symbols or spaces')\n",
    "else:\n",
    "    print(\"username and password are valid\")\n",
    "    "
   ]
  },
  {
   "cell_type": "code",
   "execution_count": 2,
   "metadata": {},
   "outputs": [
    {
     "name": "stdout",
     "output_type": "stream",
     "text": [
      "username and password are valid\n"
     ]
    }
   ],
   "source": [
    "username = input(\"enter username\")\n",
    "pwd = input(\"enter password\")\n",
    "if len(username) < 5:\n",
    "    print('Username should be at least five characters long')\n",
    "if len(pwd) < 8:\n",
    "    print('Password must contain minimum eight characters.')\n",
    "if not username.isalpha():\n",
    "    print('User name can only have alphabets and numbers, no special symbols or spaces')\n",
    "if len(username) >= 3 and len(pwd) >= 8 and username.isalpha():\n",
    "    print(\"username and password are valid\")\n",
    "    "
   ]
  },
  {
   "cell_type": "code",
   "execution_count": null,
   "metadata": {},
   "outputs": [],
   "source": [
    "#Match-case (python 3.10)\n",
    "#it's used for checking multiple conditions of a single variable\n",
    "\n",
    "''' match variable: case value1: statements case value2: statements case _: statements '''"
   ]
  },
  {
   "cell_type": "code",
   "execution_count": 3,
   "metadata": {},
   "outputs": [
    {
     "name": "stdout",
     "output_type": "stream",
     "text": [
      "invalid day\n"
     ]
    }
   ],
   "source": [
    "day = input(\"enter a day\")\n",
    "match day:\n",
    "    case \"Monday\":\n",
    "        print(\"fun day\")\n",
    "    case \"Tuesday\":\n",
    "        print(\"study day\")\n",
    "    case \"wednesday\":\n",
    "        print(\"party time!\")\n",
    "    case \"Thursday\" | \"holiday\":\n",
    "        print(\"work hard today!!\")\n",
    "    case \"Friday\":\n",
    "        print(\"weekend is over, relax and enjoy the weekend.\")\n",
    "    case \"Saturday\":\n",
    "        print(\"all the best\")\n",
    "    case _:\n",
    "        print(\"invalid day\")"
   ]
  },
  {
   "cell_type": "code",
   "execution_count": null,
   "metadata": {},
   "outputs": [],
   "source": []
  }
 ],
 "metadata": {
  "kernelspec": {
   "display_name": "Python 3",
   "language": "python",
   "name": "python3"
  },
  "language_info": {
   "codemirror_mode": {
    "name": "ipython",
    "version": 3
   },
   "file_extension": ".py",
   "mimetype": "text/x-python",
   "name": "python",
   "nbconvert_exporter": "python",
   "pygments_lexer": "ipython3",
   "version": "3.10.10"
  },
  "orig_nbformat": 4
 },
 "nbformat": 4,
 "nbformat_minor": 2
}
