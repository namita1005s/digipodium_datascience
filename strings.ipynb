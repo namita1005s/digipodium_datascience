{
 "cells": [
  {
   "cell_type": "code",
   "execution_count": 1,
   "metadata": {},
   "outputs": [
    {
     "data": {
      "text/plain": [
       "'methods\\n    formating\\n    validation\\n    utility\\n    '"
      ]
     },
     "execution_count": 1,
     "metadata": {},
     "output_type": "execute_result"
    }
   ],
   "source": [
    "#createing\n",
    "#indexin,slicing\n",
    "\"\"\"methods\n",
    "    formating\n",
    "    validation\n",
    "    utility\n",
    "    \"\"\""
   ]
  },
  {
   "cell_type": "code",
   "execution_count": 2,
   "metadata": {},
   "outputs": [],
   "source": [
    "a = \"namita\"\n",
    "name = 'namita'\n",
    "address = '''20/12, somewhere, nowhere to be found, india'''\n",
    "# \\ escape character\n",
    "addr = r'C:\\Users\\win-10\\Downloads' # raw string\n",
    "# string is immutable a[q] = 'b'"
   ]
  },
  {
   "cell_type": "code",
   "execution_count": 3,
   "metadata": {},
   "outputs": [
    {
     "name": "stdout",
     "output_type": "stream",
     "text": [
      "0 n\n",
      "1 a\n",
      "2 m\n",
      "3 i\n",
      "4 t\n",
      "5 a\n"
     ]
    }
   ],
   "source": [
    "#indexing \n",
    "for i, c in enumerate(a):\n",
    "  print(i,c)"
   ]
  },
  {
   "cell_type": "code",
   "execution_count": 4,
   "metadata": {},
   "outputs": [
    {
     "name": "stdout",
     "output_type": "stream",
     "text": [
      "a t i m a n\n"
     ]
    }
   ],
   "source": [
    "print(a[-1],a[-2],a[-3],a[-4],a[-5],a[-6])"
   ]
  },
  {
   "cell_type": "code",
   "execution_count": 5,
   "metadata": {},
   "outputs": [
    {
     "name": "stdout",
     "output_type": "stream",
     "text": [
      "william shakespeare\n"
     ]
    }
   ],
   "source": [
    "name = 'william shakespeare'\n",
    "print(name)"
   ]
  },
  {
   "cell_type": "code",
   "execution_count": 6,
   "metadata": {},
   "outputs": [
    {
     "name": "stdout",
     "output_type": "stream",
     "text": [
      "shake\n",
      "pear\n",
      "will\n",
      "peare\n"
     ]
    }
   ],
   "source": [
    "#slicing\n",
    "print(name[8: 13])\n",
    "print(name[-5: -1])\n",
    "print(name[:4])# starting is 0, so  we dont out anything\n",
    "print(name[-5:])# if nothing is given after :, then read till end"
   ]
  },
  {
   "cell_type": "code",
   "execution_count": 7,
   "metadata": {},
   "outputs": [
    {
     "name": "stdout",
     "output_type": "stream",
     "text": [
      "william\n",
      "shakespeare\n"
     ]
    }
   ],
   "source": [
    "fname = name[:7]\n",
    "lname = name[8:] # if there is index slicing will be there\n",
    "print(fname)\n",
    "print(lname)"
   ]
  },
  {
   "cell_type": "code",
   "execution_count": 8,
   "metadata": {},
   "outputs": [],
   "source": [
    "#syntax\n",
    "#var[start : stop : step] "
   ]
  },
  {
   "cell_type": "code",
   "execution_count": 9,
   "metadata": {},
   "outputs": [
    {
     "data": {
      "text/plain": [
       "'eraepsekahs mailliw'"
      ]
     },
     "execution_count": 9,
     "metadata": {},
     "output_type": "execute_result"
    }
   ],
   "source": [
    "name[:: -1] # string reverse first colon start value second colon step"
   ]
  },
  {
   "attachments": {},
   "cell_type": "markdown",
   "metadata": {},
   "source": [
    "formatting function\n",
    "validation function\n",
    "utility function"
   ]
  },
  {
   "cell_type": "code",
   "execution_count": 10,
   "metadata": {},
   "outputs": [],
   "source": [
    "msg = \"you should study and play 😁\""
   ]
  },
  {
   "cell_type": "code",
   "execution_count": 11,
   "metadata": {},
   "outputs": [
    {
     "name": "stdout",
     "output_type": "stream",
     "text": [
      "YOU SHOULD STUDY AND PLAY 😁\n",
      "you should study and play 😁\n",
      "You Should Study And Play 😁\n",
      "You should study and play 😁\n",
      "YOU SHOULD STUDY AND PLAY 😁\n"
     ]
    }
   ],
   "source": [
    "#formatting fuction\n",
    "print(msg.upper())\n",
    "print(msg.lower())\n",
    "print(msg.title())\n",
    "print(msg.capitalize())\n",
    "print(msg.swapcase())"
   ]
  },
  {
   "cell_type": "code",
   "execution_count": 12,
   "metadata": {},
   "outputs": [
    {
     "name": "stdout",
     "output_type": "stream",
     "text": [
      "False\n",
      "True\n",
      "True\n",
      "True\n",
      "True\n",
      "True\n",
      "False\n"
     ]
    }
   ],
   "source": [
    "#validation function\n",
    "print(msg.isupper())\n",
    "print(msg.islower())\n",
    "print('hello'.isalpha())\n",
    "print('123'.isnumeric())\n",
    "print('a12'.isalnum())\n",
    "print('Mr.Raja'.startswith('Mr'))\n",
    "print('Raja'.startswith('Mr'))"
   ]
  },
  {
   "cell_type": "code",
   "execution_count": 13,
   "metadata": {},
   "outputs": [
    {
     "name": "stdout",
     "output_type": "stream",
     "text": [
      "you have given me something else\n",
      "shame on you\n"
     ]
    }
   ],
   "source": [
    "file = input('enter a file')\n",
    "if file.endswith('.py'):\n",
    "     print('you have giver a python file')\n",
    "     content = open(file).read()\n",
    "else:\n",
    "     print('you have given me something else')\n",
    "     print('shame on you')"
   ]
  },
  {
   "attachments": {},
   "cell_type": "markdown",
   "metadata": {},
   "source": [
    "-utility\n",
    "    - find()\n",
    "    -replace()\n",
    "    -split()\n",
    "    -splitlines()\n",
    "    -join()\n",
    "    -count()\n",
    "    -strip()\n",
    "  "
   ]
  },
  {
   "cell_type": "code",
   "execution_count": 14,
   "metadata": {},
   "outputs": [
    {
     "data": {
      "text/plain": [
       "8"
      ]
     },
     "execution_count": 14,
     "metadata": {},
     "output_type": "execute_result"
    }
   ],
   "source": [
    "quote = 'Journey before destination'\n",
    "quote.find('before')\n"
   ]
  },
  {
   "cell_type": "code",
   "execution_count": 15,
   "metadata": {},
   "outputs": [
    {
     "data": {
      "text/plain": [
       "1"
      ]
     },
     "execution_count": 15,
     "metadata": {},
     "output_type": "execute_result"
    }
   ],
   "source": [
    "quote.find('our')"
   ]
  },
  {
   "cell_type": "code",
   "execution_count": 16,
   "metadata": {},
   "outputs": [
    {
     "data": {
      "text/plain": [
       "-1"
      ]
     },
     "execution_count": 16,
     "metadata": {},
     "output_type": "execute_result"
    }
   ],
   "source": [
    "quote.find('x', 10)"
   ]
  },
  {
   "cell_type": "code",
   "execution_count": 17,
   "metadata": {},
   "outputs": [
    {
     "data": {
      "text/plain": [
       "'Journay bafora dastination'"
      ]
     },
     "execution_count": 17,
     "metadata": {},
     "output_type": "execute_result"
    }
   ],
   "source": [
    "quote.replace('e','a')"
   ]
  },
  {
   "cell_type": "code",
   "execution_count": 18,
   "metadata": {},
   "outputs": [
    {
     "data": {
      "text/plain": [
       "'travelling to destination'"
      ]
     },
     "execution_count": 18,
     "metadata": {},
     "output_type": "execute_result"
    }
   ],
   "source": [
    "quote.replace('Journey','travelling').replace('before','to')"
   ]
  },
  {
   "cell_type": "code",
   "execution_count": 19,
   "metadata": {},
   "outputs": [
    {
     "data": {
      "text/plain": [
       "'299999 s'"
      ]
     },
     "execution_count": 19,
     "metadata": {},
     "output_type": "execute_result"
    }
   ],
   "source": [
    "amt = '$299,999 dollars'\n",
    "amt.replace('$','').replace(',','').replace('dollar','')"
   ]
  },
  {
   "cell_type": "code",
   "execution_count": 20,
   "metadata": {},
   "outputs": [
    {
     "data": {
      "text/plain": [
       "['you', 'should', 'study', 'and', 'play', '😁']"
      ]
     },
     "execution_count": 20,
     "metadata": {},
     "output_type": "execute_result"
    }
   ],
   "source": [
    "msg.split()"
   ]
  },
  {
   "cell_type": "code",
   "execution_count": 21,
   "metadata": {},
   "outputs": [
    {
     "data": {
      "text/plain": [
       "[' we are here', ' we are there', ' and everywhere']"
      ]
     },
     "execution_count": 21,
     "metadata": {},
     "output_type": "execute_result"
    }
   ],
   "source": [
    "msg2 = ' we are here, we are there, and everywhere'\n",
    "msg2.split(',')"
   ]
  },
  {
   "cell_type": "code",
   "execution_count": 22,
   "metadata": {},
   "outputs": [
    {
     "data": {
      "text/plain": [
       "['Johnny',\n",
       " 'Johnny,',\n",
       " 'yes',\n",
       " 'papa',\n",
       " 'eating',\n",
       " 'sugar,',\n",
       " 'no',\n",
       " 'papa',\n",
       " 'telling',\n",
       " 'a',\n",
       " 'lie,',\n",
       " 'no',\n",
       " 'papa,',\n",
       " 'open',\n",
       " 'ypur',\n",
       " 'mouth',\n",
       " 'hahaha']"
      ]
     },
     "execution_count": 22,
     "metadata": {},
     "output_type": "execute_result"
    }
   ],
   "source": [
    "poem = \"Johnny Johnny, yes papa eating sugar, no papa telling a lie, no papa, open ypur mouth hahaha\"\n",
    "poem.split()"
   ]
  },
  {
   "cell_type": "code",
   "execution_count": 23,
   "metadata": {},
   "outputs": [
    {
     "data": {
      "text/plain": [
       "['Johnny Johnny, yes papa eating sugar, no papa telling a lie, no papa, open ypur mouth hahaha']"
      ]
     },
     "execution_count": 23,
     "metadata": {},
     "output_type": "execute_result"
    }
   ],
   "source": [
    "poem.splitlines()"
   ]
  },
  {
   "cell_type": "code",
   "execution_count": 24,
   "metadata": {},
   "outputs": [
    {
     "name": "stdout",
     "output_type": "stream",
     "text": [
      "['hi', 'there', 'how', 'are', 'you']\n"
     ]
    }
   ],
   "source": [
    "#joints broken list\n",
    "x = ['hi', 'there', 'how', 'are', 'you']\n",
    "print(x)"
   ]
  },
  {
   "cell_type": "code",
   "execution_count": 25,
   "metadata": {},
   "outputs": [
    {
     "name": "stdout",
     "output_type": "stream",
     "text": [
      "hi😀there😀how😀are😀you\n"
     ]
    }
   ],
   "source": [
    "#glue is '' and joint is function\n",
    "msg = ''.join(x)\n",
    "print('😀'.join(x))"
   ]
  },
  {
   "cell_type": "code",
   "execution_count": 26,
   "metadata": {},
   "outputs": [
    {
     "name": "stdout",
     "output_type": "stream",
     "text": [
      "Johnny Johnny, yes papa eating sugar, no papa telling a lie, no papa, open ypur mouth hahaha\n",
      "2\n"
     ]
    }
   ],
   "source": [
    "print(poem)\n",
    "print(poem.count('John'))"
   ]
  },
  {
   "cell_type": "code",
   "execution_count": 27,
   "metadata": {},
   "outputs": [
    {
     "name": "stdout",
     "output_type": "stream",
     "text": [
      "2\n"
     ]
    }
   ],
   "source": [
    "print(poem.lower().count('joh'))#search always on lower case"
   ]
  },
  {
   "cell_type": "code",
   "execution_count": 28,
   "metadata": {},
   "outputs": [],
   "source": [
    "username = input('enter username:')\n",
    "if username.strip() == 'namita': #strip removes leadin and trailing spaces\n",
    "    print('welcome namss')#l for firtst space and r for last space"
   ]
  },
  {
   "cell_type": "code",
   "execution_count": 29,
   "metadata": {},
   "outputs": [
    {
     "data": {
      "text/plain": [
       "'this \\nis an \\nexample\\n'"
      ]
     },
     "execution_count": 29,
     "metadata": {},
     "output_type": "execute_result"
    }
   ],
   "source": [
    "mm ='''this \n",
    "is an \n",
    "example\n",
    "''' \n",
    "mm#shit + enter"
   ]
  },
  {
   "cell_type": "code",
   "execution_count": 30,
   "metadata": {},
   "outputs": [
    {
     "name": "stdout",
     "output_type": "stream",
     "text": [
      "this \n",
      "is an \n",
      "example\n"
     ]
    }
   ],
   "source": [
    "print(mm.strip())"
   ]
  },
  {
   "cell_type": "code",
   "execution_count": 31,
   "metadata": {},
   "outputs": [],
   "source": [
    "x.append(10)\n",
    "x.append(input('Enter a number:'))"
   ]
  },
  {
   "cell_type": "code",
   "execution_count": 32,
   "metadata": {},
   "outputs": [
    {
     "ename": "ValueError",
     "evalue": "invalid literal for int() with base 10: ''",
     "output_type": "error",
     "traceback": [
      "\u001b[1;31m---------------------------------------------------------------------------\u001b[0m",
      "\u001b[1;31mValueError\u001b[0m                                Traceback (most recent call last)",
      "Cell \u001b[1;32mIn[32], line 2\u001b[0m\n\u001b[0;32m      1\u001b[0m \u001b[39mfor\u001b[39;00m i \u001b[39min\u001b[39;00m \u001b[39mrange\u001b[39m(\u001b[39m3\u001b[39m):\n\u001b[1;32m----> 2\u001b[0m     val \u001b[39m=\u001b[39m\u001b[39mint\u001b[39;49m(\u001b[39minput\u001b[39;49m(\u001b[39m\"\u001b[39;49m\u001b[39menter number:\u001b[39;49m\u001b[39m\"\u001b[39;49m))\u001b[39m# list have 11 function\u001b[39;00m\n\u001b[0;32m      3\u001b[0m     x\u001b[39m.\u001b[39mappend(val)\n\u001b[0;32m      4\u001b[0m     \u001b[39mprint\u001b[39m(x)\n",
      "\u001b[1;31mValueError\u001b[0m: invalid literal for int() with base 10: ''"
     ]
    }
   ],
   "source": [
    "for i in range(3):\n",
    "    val =int(input(\"enter number:\"))# list have 11 function\n",
    "    x.append(val)\n",
    "    print(x)"
   ]
  },
  {
   "cell_type": "code",
   "execution_count": null,
   "metadata": {},
   "outputs": [
    {
     "name": "stdout",
     "output_type": "stream",
     "text": [
      "10 6 5\n",
      "[10, '5']\n",
      "[11, 5, 6]\n",
      "[6, 5, 11, '20', 10, '5', 10]\n"
     ]
    }
   ],
   "source": [
    "print(x[0], x[-1], x[1])\n",
    "print(x[:2]) #slicing first two elements\n",
    "print(x[-3:]) #slicing last three elements\n",
    "print(x[:: -1])#reverse the list"
   ]
  },
  {
   "cell_type": "code",
   "execution_count": null,
   "metadata": {},
   "outputs": [
    {
     "name": "stdout",
     "output_type": "stream",
     "text": [
      "10510201156"
     ]
    }
   ],
   "source": [
    "for i in x:\n",
    "    print(i, end ='')"
   ]
  },
  {
   "cell_type": "markdown",
   "metadata": {},
   "source": [
    "list functions\n",
    " adding\n",
    "  append() -add single item to the end\n",
    "  insert() -insert single item at given index\n",
    "  extend() -merge an list to an existing list\n",
    "remove\n",
    "  remove() - remove single item to the list\n",
    "  pop()    -remove single item by index\n",
    "  clear()  -remove all item\n",
    "utility\n",
    "  index() -find index of item by value\n",
    "  count() -count repeated items\n",
    "  sort() -sort items\n",
    "  reverse() -reverse items\n",
    "  copy() -copy list"
   ]
  },
  {
   "cell_type": "markdown",
   "metadata": {},
   "source": [
    "adding"
   ]
  },
  {
   "cell_type": "markdown",
   "metadata": {},
   "source": [
    "append()"
   ]
  },
  {
   "cell_type": "code",
   "execution_count": null,
   "metadata": {},
   "outputs": [
    {
     "data": {
      "text/plain": [
       "['The Final Empire', 'Psychology Of Money', 'Well Of Ascension']"
      ]
     },
     "execution_count": 2,
     "metadata": {},
     "output_type": "execute_result"
    }
   ],
   "source": [
    "books = [] #books list empty\n",
    "books.append('The Final Empire') # a string is added to the end of list\n",
    "books.append('Psychology Of Money')\n",
    "books.append('Well Of Ascension')\n",
    "books\n"
   ]
  },
  {
   "cell_type": "markdown",
   "metadata": {},
   "source": [
    "insert()"
   ]
  },
  {
   "cell_type": "code",
   "execution_count": null,
   "metadata": {},
   "outputs": [
    {
     "data": {
      "text/plain": [
       "['The Final Empire',\n",
       " 'Harry Potter and the goblet of fire',\n",
       " 'Psychology Of Money',\n",
       " 'Well Of Ascension']"
      ]
     },
     "execution_count": 5,
     "metadata": {},
     "output_type": "execute_result"
    }
   ],
   "source": [
    "books.insert(1,\"Harry Potter and the goblet of fire\")\n",
    "books"
   ]
  },
  {
   "cell_type": "code",
   "execution_count": null,
   "metadata": {},
   "outputs": [
    {
     "data": {
      "text/plain": [
       "['The Final Empire',\n",
       " 'Harry Potter and the goblet of fire',\n",
       " 'The Hero Of Ages',\n",
       " 'Well Of Ascension']"
      ]
     },
     "execution_count": 6,
     "metadata": {},
     "output_type": "execute_result"
    }
   ],
   "source": [
    "books[2] = \"The Hero Of Ages\" #replace\n",
    "books"
   ]
  },
  {
   "cell_type": "markdown",
   "metadata": {},
   "source": [
    "extend()"
   ]
  },
  {
   "cell_type": "code",
   "execution_count": null,
   "metadata": {},
   "outputs": [
    {
     "data": {
      "text/plain": [
       "['The Final Empire',\n",
       " 'Harry Potter and the goblet of fire',\n",
       " 'The Hero Of Ages',\n",
       " 'Well Of Ascension',\n",
       " 'The Lord Of Rings',\n",
       " 'The Blue Umbrella',\n",
       " 'Pride And Prejudice',\n",
       " 'The Lord Of Rings',\n",
       " 'The Blue Umbrella',\n",
       " 'Pride And Prejudice']"
      ]
     },
     "execution_count": 8,
     "metadata": {},
     "output_type": "execute_result"
    }
   ],
   "source": [
    "old_books = [\"The Lord Of Rings\",\"The Blue Umbrella\",\"Pride And Prejudice\"]\n",
    "books.extend(old_books)\n",
    "books"
   ]
  },
  {
   "cell_type": "markdown",
   "metadata": {},
   "source": [
    "remove\n",
    "remove()"
   ]
  },
  {
   "cell_type": "code",
   "execution_count": null,
   "metadata": {},
   "outputs": [
    {
     "data": {
      "text/plain": [
       "['The Final Empire',\n",
       " 'Harry Potter and the goblet of fire',\n",
       " 'The Hero Of Ages',\n",
       " 'Well Of Ascension',\n",
       " 'The Lord Of Rings',\n",
       " 'The Blue Umbrella',\n",
       " 'Pride And Prejudice',\n",
       " 'The Lord Of Rings',\n",
       " 'The Blue Umbrella',\n",
       " 'Pride And Prejudice']"
      ]
     },
     "execution_count": 10,
     "metadata": {},
     "output_type": "execute_result"
    }
   ],
   "source": [
    "if 'The Lord of Rings' in books:\n",
    " books.remove('The Lord of Rings') #remove first occurance\n",
    "books"
   ]
  },
  {
   "cell_type": "code",
   "execution_count": null,
   "metadata": {},
   "outputs": [
    {
     "data": {
      "text/plain": [
       "['The Final Empire',\n",
       " 'Harry Potter and the goblet of fire',\n",
       " 'The Hero Of Ages',\n",
       " 'Well Of Ascension',\n",
       " 'The Blue Umbrella',\n",
       " 'Pride And Prejudice',\n",
       " 'The Lord Of Rings',\n",
       " 'The Blue Umbrella',\n",
       " 'Pride And Prejudice']"
      ]
     },
     "execution_count": 11,
     "metadata": {},
     "output_type": "execute_result"
    }
   ],
   "source": [
    "books.pop(4)\n",
    "books"
   ]
  },
  {
   "cell_type": "code",
   "execution_count": null,
   "metadata": {},
   "outputs": [
    {
     "data": {
      "text/plain": [
       "'Pride And Prejudice'"
      ]
     },
     "execution_count": 12,
     "metadata": {},
     "output_type": "execute_result"
    }
   ],
   "source": [
    "books.pop()# remove the last/element"
   ]
  },
  {
   "cell_type": "code",
   "execution_count": null,
   "metadata": {},
   "outputs": [
    {
     "data": {
      "text/plain": [
       "[]"
      ]
     },
     "execution_count": 13,
     "metadata": {},
     "output_type": "execute_result"
    }
   ],
   "source": [
    "books.clear()#empty all box\n",
    "books "
   ]
  },
  {
   "cell_type": "code",
   "execution_count": null,
   "metadata": {},
   "outputs": [
    {
     "data": {
      "text/plain": [
       "['Pathaan\\t1050.05\\t524.53\\t657.5\\t392.55\\t250\\tAll Time Blockbuster',\n",
       " '2\\tBaahubali 2 The Conclusion\\t1788.06\\t510.99\\t1416.9\\t371.16\\t250\\tAll Time Blockbuster',\n",
       " '3\\tKGF Chapter 2\\t1208\\t435.33\\t1000.85\\t207.15\\t100\\tAll Time Blockbuster',\n",
       " '4\\tDangal\\t2070.3\\t374.43\\t535\\t1535.3\\t70\\tAll Time Blockbuster',\n",
       " '5\\tSanju\\t588.5\\t342.57\\t438.5\\t150\\t100\\tAll Time Blockbuster',\n",
       " '6\\tPK\\t792\\t340.8\\t489\\t303\\t85\\tAll Time Blockbuster',\n",
       " '7\\tTiger Zinda Hai\\t558\\t339.16\\t433.77\\t124.23\\t210\\tBlockbuster',\n",
       " '8\\tBajrangi Bhaijaan\\t922.03\\t320.34\\t432.46\\t489.57\\t90\\tAll Time Blockbuster',\n",
       " '9\\tWar\\t471\\t303.34\\t375\\t96\\t150\\tBlockbuster',\n",
       " '10\\tPadmaavat\\t585\\t302.15\\t400\\t185\\t215\\tBlockbuster',\n",
       " '11\\tSultan\\t627.82\\t300.45\\t421.25\\t206.57\\t80\\tBlockbuster',\n",
       " '12\\tKabir Singh\\t377\\t278.8\\t330\\t47\\t55\\tAll Time Blockbuster',\n",
       " '13\\tTanhaji: The Unsung Warrior\\t361\\t277.75\\t325\\t36\\t150\\tBlockbuster',\n",
       " '14\\tRRR\\t1230\\t272.78\\t915.85\\t314.15\\t550\\tBlockbuster',\n",
       " '15\\tDhoom 3\\t558\\t271.07\\t372\\t186\\t175\\tAll Time Blockbuster',\n",
       " '16\\tThe Kashmir Files\\t341\\t252.25\\t295\\t46\\t20\\tAll Time Blockbuster',\n",
       " '17\\tBrahmastra Part One: Shiva\\t431\\t249.57\\t318\\t113\\t350\\tHit',\n",
       " '18\\tURI The Surgical Strike\\t341.75\\t244.14\\t293.75\\t48\\t70\\tAll Time Blockbuster',\n",
       " '19\\tSimmba\\t390\\t240.3\\t295\\t95\\t90\\tBlockbuster',\n",
       " '20\\tDrishyam 2\\t342.31\\t239.67\\t282.81\\t59.5\\t50\\tAll Time Blockbuster',\n",
       " '21\\tThe Kerala Story\\t302\\t239.05\\t286.5\\t15.5\\t15\\tAll Time Blockbuster',\n",
       " '22\\tKick\\t378\\t231.85\\t310\\t68\\t100\\tSuperHit',\n",
       " '23\\tKrrish 3\\t374\\t231.79\\t313\\t61\\t94\\tBlockbuster',\n",
       " '24\\tChennai Express\\t422\\t227.13\\t310\\t112\\t115\\tSuperHit',\n",
       " '25\\tBharat\\t321\\t212.03\\t251\\t70\\t165\\tHit',\n",
       " '26\\tHousefull 4\\t296\\t210.3\\t247\\t49\\t175\\tSuperHit',\n",
       " '27\\tPrem Ratan Dhan Payo\\t405.85\\t210.16\\t310\\t95.85\\t180\\tSuperHit',\n",
       " '28\\tGolmaal Again\\t308.62\\t205.69\\t262.88\\t45.74\\t80\\tBlockbuster',\n",
       " '29\\tGood Newwz\\t316\\t205.09\\t242\\t74\\t60\\tBlockbuster',\n",
       " '30\\tMission Mangal\\t290\\t203.08\\t236\\t54\\t40\\tBlockbuster',\n",
       " '31\\t3 Idiots\\t460\\t202.47\\t274\\t186\\t55\\tAll Time Blockbuster',\n",
       " '32\\tHappy New Year\\t397\\t199.95\\t295\\t102\\t150\\tHit',\n",
       " '33\\tEk Tha Tiger\\t320\\t198.78\\t263\\t57\\t75\\tBlockbuster',\n",
       " '34\\tSooryavanshi\\t293\\t195.55\\t230.8\\t62.2\\t180\\tSuperHit',\n",
       " '35\\t2.0\\t744.78\\t190.48\\t551.5\\t193.28\\t543\\tAverage',\n",
       " '36\\tYeh Jawaani Hai Deewani\\t318\\t188.57\\t242\\t76\\t75\\tBlockbuster',\n",
       " '37\\tBhool Bhulaiyaa 2\\t265.5\\t184.32\\t216.5\\t49\\t80\\tBlockbuster',\n",
       " '38\\tBajirao Mastani\\t362\\t184.3\\t263\\t99\\t145\\tHit',\n",
       " '39\\tBang Bang!\\t340\\t174.51\\t270\\t70\\t160\\tHit',\n",
       " '40\\tRace 3\\t300\\t169.5\\t217\\t83\\t170\\tAverage',\n",
       " '41\\tBaaghi 2\\t257\\t165.5\\t211.84\\t45.16\\t75\\tBlockbuster',\n",
       " '42\\tRaees\\t285\\t164.63\\t227.18\\t57.82\\t92\\tHit',\n",
       " '43\\tKesari\\t208.8\\t155.7\\t183.8\\t25\\t100\\tHit',\n",
       " '44\\tTotal Dhamaal\\t232.18\\t155.67\\t183.68\\t48.5\\t105\\tSuperHit',\n",
       " '45\\tDabangg 2\\t265\\t155\\t226\\t39\\t84\\tBlockbuster',\n",
       " '46\\tChhichhore\\t211\\t153.16\\t180\\t31\\t70\\tBlockbuster',\n",
       " '47\\tTanu Weds Manu Returns\\t258\\t150.71\\t214\\t44\\t39\\tBlockbuster',\n",
       " '48\\tBodyguard\\t230\\t148.52\\t189\\t41\\t60\\tBlockbuster',\n",
       " '49\\tDilwale\\t388\\t148.42\\t212\\t176\\t165\\tAverage',\n",
       " '50\\tSuper 30\\t210\\t147.39\\t171\\t39\\t60\\tSuperHit',\n",
       " '51\\tTu Jhoothi Main Makkar\\t223\\t147.28\\t175\\t48\\t70\\tHit',\n",
       " '52\\tAdipurush\\t390.5\\t147.26\\t340.5\\t50\\t500\\tNone',\n",
       " '53\\tDabangg 3\\t218\\t146.23\\t178\\t40\\t90\\tAverage',\n",
       " '54\\tSaaho\\t451\\t145.67\\t359\\t92\\t350\\tBelow Average',\n",
       " '55\\tThugs Of Hindostan\\t327.51\\t145.55\\t194\\t133.51\\t300\\tDisaster',\n",
       " '56\\tDream Girl\\t195\\t141.3\\t163\\t32\\t30\\tSuperHit',\n",
       " '57\\tSingham Returns\\t216.56\\t140.6\\t200\\t16.56\\t105\\tSuperHit',\n",
       " '58\\tDabangg\\t215\\t140.22\\t207.8\\t7.2\\t42\\tBlockbuster',\n",
       " '59\\tGully Boy\\t235.7\\t139.63\\t164.7\\t71\\t60\\tSuperHit',\n",
       " '60\\tJudwaa 2\\t227.51\\t138.55\\t192.43\\t35.08\\t65\\tSuperHit',\n",
       " '61\\tBadhaai Ho\\t220\\t137.31\\t176\\t44\\t23\\tBlockbuster',\n",
       " '62\\tToilet Ek Prem Katha\\t316.59\\t134.42\\t186.42\\t130.17\\t18\\tSuperHit',\n",
       " '63\\tRowdy Rathore\\t198\\t133.25\\t172\\t26\\t45\\tBlockbuster',\n",
       " '64\\tM.S. Dhoni: The Untold Story\\t215.5\\t133.09\\t184.68\\t30.82\\t104\\tHit',\n",
       " '65\\tGangubai Kathiawadi\\t211.5\\t131.9\\t155.5\\t56\\t180\\tHit',\n",
       " '66\\tStree\\t182\\t129.83\\t167\\t15\\t30\\tBlockbuster',\n",
       " '67\\tAirlift\\t228\\t128.1\\t183\\t45\\t30\\tSuperHit',\n",
       " '68\\tAvatar: The Way of Water\\t17380\\t127.77\\t477.5\\t16902.5\\t3200\\tBlockbuster',\n",
       " '69\\tRustom\\t216.35\\t127.49\\t177.07\\t39.28\\t50\\tSuperHit',\n",
       " '70\\tRaazi\\t195\\t123.74\\t158\\t37\\t37\\tBlockbuster',\n",
       " '71\\tReady\\t185.1\\t120.9\\t153.2\\t31.9\\t40\\tBlockbuster',\n",
       " '72\\tJab Tak Hai Jaan\\t235.7\\t120.87\\t167.8\\t67.9\\t50\\tSuperHit',\n",
       " '73\\tTubelight\\t211.25\\t119.26\\t165.64\\t45.61\\t100\\tAverage',\n",
       " '74\\tBaahubali\\t650\\t118.5\\t516\\t134\\t180\\tBlockbuster',\n",
       " '75\\tAgneepath\\t195.73\\t118.2\\t159.57\\t36.16\\t71\\tSuperHit',\n",
       " '76\\tBadrinath Ki Dulhania\\t201.07\\t117.89\\t162.17\\t38.9\\t44\\tSuperHit',\n",
       " '77\\tGoliyon Ki Rasleela Ram-Leela\\t218.07\\t117.53\\t158.57\\t59.5\\t88\\tHit',\n",
       " '78\\tJai Ho\\t186.37\\t117.2\\t150.02\\t36.35\\t65\\tHit',\n",
       " '79\\tJolly LLB 2\\t197.33\\t117\\t162.5\\t34.83\\t30\\tSuperHit',\n",
       " '80\\tAvengers End Game\\t18970\\t116.47\\t445\\t13335\\t2500\\tAll Time Blockbuster',\n",
       " '81\\tBala\\t162\\t116.38\\t135\\t27\\t35\\tSuperHit',\n",
       " '82\\tRa.One\\t206.73\\t116.2\\t156.87\\t49.86\\t130\\tBelow Average',\n",
       " '83\\tGhajini\\t194.1\\t114\\t157.85\\t36.25\\t52\\tBlockbuster',\n",
       " '84\\tAe Dil Hai Mushkil\\t240.72\\t113.19\\t158.47\\t82.25\\t70\\tSuperHit',\n",
       " '85\\tHoliday\\t178.4\\t112.53\\t153.43\\t24.97\\t50\\tSuperHit',\n",
       " '86\\tBarfi!\\t175\\t112.1\\t145\\t30\\t40\\tSuperHit',\n",
       " '87\\tHousefull 2\\t188.4\\t112\\t151.6\\t36.8\\t72\\tSuperHit',\n",
       " '88\\tKisi Ka Bhai Kisi Ki Jaan\\t184.6\\t110.94\\t132\\t52.6\\t100\\tBelow Average',\n",
       " '89\\tHousefull 3\\t185.7\\t110.2\\t154.2\\t31.5\\t85\\tHit',\n",
       " '90\\tGold\\t158\\t109.58\\t141\\t17\\t75\\tHit',\n",
       " '91\\tSonu Ke Titu Ki Sweety\\t156.46\\t108.95\\t139.46\\t17\\t40\\tBlockbuster',\n",
       " '92\\tBhaag Milkha Bhaag\\t168\\t108.8\\t146.88\\t21.12\\t30\\tSuperHit',\n",
       " '93\\tDon 2: The Chase Continues\\t210.35\\t108.51\\t144.73\\t65.62\\t76\\tHit',\n",
       " '94\\tGolmaal 3\\t162.3\\t106.64\\t143.97\\t18.33\\t40\\tBlockbuster',\n",
       " '95\\tPushpa: The Rise (Part 1)\\t350.1\\t106.35\\t313.8\\t36.3\\t150\\tSuperHit',\n",
       " '96\\tABCD 2\\t166\\t106.12\\t146.62\\t19.38\\t65\\tSuperHit',\n",
       " '97\\tEk Villain\\t155\\t105.76\\t142.77\\t12.23\\t39\\tSuperHit',\n",
       " '98\\tSon Of Sardaar\\t150\\t105.1\\t141.89\\t8.11\\t40\\tSuperHit',\n",
       " '99\\tKaabil\\t178.1\\t104.34\\t145.8\\t32.3\\t35\\tHit',\n",
       " '100\\tDe De Pyaar De']"
      ]
     },
     "execution_count": 14,
     "metadata": {},
     "output_type": "execute_result"
    }
   ],
   "source": [
    "kachra = '''Pathaan\t1050.05\t524.53\t657.5\t392.55\t250\tAll Time Blockbuster\n",
    "2\tBaahubali 2 The Conclusion\t1788.06\t510.99\t1416.9\t371.16\t250\tAll Time Blockbuster\n",
    "3\tKGF Chapter 2\t1208\t435.33\t1000.85\t207.15\t100\tAll Time Blockbuster\n",
    "4\tDangal\t2070.3\t374.43\t535\t1535.3\t70\tAll Time Blockbuster\n",
    "5\tSanju\t588.5\t342.57\t438.5\t150\t100\tAll Time Blockbuster\n",
    "6\tPK\t792\t340.8\t489\t303\t85\tAll Time Blockbuster\n",
    "7\tTiger Zinda Hai\t558\t339.16\t433.77\t124.23\t210\tBlockbuster\n",
    "8\tBajrangi Bhaijaan\t922.03\t320.34\t432.46\t489.57\t90\tAll Time Blockbuster\n",
    "9\tWar\t471\t303.34\t375\t96\t150\tBlockbuster\n",
    "10\tPadmaavat\t585\t302.15\t400\t185\t215\tBlockbuster\n",
    "11\tSultan\t627.82\t300.45\t421.25\t206.57\t80\tBlockbuster\n",
    "12\tKabir Singh\t377\t278.8\t330\t47\t55\tAll Time Blockbuster\n",
    "13\tTanhaji: The Unsung Warrior\t361\t277.75\t325\t36\t150\tBlockbuster\n",
    "14\tRRR\t1230\t272.78\t915.85\t314.15\t550\tBlockbuster\n",
    "15\tDhoom 3\t558\t271.07\t372\t186\t175\tAll Time Blockbuster\n",
    "16\tThe Kashmir Files\t341\t252.25\t295\t46\t20\tAll Time Blockbuster\n",
    "17\tBrahmastra Part One: Shiva\t431\t249.57\t318\t113\t350\tHit\n",
    "18\tURI The Surgical Strike\t341.75\t244.14\t293.75\t48\t70\tAll Time Blockbuster\n",
    "19\tSimmba\t390\t240.3\t295\t95\t90\tBlockbuster\n",
    "20\tDrishyam 2\t342.31\t239.67\t282.81\t59.5\t50\tAll Time Blockbuster\n",
    "21\tThe Kerala Story\t302\t239.05\t286.5\t15.5\t15\tAll Time Blockbuster\n",
    "22\tKick\t378\t231.85\t310\t68\t100\tSuperHit\n",
    "23\tKrrish 3\t374\t231.79\t313\t61\t94\tBlockbuster\n",
    "24\tChennai Express\t422\t227.13\t310\t112\t115\tSuperHit\n",
    "25\tBharat\t321\t212.03\t251\t70\t165\tHit\n",
    "26\tHousefull 4\t296\t210.3\t247\t49\t175\tSuperHit\n",
    "27\tPrem Ratan Dhan Payo\t405.85\t210.16\t310\t95.85\t180\tSuperHit\n",
    "28\tGolmaal Again\t308.62\t205.69\t262.88\t45.74\t80\tBlockbuster\n",
    "29\tGood Newwz\t316\t205.09\t242\t74\t60\tBlockbuster\n",
    "30\tMission Mangal\t290\t203.08\t236\t54\t40\tBlockbuster\n",
    "31\t3 Idiots\t460\t202.47\t274\t186\t55\tAll Time Blockbuster\n",
    "32\tHappy New Year\t397\t199.95\t295\t102\t150\tHit\n",
    "33\tEk Tha Tiger\t320\t198.78\t263\t57\t75\tBlockbuster\n",
    "34\tSooryavanshi\t293\t195.55\t230.8\t62.2\t180\tSuperHit\n",
    "35\t2.0\t744.78\t190.48\t551.5\t193.28\t543\tAverage\n",
    "36\tYeh Jawaani Hai Deewani\t318\t188.57\t242\t76\t75\tBlockbuster\n",
    "37\tBhool Bhulaiyaa 2\t265.5\t184.32\t216.5\t49\t80\tBlockbuster\n",
    "38\tBajirao Mastani\t362\t184.3\t263\t99\t145\tHit\n",
    "39\tBang Bang!\t340\t174.51\t270\t70\t160\tHit\n",
    "40\tRace 3\t300\t169.5\t217\t83\t170\tAverage\n",
    "41\tBaaghi 2\t257\t165.5\t211.84\t45.16\t75\tBlockbuster\n",
    "42\tRaees\t285\t164.63\t227.18\t57.82\t92\tHit\n",
    "43\tKesari\t208.8\t155.7\t183.8\t25\t100\tHit\n",
    "44\tTotal Dhamaal\t232.18\t155.67\t183.68\t48.5\t105\tSuperHit\n",
    "45\tDabangg 2\t265\t155\t226\t39\t84\tBlockbuster\n",
    "46\tChhichhore\t211\t153.16\t180\t31\t70\tBlockbuster\n",
    "47\tTanu Weds Manu Returns\t258\t150.71\t214\t44\t39\tBlockbuster\n",
    "48\tBodyguard\t230\t148.52\t189\t41\t60\tBlockbuster\n",
    "49\tDilwale\t388\t148.42\t212\t176\t165\tAverage\n",
    "50\tSuper 30\t210\t147.39\t171\t39\t60\tSuperHit\n",
    "51\tTu Jhoothi Main Makkar\t223\t147.28\t175\t48\t70\tHit\n",
    "52\tAdipurush\t390.5\t147.26\t340.5\t50\t500\tNone\n",
    "53\tDabangg 3\t218\t146.23\t178\t40\t90\tAverage\n",
    "54\tSaaho\t451\t145.67\t359\t92\t350\tBelow Average\n",
    "55\tThugs Of Hindostan\t327.51\t145.55\t194\t133.51\t300\tDisaster\n",
    "56\tDream Girl\t195\t141.3\t163\t32\t30\tSuperHit\n",
    "57\tSingham Returns\t216.56\t140.6\t200\t16.56\t105\tSuperHit\n",
    "58\tDabangg\t215\t140.22\t207.8\t7.2\t42\tBlockbuster\n",
    "59\tGully Boy\t235.7\t139.63\t164.7\t71\t60\tSuperHit\n",
    "60\tJudwaa 2\t227.51\t138.55\t192.43\t35.08\t65\tSuperHit\n",
    "61\tBadhaai Ho\t220\t137.31\t176\t44\t23\tBlockbuster\n",
    "62\tToilet Ek Prem Katha\t316.59\t134.42\t186.42\t130.17\t18\tSuperHit\n",
    "63\tRowdy Rathore\t198\t133.25\t172\t26\t45\tBlockbuster\n",
    "64\tM.S. Dhoni: The Untold Story\t215.5\t133.09\t184.68\t30.82\t104\tHit\n",
    "65\tGangubai Kathiawadi\t211.5\t131.9\t155.5\t56\t180\tHit\n",
    "66\tStree\t182\t129.83\t167\t15\t30\tBlockbuster\n",
    "67\tAirlift\t228\t128.1\t183\t45\t30\tSuperHit\n",
    "68\tAvatar: The Way of Water\t17380\t127.77\t477.5\t16902.5\t3200\tBlockbuster\n",
    "69\tRustom\t216.35\t127.49\t177.07\t39.28\t50\tSuperHit\n",
    "70\tRaazi\t195\t123.74\t158\t37\t37\tBlockbuster\n",
    "71\tReady\t185.1\t120.9\t153.2\t31.9\t40\tBlockbuster\n",
    "72\tJab Tak Hai Jaan\t235.7\t120.87\t167.8\t67.9\t50\tSuperHit\n",
    "73\tTubelight\t211.25\t119.26\t165.64\t45.61\t100\tAverage\n",
    "74\tBaahubali\t650\t118.5\t516\t134\t180\tBlockbuster\n",
    "75\tAgneepath\t195.73\t118.2\t159.57\t36.16\t71\tSuperHit\n",
    "76\tBadrinath Ki Dulhania\t201.07\t117.89\t162.17\t38.9\t44\tSuperHit\n",
    "77\tGoliyon Ki Rasleela Ram-Leela\t218.07\t117.53\t158.57\t59.5\t88\tHit\n",
    "78\tJai Ho\t186.37\t117.2\t150.02\t36.35\t65\tHit\n",
    "79\tJolly LLB 2\t197.33\t117\t162.5\t34.83\t30\tSuperHit\n",
    "80\tAvengers End Game\t18970\t116.47\t445\t13335\t2500\tAll Time Blockbuster\n",
    "81\tBala\t162\t116.38\t135\t27\t35\tSuperHit\n",
    "82\tRa.One\t206.73\t116.2\t156.87\t49.86\t130\tBelow Average\n",
    "83\tGhajini\t194.1\t114\t157.85\t36.25\t52\tBlockbuster\n",
    "84\tAe Dil Hai Mushkil\t240.72\t113.19\t158.47\t82.25\t70\tSuperHit\n",
    "85\tHoliday\t178.4\t112.53\t153.43\t24.97\t50\tSuperHit\n",
    "86\tBarfi!\t175\t112.1\t145\t30\t40\tSuperHit\n",
    "87\tHousefull 2\t188.4\t112\t151.6\t36.8\t72\tSuperHit\n",
    "88\tKisi Ka Bhai Kisi Ki Jaan\t184.6\t110.94\t132\t52.6\t100\tBelow Average\n",
    "89\tHousefull 3\t185.7\t110.2\t154.2\t31.5\t85\tHit\n",
    "90\tGold\t158\t109.58\t141\t17\t75\tHit\n",
    "91\tSonu Ke Titu Ki Sweety\t156.46\t108.95\t139.46\t17\t40\tBlockbuster\n",
    "92\tBhaag Milkha Bhaag\t168\t108.8\t146.88\t21.12\t30\tSuperHit\n",
    "93\tDon 2: The Chase Continues\t210.35\t108.51\t144.73\t65.62\t76\tHit\n",
    "94\tGolmaal 3\t162.3\t106.64\t143.97\t18.33\t40\tBlockbuster\n",
    "95\tPushpa: The Rise (Part 1)\t350.1\t106.35\t313.8\t36.3\t150\tSuperHit\n",
    "96\tABCD 2\t166\t106.12\t146.62\t19.38\t65\tSuperHit\n",
    "97\tEk Villain\t155\t105.76\t142.77\t12.23\t39\tSuperHit\n",
    "98\tSon Of Sardaar\t150\t105.1\t141.89\t8.11\t40\tSuperHit\n",
    "99\tKaabil\t178.1\t104.34\t145.8\t32.3\t35\tHit\n",
    "100\tDe De Pyaar De'''\n",
    "movies = kachra.splitlines()\n",
    "movies"
   ]
  },
  {
   "cell_type": "markdown",
   "metadata": {},
   "source": [
    "movies .sotrt()\n",
    "movies.reverse()"
   ]
  },
  {
   "cell_type": "code",
   "execution_count": null,
   "metadata": {},
   "outputs": [
    {
     "data": {
      "text/plain": [
       "['10\\tPadmaavat\\t585\\t302.15\\t400\\t185\\t215\\tBlockbuster',\n",
       " '100\\tDe De Pyaar De',\n",
       " '11\\tSultan\\t627.82\\t300.45\\t421.25\\t206.57\\t80\\tBlockbuster',\n",
       " '12\\tKabir Singh\\t377\\t278.8\\t330\\t47\\t55\\tAll Time Blockbuster',\n",
       " '13\\tTanhaji: The Unsung Warrior\\t361\\t277.75\\t325\\t36\\t150\\tBlockbuster',\n",
       " '14\\tRRR\\t1230\\t272.78\\t915.85\\t314.15\\t550\\tBlockbuster',\n",
       " '15\\tDhoom 3\\t558\\t271.07\\t372\\t186\\t175\\tAll Time Blockbuster',\n",
       " '16\\tThe Kashmir Files\\t341\\t252.25\\t295\\t46\\t20\\tAll Time Blockbuster',\n",
       " '17\\tBrahmastra Part One: Shiva\\t431\\t249.57\\t318\\t113\\t350\\tHit',\n",
       " '18\\tURI The Surgical Strike\\t341.75\\t244.14\\t293.75\\t48\\t70\\tAll Time Blockbuster',\n",
       " '19\\tSimmba\\t390\\t240.3\\t295\\t95\\t90\\tBlockbuster',\n",
       " '2\\tBaahubali 2 The Conclusion\\t1788.06\\t510.99\\t1416.9\\t371.16\\t250\\tAll Time Blockbuster',\n",
       " '20\\tDrishyam 2\\t342.31\\t239.67\\t282.81\\t59.5\\t50\\tAll Time Blockbuster',\n",
       " '21\\tThe Kerala Story\\t302\\t239.05\\t286.5\\t15.5\\t15\\tAll Time Blockbuster',\n",
       " '22\\tKick\\t378\\t231.85\\t310\\t68\\t100\\tSuperHit',\n",
       " '23\\tKrrish 3\\t374\\t231.79\\t313\\t61\\t94\\tBlockbuster',\n",
       " '24\\tChennai Express\\t422\\t227.13\\t310\\t112\\t115\\tSuperHit',\n",
       " '25\\tBharat\\t321\\t212.03\\t251\\t70\\t165\\tHit',\n",
       " '26\\tHousefull 4\\t296\\t210.3\\t247\\t49\\t175\\tSuperHit',\n",
       " '27\\tPrem Ratan Dhan Payo\\t405.85\\t210.16\\t310\\t95.85\\t180\\tSuperHit',\n",
       " '28\\tGolmaal Again\\t308.62\\t205.69\\t262.88\\t45.74\\t80\\tBlockbuster',\n",
       " '29\\tGood Newwz\\t316\\t205.09\\t242\\t74\\t60\\tBlockbuster',\n",
       " '3\\tKGF Chapter 2\\t1208\\t435.33\\t1000.85\\t207.15\\t100\\tAll Time Blockbuster',\n",
       " '30\\tMission Mangal\\t290\\t203.08\\t236\\t54\\t40\\tBlockbuster',\n",
       " '31\\t3 Idiots\\t460\\t202.47\\t274\\t186\\t55\\tAll Time Blockbuster',\n",
       " '32\\tHappy New Year\\t397\\t199.95\\t295\\t102\\t150\\tHit',\n",
       " '33\\tEk Tha Tiger\\t320\\t198.78\\t263\\t57\\t75\\tBlockbuster',\n",
       " '34\\tSooryavanshi\\t293\\t195.55\\t230.8\\t62.2\\t180\\tSuperHit',\n",
       " '35\\t2.0\\t744.78\\t190.48\\t551.5\\t193.28\\t543\\tAverage',\n",
       " '36\\tYeh Jawaani Hai Deewani\\t318\\t188.57\\t242\\t76\\t75\\tBlockbuster',\n",
       " '37\\tBhool Bhulaiyaa 2\\t265.5\\t184.32\\t216.5\\t49\\t80\\tBlockbuster',\n",
       " '38\\tBajirao Mastani\\t362\\t184.3\\t263\\t99\\t145\\tHit',\n",
       " '39\\tBang Bang!\\t340\\t174.51\\t270\\t70\\t160\\tHit',\n",
       " '4\\tDangal\\t2070.3\\t374.43\\t535\\t1535.3\\t70\\tAll Time Blockbuster',\n",
       " '40\\tRace 3\\t300\\t169.5\\t217\\t83\\t170\\tAverage',\n",
       " '41\\tBaaghi 2\\t257\\t165.5\\t211.84\\t45.16\\t75\\tBlockbuster',\n",
       " '42\\tRaees\\t285\\t164.63\\t227.18\\t57.82\\t92\\tHit',\n",
       " '43\\tKesari\\t208.8\\t155.7\\t183.8\\t25\\t100\\tHit',\n",
       " '44\\tTotal Dhamaal\\t232.18\\t155.67\\t183.68\\t48.5\\t105\\tSuperHit',\n",
       " '45\\tDabangg 2\\t265\\t155\\t226\\t39\\t84\\tBlockbuster',\n",
       " '46\\tChhichhore\\t211\\t153.16\\t180\\t31\\t70\\tBlockbuster',\n",
       " '47\\tTanu Weds Manu Returns\\t258\\t150.71\\t214\\t44\\t39\\tBlockbuster',\n",
       " '48\\tBodyguard\\t230\\t148.52\\t189\\t41\\t60\\tBlockbuster',\n",
       " '49\\tDilwale\\t388\\t148.42\\t212\\t176\\t165\\tAverage',\n",
       " '5\\tSanju\\t588.5\\t342.57\\t438.5\\t150\\t100\\tAll Time Blockbuster',\n",
       " '50\\tSuper 30\\t210\\t147.39\\t171\\t39\\t60\\tSuperHit',\n",
       " '51\\tTu Jhoothi Main Makkar\\t223\\t147.28\\t175\\t48\\t70\\tHit',\n",
       " '52\\tAdipurush\\t390.5\\t147.26\\t340.5\\t50\\t500\\tNone',\n",
       " '53\\tDabangg 3\\t218\\t146.23\\t178\\t40\\t90\\tAverage',\n",
       " '54\\tSaaho\\t451\\t145.67\\t359\\t92\\t350\\tBelow Average',\n",
       " '55\\tThugs Of Hindostan\\t327.51\\t145.55\\t194\\t133.51\\t300\\tDisaster',\n",
       " '56\\tDream Girl\\t195\\t141.3\\t163\\t32\\t30\\tSuperHit',\n",
       " '57\\tSingham Returns\\t216.56\\t140.6\\t200\\t16.56\\t105\\tSuperHit',\n",
       " '58\\tDabangg\\t215\\t140.22\\t207.8\\t7.2\\t42\\tBlockbuster',\n",
       " '59\\tGully Boy\\t235.7\\t139.63\\t164.7\\t71\\t60\\tSuperHit',\n",
       " '6\\tPK\\t792\\t340.8\\t489\\t303\\t85\\tAll Time Blockbuster',\n",
       " '60\\tJudwaa 2\\t227.51\\t138.55\\t192.43\\t35.08\\t65\\tSuperHit',\n",
       " '61\\tBadhaai Ho\\t220\\t137.31\\t176\\t44\\t23\\tBlockbuster',\n",
       " '62\\tToilet Ek Prem Katha\\t316.59\\t134.42\\t186.42\\t130.17\\t18\\tSuperHit',\n",
       " '63\\tRowdy Rathore\\t198\\t133.25\\t172\\t26\\t45\\tBlockbuster',\n",
       " '64\\tM.S. Dhoni: The Untold Story\\t215.5\\t133.09\\t184.68\\t30.82\\t104\\tHit',\n",
       " '65\\tGangubai Kathiawadi\\t211.5\\t131.9\\t155.5\\t56\\t180\\tHit',\n",
       " '66\\tStree\\t182\\t129.83\\t167\\t15\\t30\\tBlockbuster',\n",
       " '67\\tAirlift\\t228\\t128.1\\t183\\t45\\t30\\tSuperHit',\n",
       " '68\\tAvatar: The Way of Water\\t17380\\t127.77\\t477.5\\t16902.5\\t3200\\tBlockbuster',\n",
       " '69\\tRustom\\t216.35\\t127.49\\t177.07\\t39.28\\t50\\tSuperHit',\n",
       " '7\\tTiger Zinda Hai\\t558\\t339.16\\t433.77\\t124.23\\t210\\tBlockbuster',\n",
       " '70\\tRaazi\\t195\\t123.74\\t158\\t37\\t37\\tBlockbuster',\n",
       " '71\\tReady\\t185.1\\t120.9\\t153.2\\t31.9\\t40\\tBlockbuster',\n",
       " '72\\tJab Tak Hai Jaan\\t235.7\\t120.87\\t167.8\\t67.9\\t50\\tSuperHit',\n",
       " '73\\tTubelight\\t211.25\\t119.26\\t165.64\\t45.61\\t100\\tAverage',\n",
       " '74\\tBaahubali\\t650\\t118.5\\t516\\t134\\t180\\tBlockbuster',\n",
       " '75\\tAgneepath\\t195.73\\t118.2\\t159.57\\t36.16\\t71\\tSuperHit',\n",
       " '76\\tBadrinath Ki Dulhania\\t201.07\\t117.89\\t162.17\\t38.9\\t44\\tSuperHit',\n",
       " '77\\tGoliyon Ki Rasleela Ram-Leela\\t218.07\\t117.53\\t158.57\\t59.5\\t88\\tHit',\n",
       " '78\\tJai Ho\\t186.37\\t117.2\\t150.02\\t36.35\\t65\\tHit',\n",
       " '79\\tJolly LLB 2\\t197.33\\t117\\t162.5\\t34.83\\t30\\tSuperHit',\n",
       " '8\\tBajrangi Bhaijaan\\t922.03\\t320.34\\t432.46\\t489.57\\t90\\tAll Time Blockbuster',\n",
       " '80\\tAvengers End Game\\t18970\\t116.47\\t445\\t13335\\t2500\\tAll Time Blockbuster',\n",
       " '81\\tBala\\t162\\t116.38\\t135\\t27\\t35\\tSuperHit',\n",
       " '82\\tRa.One\\t206.73\\t116.2\\t156.87\\t49.86\\t130\\tBelow Average',\n",
       " '83\\tGhajini\\t194.1\\t114\\t157.85\\t36.25\\t52\\tBlockbuster',\n",
       " '84\\tAe Dil Hai Mushkil\\t240.72\\t113.19\\t158.47\\t82.25\\t70\\tSuperHit',\n",
       " '85\\tHoliday\\t178.4\\t112.53\\t153.43\\t24.97\\t50\\tSuperHit',\n",
       " '86\\tBarfi!\\t175\\t112.1\\t145\\t30\\t40\\tSuperHit',\n",
       " '87\\tHousefull 2\\t188.4\\t112\\t151.6\\t36.8\\t72\\tSuperHit',\n",
       " '88\\tKisi Ka Bhai Kisi Ki Jaan\\t184.6\\t110.94\\t132\\t52.6\\t100\\tBelow Average',\n",
       " '89\\tHousefull 3\\t185.7\\t110.2\\t154.2\\t31.5\\t85\\tHit',\n",
       " '9\\tWar\\t471\\t303.34\\t375\\t96\\t150\\tBlockbuster',\n",
       " '90\\tGold\\t158\\t109.58\\t141\\t17\\t75\\tHit',\n",
       " '91\\tSonu Ke Titu Ki Sweety\\t156.46\\t108.95\\t139.46\\t17\\t40\\tBlockbuster',\n",
       " '92\\tBhaag Milkha Bhaag\\t168\\t108.8\\t146.88\\t21.12\\t30\\tSuperHit',\n",
       " '93\\tDon 2: The Chase Continues\\t210.35\\t108.51\\t144.73\\t65.62\\t76\\tHit',\n",
       " '94\\tGolmaal 3\\t162.3\\t106.64\\t143.97\\t18.33\\t40\\tBlockbuster',\n",
       " '95\\tPushpa: The Rise (Part 1)\\t350.1\\t106.35\\t313.8\\t36.3\\t150\\tSuperHit',\n",
       " '96\\tABCD 2\\t166\\t106.12\\t146.62\\t19.38\\t65\\tSuperHit',\n",
       " '97\\tEk Villain\\t155\\t105.76\\t142.77\\t12.23\\t39\\tSuperHit',\n",
       " '98\\tSon Of Sardaar\\t150\\t105.1\\t141.89\\t8.11\\t40\\tSuperHit',\n",
       " '99\\tKaabil\\t178.1\\t104.34\\t145.8\\t32.3\\t35\\tHit',\n",
       " 'Pathaan\\t1050.05\\t524.53\\t657.5\\t392.55\\t250\\tAll Time Blockbuster']"
      ]
     },
     "execution_count": 15,
     "metadata": {},
     "output_type": "execute_result"
    }
   ],
   "source": [
    "movies.sort()\n",
    "movies"
   ]
  },
  {
   "cell_type": "code",
   "execution_count": null,
   "metadata": {},
   "outputs": [],
   "source": [
    "movies.reverse()"
   ]
  },
  {
   "cell_type": "code",
   "execution_count": null,
   "metadata": {},
   "outputs": [
    {
     "data": {
      "text/plain": [
       "['Pathaan\\t1050.05\\t524.53\\t657.5\\t392.55\\t250\\tAll Time Blockbuster',\n",
       " '99\\tKaabil\\t178.1\\t104.34\\t145.8\\t32.3\\t35\\tHit',\n",
       " '98\\tSon Of Sardaar\\t150\\t105.1\\t141.89\\t8.11\\t40\\tSuperHit',\n",
       " '97\\tEk Villain\\t155\\t105.76\\t142.77\\t12.23\\t39\\tSuperHit',\n",
       " '96\\tABCD 2\\t166\\t106.12\\t146.62\\t19.38\\t65\\tSuperHit',\n",
       " '95\\tPushpa: The Rise (Part 1)\\t350.1\\t106.35\\t313.8\\t36.3\\t150\\tSuperHit',\n",
       " '94\\tGolmaal 3\\t162.3\\t106.64\\t143.97\\t18.33\\t40\\tBlockbuster',\n",
       " '93\\tDon 2: The Chase Continues\\t210.35\\t108.51\\t144.73\\t65.62\\t76\\tHit',\n",
       " '92\\tBhaag Milkha Bhaag\\t168\\t108.8\\t146.88\\t21.12\\t30\\tSuperHit',\n",
       " '91\\tSonu Ke Titu Ki Sweety\\t156.46\\t108.95\\t139.46\\t17\\t40\\tBlockbuster',\n",
       " '90\\tGold\\t158\\t109.58\\t141\\t17\\t75\\tHit',\n",
       " '9\\tWar\\t471\\t303.34\\t375\\t96\\t150\\tBlockbuster',\n",
       " '89\\tHousefull 3\\t185.7\\t110.2\\t154.2\\t31.5\\t85\\tHit',\n",
       " '88\\tKisi Ka Bhai Kisi Ki Jaan\\t184.6\\t110.94\\t132\\t52.6\\t100\\tBelow Average',\n",
       " '87\\tHousefull 2\\t188.4\\t112\\t151.6\\t36.8\\t72\\tSuperHit',\n",
       " '86\\tBarfi!\\t175\\t112.1\\t145\\t30\\t40\\tSuperHit',\n",
       " '85\\tHoliday\\t178.4\\t112.53\\t153.43\\t24.97\\t50\\tSuperHit',\n",
       " '84\\tAe Dil Hai Mushkil\\t240.72\\t113.19\\t158.47\\t82.25\\t70\\tSuperHit',\n",
       " '83\\tGhajini\\t194.1\\t114\\t157.85\\t36.25\\t52\\tBlockbuster',\n",
       " '82\\tRa.One\\t206.73\\t116.2\\t156.87\\t49.86\\t130\\tBelow Average',\n",
       " '81\\tBala\\t162\\t116.38\\t135\\t27\\t35\\tSuperHit',\n",
       " '80\\tAvengers End Game\\t18970\\t116.47\\t445\\t13335\\t2500\\tAll Time Blockbuster',\n",
       " '8\\tBajrangi Bhaijaan\\t922.03\\t320.34\\t432.46\\t489.57\\t90\\tAll Time Blockbuster',\n",
       " '79\\tJolly LLB 2\\t197.33\\t117\\t162.5\\t34.83\\t30\\tSuperHit',\n",
       " '78\\tJai Ho\\t186.37\\t117.2\\t150.02\\t36.35\\t65\\tHit',\n",
       " '77\\tGoliyon Ki Rasleela Ram-Leela\\t218.07\\t117.53\\t158.57\\t59.5\\t88\\tHit',\n",
       " '76\\tBadrinath Ki Dulhania\\t201.07\\t117.89\\t162.17\\t38.9\\t44\\tSuperHit',\n",
       " '75\\tAgneepath\\t195.73\\t118.2\\t159.57\\t36.16\\t71\\tSuperHit',\n",
       " '74\\tBaahubali\\t650\\t118.5\\t516\\t134\\t180\\tBlockbuster',\n",
       " '73\\tTubelight\\t211.25\\t119.26\\t165.64\\t45.61\\t100\\tAverage',\n",
       " '72\\tJab Tak Hai Jaan\\t235.7\\t120.87\\t167.8\\t67.9\\t50\\tSuperHit',\n",
       " '71\\tReady\\t185.1\\t120.9\\t153.2\\t31.9\\t40\\tBlockbuster',\n",
       " '70\\tRaazi\\t195\\t123.74\\t158\\t37\\t37\\tBlockbuster',\n",
       " '7\\tTiger Zinda Hai\\t558\\t339.16\\t433.77\\t124.23\\t210\\tBlockbuster',\n",
       " '69\\tRustom\\t216.35\\t127.49\\t177.07\\t39.28\\t50\\tSuperHit',\n",
       " '68\\tAvatar: The Way of Water\\t17380\\t127.77\\t477.5\\t16902.5\\t3200\\tBlockbuster',\n",
       " '67\\tAirlift\\t228\\t128.1\\t183\\t45\\t30\\tSuperHit',\n",
       " '66\\tStree\\t182\\t129.83\\t167\\t15\\t30\\tBlockbuster',\n",
       " '65\\tGangubai Kathiawadi\\t211.5\\t131.9\\t155.5\\t56\\t180\\tHit',\n",
       " '64\\tM.S. Dhoni: The Untold Story\\t215.5\\t133.09\\t184.68\\t30.82\\t104\\tHit',\n",
       " '63\\tRowdy Rathore\\t198\\t133.25\\t172\\t26\\t45\\tBlockbuster',\n",
       " '62\\tToilet Ek Prem Katha\\t316.59\\t134.42\\t186.42\\t130.17\\t18\\tSuperHit',\n",
       " '61\\tBadhaai Ho\\t220\\t137.31\\t176\\t44\\t23\\tBlockbuster',\n",
       " '60\\tJudwaa 2\\t227.51\\t138.55\\t192.43\\t35.08\\t65\\tSuperHit',\n",
       " '6\\tPK\\t792\\t340.8\\t489\\t303\\t85\\tAll Time Blockbuster',\n",
       " '59\\tGully Boy\\t235.7\\t139.63\\t164.7\\t71\\t60\\tSuperHit',\n",
       " '58\\tDabangg\\t215\\t140.22\\t207.8\\t7.2\\t42\\tBlockbuster',\n",
       " '57\\tSingham Returns\\t216.56\\t140.6\\t200\\t16.56\\t105\\tSuperHit',\n",
       " '56\\tDream Girl\\t195\\t141.3\\t163\\t32\\t30\\tSuperHit',\n",
       " '55\\tThugs Of Hindostan\\t327.51\\t145.55\\t194\\t133.51\\t300\\tDisaster',\n",
       " '54\\tSaaho\\t451\\t145.67\\t359\\t92\\t350\\tBelow Average',\n",
       " '53\\tDabangg 3\\t218\\t146.23\\t178\\t40\\t90\\tAverage',\n",
       " '52\\tAdipurush\\t390.5\\t147.26\\t340.5\\t50\\t500\\tNone',\n",
       " '51\\tTu Jhoothi Main Makkar\\t223\\t147.28\\t175\\t48\\t70\\tHit',\n",
       " '50\\tSuper 30\\t210\\t147.39\\t171\\t39\\t60\\tSuperHit',\n",
       " '5\\tSanju\\t588.5\\t342.57\\t438.5\\t150\\t100\\tAll Time Blockbuster',\n",
       " '49\\tDilwale\\t388\\t148.42\\t212\\t176\\t165\\tAverage',\n",
       " '48\\tBodyguard\\t230\\t148.52\\t189\\t41\\t60\\tBlockbuster',\n",
       " '47\\tTanu Weds Manu Returns\\t258\\t150.71\\t214\\t44\\t39\\tBlockbuster',\n",
       " '46\\tChhichhore\\t211\\t153.16\\t180\\t31\\t70\\tBlockbuster',\n",
       " '45\\tDabangg 2\\t265\\t155\\t226\\t39\\t84\\tBlockbuster',\n",
       " '44\\tTotal Dhamaal\\t232.18\\t155.67\\t183.68\\t48.5\\t105\\tSuperHit',\n",
       " '43\\tKesari\\t208.8\\t155.7\\t183.8\\t25\\t100\\tHit',\n",
       " '42\\tRaees\\t285\\t164.63\\t227.18\\t57.82\\t92\\tHit',\n",
       " '41\\tBaaghi 2\\t257\\t165.5\\t211.84\\t45.16\\t75\\tBlockbuster',\n",
       " '40\\tRace 3\\t300\\t169.5\\t217\\t83\\t170\\tAverage',\n",
       " '4\\tDangal\\t2070.3\\t374.43\\t535\\t1535.3\\t70\\tAll Time Blockbuster',\n",
       " '39\\tBang Bang!\\t340\\t174.51\\t270\\t70\\t160\\tHit',\n",
       " '38\\tBajirao Mastani\\t362\\t184.3\\t263\\t99\\t145\\tHit',\n",
       " '37\\tBhool Bhulaiyaa 2\\t265.5\\t184.32\\t216.5\\t49\\t80\\tBlockbuster',\n",
       " '36\\tYeh Jawaani Hai Deewani\\t318\\t188.57\\t242\\t76\\t75\\tBlockbuster',\n",
       " '35\\t2.0\\t744.78\\t190.48\\t551.5\\t193.28\\t543\\tAverage',\n",
       " '34\\tSooryavanshi\\t293\\t195.55\\t230.8\\t62.2\\t180\\tSuperHit',\n",
       " '33\\tEk Tha Tiger\\t320\\t198.78\\t263\\t57\\t75\\tBlockbuster',\n",
       " '32\\tHappy New Year\\t397\\t199.95\\t295\\t102\\t150\\tHit',\n",
       " '31\\t3 Idiots\\t460\\t202.47\\t274\\t186\\t55\\tAll Time Blockbuster',\n",
       " '30\\tMission Mangal\\t290\\t203.08\\t236\\t54\\t40\\tBlockbuster',\n",
       " '3\\tKGF Chapter 2\\t1208\\t435.33\\t1000.85\\t207.15\\t100\\tAll Time Blockbuster',\n",
       " '29\\tGood Newwz\\t316\\t205.09\\t242\\t74\\t60\\tBlockbuster',\n",
       " '28\\tGolmaal Again\\t308.62\\t205.69\\t262.88\\t45.74\\t80\\tBlockbuster',\n",
       " '27\\tPrem Ratan Dhan Payo\\t405.85\\t210.16\\t310\\t95.85\\t180\\tSuperHit',\n",
       " '26\\tHousefull 4\\t296\\t210.3\\t247\\t49\\t175\\tSuperHit',\n",
       " '25\\tBharat\\t321\\t212.03\\t251\\t70\\t165\\tHit',\n",
       " '24\\tChennai Express\\t422\\t227.13\\t310\\t112\\t115\\tSuperHit',\n",
       " '23\\tKrrish 3\\t374\\t231.79\\t313\\t61\\t94\\tBlockbuster',\n",
       " '22\\tKick\\t378\\t231.85\\t310\\t68\\t100\\tSuperHit',\n",
       " '21\\tThe Kerala Story\\t302\\t239.05\\t286.5\\t15.5\\t15\\tAll Time Blockbuster',\n",
       " '20\\tDrishyam 2\\t342.31\\t239.67\\t282.81\\t59.5\\t50\\tAll Time Blockbuster',\n",
       " '2\\tBaahubali 2 The Conclusion\\t1788.06\\t510.99\\t1416.9\\t371.16\\t250\\tAll Time Blockbuster',\n",
       " '19\\tSimmba\\t390\\t240.3\\t295\\t95\\t90\\tBlockbuster',\n",
       " '18\\tURI The Surgical Strike\\t341.75\\t244.14\\t293.75\\t48\\t70\\tAll Time Blockbuster',\n",
       " '17\\tBrahmastra Part One: Shiva\\t431\\t249.57\\t318\\t113\\t350\\tHit',\n",
       " '16\\tThe Kashmir Files\\t341\\t252.25\\t295\\t46\\t20\\tAll Time Blockbuster',\n",
       " '15\\tDhoom 3\\t558\\t271.07\\t372\\t186\\t175\\tAll Time Blockbuster',\n",
       " '14\\tRRR\\t1230\\t272.78\\t915.85\\t314.15\\t550\\tBlockbuster',\n",
       " '13\\tTanhaji: The Unsung Warrior\\t361\\t277.75\\t325\\t36\\t150\\tBlockbuster',\n",
       " '12\\tKabir Singh\\t377\\t278.8\\t330\\t47\\t55\\tAll Time Blockbuster',\n",
       " '11\\tSultan\\t627.82\\t300.45\\t421.25\\t206.57\\t80\\tBlockbuster',\n",
       " '100\\tDe De Pyaar De',\n",
       " '10\\tPadmaavat\\t585\\t302.15\\t400\\t185\\t215\\tBlockbuster']"
      ]
     },
     "execution_count": 17,
     "metadata": {},
     "output_type": "execute_result"
    }
   ],
   "source": [
    "movies.sort(reverse=True)\n",
    "movies"
   ]
  },
  {
   "cell_type": "code",
   "execution_count": null,
   "metadata": {},
   "outputs": [
    {
     "data": {
      "text/plain": [
       "1"
      ]
     },
     "execution_count": 20,
     "metadata": {},
     "output_type": "execute_result"
    }
   ],
   "source": [
    "movies.count('38\tBajirao Mastani\t362\t184.3\t263\t99\t145\tHit')"
   ]
  },
  {
   "cell_type": "code",
   "execution_count": null,
   "metadata": {},
   "outputs": [
    {
     "name": "stdout",
     "output_type": "stream",
     "text": [
      "1\n",
      "1\n"
     ]
    }
   ],
   "source": [
    "x = [1,2,3,4,5,6]\n",
    "print(x.count(5))\n",
    "print(x.count(3))"
   ]
  },
  {
   "cell_type": "code",
   "execution_count": null,
   "metadata": {},
   "outputs": [
    {
     "data": {
      "text/plain": [
       "68"
      ]
     },
     "execution_count": 22,
     "metadata": {},
     "output_type": "execute_result"
    }
   ],
   "source": [
    "movies.index(\"38\tBajirao Mastani\t362\t184.3\t263\t99\t145\tHit\")"
   ]
  },
  {
   "cell_type": "code",
   "execution_count": null,
   "metadata": {},
   "outputs": [],
   "source": [
    "movies_bk = movies.copy() # copies a list to a new memory location"
   ]
  },
  {
   "cell_type": "code",
   "execution_count": null,
   "metadata": {},
   "outputs": [
    {
     "name": "stdout",
     "output_type": "stream",
     "text": [
      "100\n"
     ]
    }
   ],
   "source": [
    "print(len(movies))"
   ]
  },
  {
   "cell_type": "code",
   "execution_count": null,
   "metadata": {},
   "outputs": [
    {
     "name": "stdout",
     "output_type": "stream",
     "text": [
      "[60, 40, 51, 49, 45, 65, 53, 63, 56, 64, 32, 39, 44, 68, 47, 38, 48, 60, 48, 53, 37, 69, 71, 49, 42, 65, 62, 50, 46, 51, 55, 46, 41, 58, 48, 71, 39, 41, 51, 65, 49, 63, 46, 50, 46, 46, 46, 54, 42, 59, 44, 41, 43, 50, 41, 55, 41, 45, 58, 46, 42, 55, 38, 39, 49, 38, 57, 39, 43, 57, 59, 45, 50, 48, 44, 54, 50, 67, 46, 58, 60, 44, 35, 50, 44, 38, 65, 63, 82, 41, 74, 56, 62, 54, 48, 64, 55, 52, 18, 47]\n"
     ]
    }
   ],
   "source": [
    "size_movies = [] # coprehension\n",
    "for movie in movies:# ''\n",
    "    s = len(movie)# ''\n",
    "    size_movies.append(s)\n",
    "print( size_movies)"
   ]
  },
  {
   "cell_type": "markdown",
   "metadata": {},
   "source": [
    "syntax\n",
    "new_list = [operation loop condition]"
   ]
  },
  {
   "cell_type": "code",
   "execution_count": null,
   "metadata": {},
   "outputs": [],
   "source": [
    "size_movies = [len(i) for i in movie]"
   ]
  },
  {
   "cell_type": "code",
   "execution_count": null,
   "metadata": {},
   "outputs": [
    {
     "name": "stdout",
     "output_type": "stream",
     "text": [
      "[16, 2, 3, 4, 5, 6, 10, 20]\n",
      "[256, 4, 9, 16, 25, 36, 100, 400]\n"
     ]
    }
   ],
   "source": [
    "x = [16,2,3,4,5,6,10,20]\n",
    "x2 = [i**2 for i in x]\n",
    "print(x)\n",
    "print(x2)"
   ]
  },
  {
   "cell_type": "code",
   "execution_count": null,
   "metadata": {},
   "outputs": [
    {
     "name": "stdout",
     "output_type": "stream",
     "text": [
      "[16, 2, 3, 4, 5, 6, 10, 20]\n",
      "[256, 4, 16, 36, 100, 400]\n"
     ]
    }
   ],
   "source": [
    "x2_even = [i**2 for i in x if i%2==0]\n",
    "print(x)\n",
    "print(x2_even)"
   ]
  },
  {
   "cell_type": "code",
   "execution_count": null,
   "metadata": {},
   "outputs": [
    {
     "name": "stdout",
     "output_type": "stream",
     "text": [
      "['Alex', 'abhinav', 'Namita', 'Shreya', 'Ananya']\n"
     ]
    }
   ],
   "source": [
    "names = ['Alex fierce', 'abhinav gautam', 'Namita singh', 'Shreya Puri', 'Ananya Pandey']\n",
    "fname = [name.split()[0] for name in names]\n",
    "print(fname)"
   ]
  },
  {
   "cell_type": "code",
   "execution_count": null,
   "metadata": {},
   "outputs": [
    {
     "name": "stdout",
     "output_type": "stream",
     "text": [
      "[27, 125, 343]\n"
     ]
    }
   ],
   "source": [
    "num = [2,3,4,5,6,7]\n",
    "odd_cubes = [i**3 for i in num if i%2!=0]\n",
    "print(odd_cubes)"
   ]
  }
 ],
 "metadata": {
  "kernelspec": {
   "display_name": "base",
   "language": "python",
   "name": "python3"
  },
  "language_info": {
   "codemirror_mode": {
    "name": "ipython",
    "version": 3
   },
   "file_extension": ".py",
   "mimetype": "text/x-python",
   "name": "python",
   "nbconvert_exporter": "python",
   "pygments_lexer": "ipython3",
   "version": "3.11.4"
  },
  "orig_nbformat": 4
 },
 "nbformat": 4,
 "nbformat_minor": 2
}
