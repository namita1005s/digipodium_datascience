{
 "cells": [
  {
   "cell_type": "markdown",
   "metadata": {},
   "source": [
    "    STRINGS\n",
    "creation of string\n",
    "indexing\n",
    "methods of strings\n",
    " formatting\n",
    " valiadation\n",
    " utility\n",
    "\n"
   ]
  },
  {
   "cell_type": "code",
   "execution_count": 1,
   "metadata": {},
   "outputs": [],
   "source": [
    "a = 'apple'\n",
    "name = \"Alcazar\"\n",
    "address = '''20/12, somewhere, \n",
    "nowhere to be found, \n",
    "India'''\n",
    "\n",
    "addr = r'C:\\Users\\HP\\Documents\\digipodium_data analytics\\file.txt' # raw string\n",
    "#a[0] = 'b' # because strings are immutable"
   ]
  },
  {
   "cell_type": "code",
   "execution_count": 2,
   "metadata": {},
   "outputs": [
    {
     "name": "stdout",
     "output_type": "stream",
     "text": [
      "0 a\n",
      "1 p\n",
      "2 p\n",
      "3 l\n",
      "4 e\n"
     ]
    }
   ],
   "source": [
    "for i,c in enumerate(a): #indexing in string\n",
    "    print(i,c)"
   ]
  },
  {
   "cell_type": "code",
   "execution_count": 3,
   "metadata": {},
   "outputs": [
    {
     "name": "stdout",
     "output_type": "stream",
     "text": [
      "e l p p a\n"
     ]
    }
   ],
   "source": [
    "print(a[-1], a[-2], a[-3], a[-4],a[-5]) #backward indexing"
   ]
  },
  {
   "cell_type": "code",
   "execution_count": 4,
   "metadata": {},
   "outputs": [
    {
     "name": "stdout",
     "output_type": "stream",
     "text": [
      "William Shakespeare\n"
     ]
    }
   ],
   "source": [
    "name = 'William Shakespeare'\n",
    "print(name)"
   ]
  },
  {
   "cell_type": "code",
   "execution_count": 5,
   "metadata": {},
   "outputs": [
    {
     "name": "stdout",
     "output_type": "stream",
     "text": [
      "Shake\n",
      "pear\n",
      "Will\n",
      "peare\n"
     ]
    }
   ],
   "source": [
    "#slicing in string\n",
    "print(name[8 : 13])\n",
    "print(name[-5: -1])\n",
    "print(name[:4]) #starting is 0, so we don't out anything\n",
    "print(name[-5:])"
   ]
  },
  {
   "cell_type": "code",
   "execution_count": 6,
   "metadata": {},
   "outputs": [
    {
     "name": "stdout",
     "output_type": "stream",
     "text": [
      "William\n",
      "Shakespeare\n"
     ]
    }
   ],
   "source": [
    "fname = name[:7]\n",
    "lname = name[8:]\n",
    "print(fname)\n",
    "print(lname)"
   ]
  },
  {
   "cell_type": "markdown",
   "metadata": {},
   "source": [
    "   SYNTAX\n",
    "var[start: stop: step]"
   ]
  },
  {
   "cell_type": "code",
   "execution_count": 7,
   "metadata": {},
   "outputs": [
    {
     "data": {
      "text/plain": [
       "'eraepsekahS mailliW'"
      ]
     },
     "execution_count": 7,
     "metadata": {},
     "output_type": "execute_result"
    }
   ],
   "source": [
    "name[::-1] #string reverse"
   ]
  },
  {
   "cell_type": "markdown",
   "metadata": {},
   "source": [
    "formatted method of strings"
   ]
  },
  {
   "cell_type": "code",
   "execution_count": 10,
   "metadata": {},
   "outputs": [],
   "source": [
    "msg = \"you Should stUdy and play\""
   ]
  },
  {
   "cell_type": "code",
   "execution_count": 11,
   "metadata": {},
   "outputs": [
    {
     "name": "stdout",
     "output_type": "stream",
     "text": [
      "YOU SHOULD STUDY AND PLAY\n",
      "you should study and play\n",
      "You Should Study And Play\n",
      "You should study and play\n",
      "YOU sHOULD STuDY AND PLAY\n"
     ]
    }
   ],
   "source": [
    "print(msg.upper())\n",
    "print(msg.lower())\n",
    "print(msg.title())\n",
    "print(msg.capitalize())\n",
    "print(msg.swapcase())"
   ]
  },
  {
   "cell_type": "markdown",
   "metadata": {},
   "source": [
    "validation methods of strings"
   ]
  },
  {
   "cell_type": "code",
   "execution_count": 12,
   "metadata": {},
   "outputs": [
    {
     "name": "stdout",
     "output_type": "stream",
     "text": [
      "False\n",
      "False\n",
      "True\n",
      "True\n",
      "True\n",
      "True\n",
      "True\n"
     ]
    }
   ],
   "source": [
    "print(msg.isupper())\n",
    "print(msg.islower())\n",
    "print('hello'.isalpha())\n",
    "print('123'.isnumeric())\n",
    "print('a12'.isalnum())\n",
    "print('Mr.Raja'.startswith('Mr'))\n",
    "print('Raja'.endswith('a'))"
   ]
  },
  {
   "cell_type": "code",
   "execution_count": 13,
   "metadata": {},
   "outputs": [
    {
     "name": "stdout",
     "output_type": "stream",
     "text": [
      "you have given a python file\n",
      "from turtle import *\n",
      "speed('normal')\n",
      "fd(150)\n",
      "rt(60)\n",
      "fd(150)\n",
      "rt(60)\n",
      "fd(150)\n",
      "rt(60)\n",
      "fd(150)\n",
      "rt(60)\n",
      "fd(150)\n",
      "rt(60)\n",
      "fd(150)\n",
      "rt(60) \n",
      "hideturtle()\n",
      "mainloop()\n",
      "\n"
     ]
    }
   ],
   "source": [
    "file = input(\"enter the file path\")\n",
    "if file.endswith('.py'):\n",
    "    print('you have given a python file')\n",
    "    content = open(file).read()\n",
    "    print(content)\n",
    "else:\n",
    "    print(\"you have given me something else\")\n",
    "    print('shame on you😒')"
   ]
  },
  {
   "cell_type": "markdown",
   "metadata": {},
   "source": [
    " utility methods in strings\n",
    "find()\n",
    "replace()\n",
    "spilt()\n",
    "splitness()\n",
    "join()\n",
    "count()\n",
    "strip()"
   ]
  },
  {
   "cell_type": "code",
   "execution_count": 14,
   "metadata": {},
   "outputs": [
    {
     "data": {
      "text/plain": [
       "8"
      ]
     },
     "execution_count": 14,
     "metadata": {},
     "output_type": "execute_result"
    }
   ],
   "source": [
    "quote = 'Journey Before Destination'\n",
    "quote.find('Before')"
   ]
  },
  {
   "cell_type": "code",
   "execution_count": 15,
   "metadata": {},
   "outputs": [
    {
     "data": {
      "text/plain": [
       "13"
      ]
     },
     "execution_count": 15,
     "metadata": {},
     "output_type": "execute_result"
    }
   ],
   "source": [
    "quote.find('e',10)"
   ]
  },
  {
   "cell_type": "code",
   "execution_count": 16,
   "metadata": {},
   "outputs": [
    {
     "data": {
      "text/plain": [
       "1"
      ]
     },
     "execution_count": 16,
     "metadata": {},
     "output_type": "execute_result"
    }
   ],
   "source": [
    "quote.find('our')"
   ]
  },
  {
   "cell_type": "code",
   "execution_count": 17,
   "metadata": {},
   "outputs": [
    {
     "data": {
      "text/plain": [
       "-1"
      ]
     },
     "execution_count": 17,
     "metadata": {},
     "output_type": "execute_result"
    }
   ],
   "source": [
    "quote.find('x') #not found"
   ]
  },
  {
   "cell_type": "code",
   "execution_count": 18,
   "metadata": {},
   "outputs": [
    {
     "data": {
      "text/plain": [
       "'Journay Bafora Dastination'"
      ]
     },
     "execution_count": 18,
     "metadata": {},
     "output_type": "execute_result"
    }
   ],
   "source": [
    "quote.replace('e','a')"
   ]
  },
  {
   "cell_type": "code",
   "execution_count": 19,
   "metadata": {},
   "outputs": [
    {
     "data": {
      "text/plain": [
       "'travelling to Destination'"
      ]
     },
     "execution_count": 19,
     "metadata": {},
     "output_type": "execute_result"
    }
   ],
   "source": [
    "quote.replace('Journey','travelling').replace('Before','to')"
   ]
  },
  {
   "cell_type": "code",
   "execution_count": 20,
   "metadata": {},
   "outputs": [
    {
     "data": {
      "text/plain": [
       "'299999'"
      ]
     },
     "execution_count": 20,
     "metadata": {},
     "output_type": "execute_result"
    }
   ],
   "source": [
    "amt = '$299,999 dollars'\n",
    "amt.replace('$','').replace(',','').replace('dollars','').replace(' ','')"
   ]
  },
  {
   "cell_type": "code",
   "execution_count": 21,
   "metadata": {},
   "outputs": [
    {
     "data": {
      "text/plain": [
       "['you', 'Should', 'stUdy', 'and', 'play']"
      ]
     },
     "execution_count": 21,
     "metadata": {},
     "output_type": "execute_result"
    }
   ],
   "source": [
    "msg.split() # spaces are used as a default delimiter"
   ]
  },
  {
   "cell_type": "code",
   "execution_count": 22,
   "metadata": {},
   "outputs": [
    {
     "data": {
      "text/plain": [
       "['we are here', ' we are there', ' and everwhere']"
      ]
     },
     "execution_count": 22,
     "metadata": {},
     "output_type": "execute_result"
    }
   ],
   "source": [
    "msg2 = 'we are here, we are there, and everwhere'\n",
    "msg2.split(',')"
   ]
  },
  {
   "cell_type": "code",
   "execution_count": 7,
   "metadata": {},
   "outputs": [
    {
     "data": {
      "text/plain": [
       "['Johnny',\n",
       " 'johnny,',\n",
       " 'yes',\n",
       " 'papa',\n",
       " 'eating',\n",
       " 'sugar,',\n",
       " 'no',\n",
       " 'papa',\n",
       " 'telling',\n",
       " 'a',\n",
       " 'lie,',\n",
       " 'no',\n",
       " 'papa',\n",
       " 'open',\n",
       " 'your',\n",
       " 'mouth,',\n",
       " 'ha',\n",
       " 'ha',\n",
       " 'ha',\n",
       " 'telling',\n",
       " 'a',\n",
       " 'lie,',\n",
       " 'no',\n",
       " 'papaopen',\n",
       " 'your',\n",
       " 'mouth,',\n",
       " 'ha',\n",
       " 'ha',\n",
       " 'ha']"
      ]
     },
     "execution_count": 7,
     "metadata": {},
     "output_type": "execute_result"
    }
   ],
   "source": [
    "poem =  'Johnny johnny, yes papa eating sugar, no papa telling a lie, no papa open your mouth, ha ha ha telling a lie, no papaopen your mouth, ha ha ha '\n",
    "\n",
    "\n",
    "poem.split()"
   ]
  },
  {
   "cell_type": "code",
   "execution_count": 24,
   "metadata": {},
   "outputs": [
    {
     "data": {
      "text/plain": [
       "['Johnny johnny, yes papa',\n",
       " 'eating sugar, no papa',\n",
       " 'telling a lie, no papa',\n",
       " 'open your mouth, ha ha ha']"
      ]
     },
     "execution_count": 24,
     "metadata": {},
     "output_type": "execute_result"
    }
   ],
   "source": [
    "poem.splitlines()"
   ]
  },
  {
   "cell_type": "markdown",
   "metadata": {},
   "source": [
    "join function in string\n"
   ]
  },
  {
   "cell_type": "code",
   "execution_count": 1,
   "metadata": {},
   "outputs": [
    {
     "name": "stdout",
     "output_type": "stream",
     "text": [
      "['hi', 'there', 'how', 'are', 'you']\n"
     ]
    }
   ],
   "source": [
    "x=['hi','there','how','are','you']\n",
    "print(x)"
   ]
  },
  {
   "cell_type": "code",
   "execution_count": 2,
   "metadata": {},
   "outputs": [
    {
     "name": "stdout",
     "output_type": "stream",
     "text": [
      "hi there how are you\n"
     ]
    }
   ],
   "source": [
    "msg = ' '.join(x)\n",
    "print(msg)"
   ]
  },
  {
   "cell_type": "code",
   "execution_count": 3,
   "metadata": {},
   "outputs": [
    {
     "name": "stdout",
     "output_type": "stream",
     "text": [
      "hi😄there😄how😄are😄you\n"
     ]
    }
   ],
   "source": [
    "print('😄'.join(x))"
   ]
  },
  {
   "cell_type": "code",
   "execution_count": 14,
   "metadata": {},
   "outputs": [
    {
     "name": "stdout",
     "output_type": "stream",
     "text": [
      "hi_there_how_are_you\n",
      "hi___there___how___are___you\n",
      "hi😊there😊how😊are😊you\n"
     ]
    }
   ],
   "source": [
    "print('_'.join(x))\n",
    "print('___'.join(x))\n",
    "print('😊'.join(x))"
   ]
  },
  {
   "cell_type": "code",
   "execution_count": 8,
   "metadata": {},
   "outputs": [
    {
     "name": "stdout",
     "output_type": "stream",
     "text": [
      "Johnny johnny, yes papa eating sugar, no papa telling a lie, no papa open your mouth, ha ha ha telling a lie, no papaopen your mouth, ha ha ha \n"
     ]
    }
   ],
   "source": [
    "print(poem)"
   ]
  },
  {
   "cell_type": "code",
   "execution_count": 9,
   "metadata": {},
   "outputs": [
    {
     "data": {
      "text/plain": [
       "18"
      ]
     },
     "execution_count": 9,
     "metadata": {},
     "output_type": "execute_result"
    }
   ],
   "source": [
    "poem.count('a')"
   ]
  },
  {
   "cell_type": "code",
   "execution_count": 15,
   "metadata": {},
   "outputs": [
    {
     "name": "stdout",
     "output_type": "stream",
     "text": [
      "Johnny johnny, yes papa eating sugar, no papa telling a lie, no papa open your mouth, ha ha ha telling a lie, no papaopen your mouth, ha ha ha \n",
      "18\n",
      "18\n",
      "18\n",
      "3\n",
      "3\n"
     ]
    }
   ],
   "source": [
    "print(poem)\n",
    "print(poem.count('a'))\n",
    "print(poem.casefold().count('a'))\n",
    "print(poem.lower().count('a'))\n",
    "print(poem.count('no'))\n",
    "print(poem.lower().count('no'))"
   ]
  },
  {
   "cell_type": "code",
   "execution_count": 10,
   "metadata": {},
   "outputs": [
    {
     "data": {
      "text/plain": [
       "2"
      ]
     },
     "execution_count": 10,
     "metadata": {},
     "output_type": "execute_result"
    }
   ],
   "source": [
    "poem.casefold().count('john')"
   ]
  },
  {
   "cell_type": "markdown",
   "metadata": {},
   "source": [
    "strip function in string"
   ]
  },
  {
   "cell_type": "code",
   "execution_count": 11,
   "metadata": {},
   "outputs": [
    {
     "name": "stdout",
     "output_type": "stream",
     "text": [
      "welcome justnamss\n"
     ]
    }
   ],
   "source": [
    "username = input('Enter the username: ')\n",
    "if username.strip() == 'namita':\n",
    "    print('welcome justnamss')"
   ]
  },
  {
   "cell_type": "code",
   "execution_count": 12,
   "metadata": {},
   "outputs": [
    {
     "data": {
      "text/plain": [
       "'this\\nis an\\nexample'"
      ]
     },
     "execution_count": 12,
     "metadata": {},
     "output_type": "execute_result"
    }
   ],
   "source": [
    "mm='''this\n",
    "is an\n",
    "example'''\n",
    "mm"
   ]
  },
  {
   "cell_type": "code",
   "execution_count": 13,
   "metadata": {},
   "outputs": [
    {
     "name": "stdout",
     "output_type": "stream",
     "text": [
      "this\n",
      "is an\n",
      "example\n"
     ]
    }
   ],
   "source": [
    "print(mm.strip())"
   ]
  }
 ],
 "metadata": {
  "kernelspec": {
   "display_name": "Python 3",
   "language": "python",
   "name": "python3"
  },
  "language_info": {
   "codemirror_mode": {
    "name": "ipython",
    "version": 3
   },
   "file_extension": ".py",
   "mimetype": "text/x-python",
   "name": "python",
   "nbconvert_exporter": "python",
   "pygments_lexer": "ipython3",
   "version": "3.10.10"
  },
  "orig_nbformat": 4
 },
 "nbformat": 4,
 "nbformat_minor": 2
}
