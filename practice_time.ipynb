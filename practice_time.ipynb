{
 "cells": [
  {
   "cell_type": "markdown",
   "metadata": {},
   "source": [
    "# Write a Python program that takes an integer as input and prints whether it is even or odd."
   ]
  },
  {
   "cell_type": "code",
   "execution_count": 5,
   "metadata": {},
   "outputs": [
    {
     "name": "stdout",
     "output_type": "stream",
     "text": [
      "10\n",
      "even\n"
     ]
    }
   ],
   "source": [
    "new_var = num = int(input(\"give number\"))\n",
    "print (num)\n",
    "if num % 2 == 0:\n",
    "    print('even')\n",
    "else:\n",
    "     print('odd')\n",
    " "
   ]
  },
  {
   "cell_type": "markdown",
   "metadata": {},
   "source": [
    "Create a program that determines if a given year is a leap year or not."
   ]
  },
  {
   "cell_type": "code",
   "execution_count": 2,
   "metadata": {},
   "outputs": [
    {
     "name": "stdout",
     "output_type": "stream",
     "text": [
      "2024 is a leap year\n"
     ]
    }
   ],
   "source": [
    "year = int(input(\"give yeaer\"))\n",
    "if (year % 4 == 0 and year % 100 != 0) or (year % 400 == 0):\n",
    "        print(\"{y} is a leap year\".format(y=str(year)))"
   ]
  },
  {
   "cell_type": "markdown",
   "metadata": {},
   "source": [
    "Write a Python program that takes three integers as input and prints the largest among them."
   ]
  },
  {
   "cell_type": "code",
   "execution_count": 3,
   "metadata": {},
   "outputs": [
    {
     "name": "stdout",
     "output_type": "stream",
     "text": [
      "1\n",
      "2\n",
      "3\n",
      "Largest is: 3\n"
     ]
    }
   ],
   "source": [
    "num1 = int(input(\"Give the first number: \"))\n",
    "print(num1)\n",
    "\n",
    "num2 = int(input(\"Give the second number: \"))\n",
    "print(num2)\n",
    "\n",
    "num3 = int(input(\"Give the third number: \"))\n",
    "print(num3)\n",
    "\n",
    "if (num1 > num2) and (num1 > num3):\n",
    "    print(\"{} is the largest\".format(num1))\n",
    "elif (num2 >= num1) and (num2 >= num3):\n",
    "    print(\"Largest is: {}\".format(num2))\n",
    "else:\n",
    "    print(\"Largest is: {}\".format(num3))\n"
   ]
  },
  {
   "cell_type": "markdown",
   "metadata": {},
   "source": [
    "Create a program that calculates the factorial of a given number and prints the result"
   ]
  },
  {
   "cell_type": "code",
   "execution_count": 4,
   "metadata": {},
   "outputs": [
    {
     "name": "stdout",
     "output_type": "stream",
     "text": [
      "10\n",
      "The factorial of 10 is 3628800.\n"
     ]
    }
   ],
   "source": [
    "num = int(input(\"Enter a non-negative integer: \"))\n",
    "print(num)\n",
    "if num < 0:\n",
    "    print(\"Factorial is not defined for negative numbers.\")\n",
    "else:\n",
    "    factorial = 1\n",
    "    for i in range(1, num + 1):\n",
    "        factorial *= i\n",
    "    print(f\"The factorial of {num} is {factorial}.\")\n"
   ]
  },
  {
   "cell_type": "markdown",
   "metadata": {},
   "source": [
    "Write a Python program that checks if a given string is a palindrome or not."
   ]
  },
  {
   "cell_type": "code",
   "execution_count": 7,
   "metadata": {},
   "outputs": [
    {
     "name": "stdout",
     "output_type": "stream",
     "text": [
      "A man a plan a canal Panama\n",
      "The string is a palindrome.\n"
     ]
    }
   ],
   "source": [
    "input_string = input(\"Enter a string: \")\n",
    "print(input_string)\n",
    "s = input_string.replace(\" \", \"\").lower()\n",
    "if s == s[::-1]:\n",
    "    print(\"The string is a palindrome.\")\n",
    "else:\n",
    "    print(\"The string is not a palindrome.\")\n"
   ]
  },
  {
   "cell_type": "markdown",
   "metadata": {},
   "source": [
    "Create a program that converts a given temperature from Celsius to Fahrenheit or vice versa based on user input."
   ]
  },
  {
   "cell_type": "code",
   "execution_count": 8,
   "metadata": {},
   "outputs": [
    {
     "name": "stdout",
     "output_type": "stream",
     "text": [
      "25.00 degrees Celsius is equal to 77.00 degrees Fahrenheit.\n"
     ]
    }
   ],
   "source": [
    "celsius = float(input(\"Enter temperature in Celsius: \"))\n",
    "fahrenheit = celsius * (9/5) + 32\n",
    "print(f\"{celsius:.2f} degrees Celsius is equal to {fahrenheit:.2f} degrees Fahrenheit.\")\n"
   ]
  },
  {
   "cell_type": "markdown",
   "metadata": {},
   "source": [
    "Write a Python program that takes an age as input and categorizes it as \"child,\" \"teenager,\" or \"adult.\""
   ]
  },
  {
   "cell_type": "code",
   "execution_count": 9,
   "metadata": {},
   "outputs": [
    {
     "name": "stdout",
     "output_type": "stream",
     "text": [
      "25\n",
      "You are an adult.\n"
     ]
    }
   ],
   "source": [
    "age = int(input(\"Enter age: \"))\n",
    "print(age)\n",
    "if age <= 12:\n",
    "    print(\"You are a child.\")\n",
    "elif age <= 18:\n",
    "    print(\"You are a teenager.\")\n",
    "else:\n",
    "    print(\"You are an adult.\")\n",
    "\n",
    "\n"
   ]
  },
  {
   "cell_type": "markdown",
   "metadata": {},
   "source": [
    "Create a program that checks if a given character is a vowel or a consonant."
   ]
  },
  {
   "cell_type": "code",
   "execution_count": 12,
   "metadata": {},
   "outputs": [
    {
     "name": "stdout",
     "output_type": "stream",
     "text": [
      "n\n",
      "consonent\n"
     ]
    }
   ],
   "source": [
    "character = input(\"input character\")\n",
    "print(character)\n",
    "if character in 'aeiou' :\n",
    "    print('vowel')  \n",
    "else:\n",
    "    print('consonent')\n",
    "    "
   ]
  },
  {
   "cell_type": "markdown",
   "metadata": {},
   "source": [
    "Write a Python program that calculates the area of a circle based on user input (radius)."
   ]
  }
 ],
 "metadata": {
  "kernelspec": {
   "display_name": "Python 3",
   "language": "python",
   "name": "python3"
  },
  "language_info": {
   "codemirror_mode": {
    "name": "ipython",
    "version": 3
   },
   "file_extension": ".py",
   "mimetype": "text/x-python",
   "name": "python",
   "nbconvert_exporter": "python",
   "pygments_lexer": "ipython3",
   "version": "3.10.10"
  },
  "orig_nbformat": 4
 },
 "nbformat": 4,
 "nbformat_minor": 2
}
