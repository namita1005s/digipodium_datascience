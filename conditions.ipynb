{
 "cells": [
  {
   "cell_type": "code",
   "execution_count": 2,
   "metadata": {},
   "outputs": [
    {
     "name": "stdout",
     "output_type": "stream",
     "text": [
      "x is bigger than 25\n"
     ]
    }
   ],
   "source": [
    "x = 30\n",
    "if x > 25:\n",
    "    print(\"x is bigger than 25\")"
   ]
  },
  {
   "cell_type": "code",
   "execution_count": 1,
   "metadata": {},
   "outputs": [
    {
     "name": "stdout",
     "output_type": "stream",
     "text": [
      "x is smaller than or equal to  10\n"
     ]
    }
   ],
   "source": [
    "x = int(input(\"enter a number\"))\n",
    "if x > 10:\n",
    " print(\"x is bigger than 10\")\n",
    "if x > 50:\n",
    " print(\"x is bigger than 50\")\n",
    "if x <= 10:\n",
    " print(\"x is smaller than or equal to  10\")\n",
    "        "
   ]
  },
  {
   "cell_type": "code",
   "execution_count": 4,
   "metadata": {},
   "outputs": [
    {
     "name": "stdout",
     "output_type": "stream",
     "text": [
      "odd\n"
     ]
    }
   ],
   "source": [
    "x = int(input(\"enter a number\"))\n",
    "if (x % 2 == 0):\n",
    "    print(\"even\")\n",
    "else:\n",
    "    print(\"odd\")\n",
    "     \n"
   ]
  },
  {
   "cell_type": "code",
   "execution_count": 5,
   "metadata": {},
   "outputs": [
    {
     "name": "stdout",
     "output_type": "stream",
     "text": [
      " c is the biggest\n"
     ]
    }
   ],
   "source": [
    "a , b , c = 10, 20, 30\n",
    "if a > b and a > c:\n",
    "    print(\" a is the biggest number\")\n",
    "elif b > a and b >c:\n",
    "    print(\" b is the biggest number\")\n",
    "else:\n",
    "    print(\" c is the biggest\")"
   ]
  },
  {
   "cell_type": "code",
   "execution_count": 8,
   "metadata": {},
   "outputs": [
    {
     "name": "stdout",
     "output_type": "stream",
     "text": [
      "🌈username and password are valid\n"
     ]
    }
   ],
   "source": [
    "\n",
    "username = input(\"enter username\")\n",
    "pwd = input(\"enter user password\")\n",
    "if len(username) < 3:\n",
    "    print(\"🔒 username must be of 3 characters\")\n",
    "elif len(pwd) < 8:\n",
    "    print(\"🔒password must be at least 8 characters\")\n",
    "elif not username.isalpha():\n",
    "    print(\"🔒 username must be alphabetic\")\n",
    "else:\n",
    "    print(\"🌈username and password are valid\")"
   ]
  },
  {
   "cell_type": "code",
   "execution_count": 7,
   "metadata": {},
   "outputs": [
    {
     "name": "stdout",
     "output_type": "stream",
     "text": [
      "🌈username and password are valid\n"
     ]
    }
   ],
   "source": [
    "username = input(\"enter username\")\n",
    "pwd = input(\"enter user password\")\n",
    "if len(username) < 3:\n",
    "    print(\"🔒 username must be of 3 characters\")\n",
    "if len(pwd) < 8:\n",
    "    print(\"🔒password must be at least 8 characters\")\n",
    "if not username.isalpha():\n",
    "    print(\"🔒 username must be alphabetic\")\n",
    "if len(username) >= 3 and len(pwd) >= 8 and username.isalpha():\n",
    "    print(\"🌈username and password are valid\")"
   ]
  },
  {
   "cell_type": "code",
   "execution_count": 9,
   "metadata": {},
   "outputs": [
    {
     "name": "stdout",
     "output_type": "stream",
     "text": [
      "horrible day\n"
     ]
    }
   ],
   "source": [
    "day = input(\"enter a day\")\n",
    "match day:\n",
    "    case \"monday\" | \"saturday\":\n",
    "        print(\"fun day\")\n",
    "    case \"tuesday\" | \"friday\":\n",
    "        print(\"boring day\")\n",
    "    case \"wednesday\"  |\"holiday\":\n",
    "        print(\"horrible day\")\n",
    "    case _:\n",
    "        print(\"INVALID DAY\")\n"
   ]
  },
  {
   "cell_type": "code",
   "execution_count": 5,
   "metadata": {},
   "outputs": [
    {
     "name": "stdout",
     "output_type": "stream",
     "text": [
      "5\n",
      "6\n",
      "8\n",
      "9\n",
      "29\n",
      "58\n",
      "73\n",
      "96\n"
     ]
    }
   ],
   "source": [
    "prices  = [5,6,8,9,29,None,58,73,96,]\n",
    "for price in prices:\n",
    "   if price is None:\n",
    "     continue\n",
    "   print(price)\n"
   ]
  },
  {
   "cell_type": "code",
   "execution_count": 6,
   "metadata": {},
   "outputs": [
    {
     "name": "stdout",
     "output_type": "stream",
     "text": [
      "5\n",
      "6\n",
      "8\n",
      "9\n",
      "29\n"
     ]
    }
   ],
   "source": [
    "prices  = [5,6,8,9,29,None,58,73,96,]\n",
    "for price in prices:\n",
    "   if price is None:\n",
    "     break\n",
    "   print(price)\n"
   ]
  },
  {
   "cell_type": "code",
   "execution_count": 10,
   "metadata": {},
   "outputs": [
    {
     "name": "stdout",
     "output_type": "stream",
     "text": [
      "0 Namita\n",
      "1 Shreya\n",
      "2 vidushi\n"
     ]
    }
   ],
   "source": [
    "names = ['Namita','Shreya','vidushi']\n",
    "\n",
    "for idx, name in enumerate(names):\n",
    "    print(idx,name)"
   ]
  },
  {
   "cell_type": "code",
   "execution_count": 13,
   "metadata": {},
   "outputs": [
    {
     "name": "stdout",
     "output_type": "stream",
     "text": [
      "(0, 'Namita')\n",
      "(1, 'Shreya')\n",
      "(2, 'vidushi')\n"
     ]
    }
   ],
   "source": [
    "names = ['Namita','Shreya','vidushi']\n",
    "\n",
    "for name in  enumerate(names):\n",
    "    print(name)"
   ]
  },
  {
   "cell_type": "code",
   "execution_count": 15,
   "metadata": {},
   "outputs": [
    {
     "name": "stdout",
     "output_type": "stream",
     "text": [
      "bread         45     3   135\n",
      "milk          67     5   335\n",
      "butter        89     9   801\n"
     ]
    }
   ],
   "source": [
    "grocery = ['bread', 'milk', 'butter']\n",
    "prices = [45,67,89]\n",
    "qtys = [3,5,9]\n",
    "\n",
    "for g, p, q in zip(grocery, prices, qtys):\n",
    "    print(f'{g:10} {p:5} {q:5} {p*q:5}')"
   ]
  },
  {
   "cell_type": "code",
   "execution_count": 26,
   "metadata": {},
   "outputs": [
    {
     "name": "stdout",
     "output_type": "stream",
     "text": [
      "17 => prime\n"
     ]
    }
   ],
   "source": [
    "num =  17\n",
    "\n",
    "for i in  range(2, num):\n",
    "    if num % i == 0:\n",
    "        print(f'{num} => not a prime')\n",
    "        break\n",
    "else:\n",
    "    print(f'{num} => prime')"
   ]
  },
  {
   "cell_type": "code",
   "execution_count": 30,
   "metadata": {},
   "outputs": [
    {
     "name": "stdout",
     "output_type": "stream",
     "text": [
      "654321\n"
     ]
    }
   ],
   "source": [
    "#reverse number\n",
    "num = 123456\n",
    "rev = 0\n",
    "while num > 0:\n",
    "    last_digit = num % 10\n",
    "    rev = rev * 10 + last_digit\n",
    "    num = num //10\n",
    "print(rev)\n"
   ]
  },
  {
   "cell_type": "code",
   "execution_count": 31,
   "metadata": {},
   "outputs": [
    {
     "name": "stdout",
     "output_type": "stream",
     "text": [
      "invalid details\n",
      "logged in\n"
     ]
    }
   ],
   "source": [
    "# true while example\n",
    "username =  'namita'\n",
    "password = 'admin123'\n",
    "while True:\n",
    "    u = input('username: ')\n",
    "    p = input('password: ')\n",
    "    if u == username and p == password:\n",
    "        print('logged in')\n",
    "        break\n",
    "    else:\n",
    "        print('invalid details')\n",
    "        continue"
   ]
  },
  {
   "cell_type": "code",
   "execution_count": null,
   "metadata": {},
   "outputs": [],
   "source": []
  }
 ],
 "metadata": {
  "kernelspec": {
   "display_name": "base",
   "language": "python",
   "name": "python3"
  },
  "language_info": {
   "codemirror_mode": {
    "name": "ipython",
    "version": 3
   },
   "file_extension": ".py",
   "mimetype": "text/x-python",
   "name": "python",
   "nbconvert_exporter": "python",
   "pygments_lexer": "ipython3",
   "version": "3.10.9"
  },
  "orig_nbformat": 4
 },
 "nbformat": 4,
 "nbformat_minor": 2
}
