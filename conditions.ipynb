{
 "cells": [
  {
   "cell_type": "code",
   "execution_count": 2,
   "metadata": {},
   "outputs": [
    {
     "name": "stdout",
     "output_type": "stream",
     "text": [
      "x is bigger than 25\n"
     ]
    }
   ],
   "source": [
    "x = 30\n",
    "if x > 25:\n",
    "    print(\"x is bigger than 25\")"
   ]
  },
  {
   "cell_type": "code",
   "execution_count": 3,
   "metadata": {},
   "outputs": [
    {
     "name": "stdout",
     "output_type": "stream",
     "text": [
      "x is smaller than or equal to  10\n"
     ]
    }
   ],
   "source": [
    "x = int(input(\"enter a number\"))\n",
    "if x > 10:\n",
    " print(\"x is bigger than 10\")\n",
    "if x > 50:\n",
    " print(\"x is bigger than 50\")\n",
    "if x <= 10:\n",
    " print(\"x is smaller than or equal to  10\")\n",
    "        "
   ]
  },
  {
   "cell_type": "code",
   "execution_count": 4,
   "metadata": {},
   "outputs": [
    {
     "name": "stdout",
     "output_type": "stream",
     "text": [
      "odd\n"
     ]
    }
   ],
   "source": [
    "x = int(input(\"enter a number\"))\n",
    "if (x % 2 == 0):\n",
    "    print(\"even\")\n",
    "else:\n",
    "    print(\"odd\")\n",
    "     \n"
   ]
  },
  {
   "cell_type": "code",
   "execution_count": 5,
   "metadata": {},
   "outputs": [
    {
     "name": "stdout",
     "output_type": "stream",
     "text": [
      " c is the biggest\n"
     ]
    }
   ],
   "source": [
    "a , b , c = 10, 20, 30\n",
    "if a > b and a > c:\n",
    "    print(\" a is the biggest number\")\n",
    "elif b > a and b >c:\n",
    "    print(\" b is the biggest number\")\n",
    "else:\n",
    "    print(\" c is the biggest\")"
   ]
  },
  {
   "cell_type": "code",
   "execution_count": 8,
   "metadata": {},
   "outputs": [
    {
     "name": "stdout",
     "output_type": "stream",
     "text": [
      "🌈username and password are valid\n"
     ]
    }
   ],
   "source": [
    "\n",
    "username = input(\"enter username\")\n",
    "pwd = input(\"enter user password\")\n",
    "if len(username) < 3:\n",
    "    print(\"🔒 username must be of 3 characters\")\n",
    "elif len(pwd) < 8:\n",
    "    print(\"🔒password must be at least 8 characters\")\n",
    "elif not username.isalpha():\n",
    "    print(\"🔒 username must be alphabetic\")\n",
    "else:\n",
    "    print(\"🌈username and password are valid\")"
   ]
  },
  {
   "cell_type": "code",
   "execution_count": 7,
   "metadata": {},
   "outputs": [
    {
     "name": "stdout",
     "output_type": "stream",
     "text": [
      "🌈username and password are valid\n"
     ]
    }
   ],
   "source": [
    "username = input(\"enter username\")\n",
    "pwd = input(\"enter user password\")\n",
    "if len(username) < 3:\n",
    "    print(\"🔒 username must be of 3 characters\")\n",
    "if len(pwd) < 8:\n",
    "    print(\"🔒password must be at least 8 characters\")\n",
    "if not username.isalpha():\n",
    "    print(\"🔒 username must be alphabetic\")\n",
    "if len(username) >= 3 and len(pwd) >= 8 and username.isalpha():\n",
    "    print(\"🌈username and password are valid\")"
   ]
  },
  {
   "cell_type": "code",
   "execution_count": 9,
   "metadata": {},
   "outputs": [
    {
     "name": "stdout",
     "output_type": "stream",
     "text": [
      "horrible day\n"
     ]
    }
   ],
   "source": [
    "day = input(\"enter a day\")\n",
    "match day:\n",
    "    case \"monday\" | \"saturday\":\n",
    "        print(\"fun day\")\n",
    "    case \"tuesday\" | \"friday\":\n",
    "        print(\"boring day\")\n",
    "    case \"wednesday\"  |\"holiday\":\n",
    "        print(\"horrible day\")\n",
    "    case _:\n",
    "        print(\"INVALID DAY\")\n"
   ]
  },
  {
   "cell_type": "code",
   "execution_count": null,
   "metadata": {},
   "outputs": [],
   "source": []
  }
 ],
 "metadata": {
  "kernelspec": {
   "display_name": "base",
   "language": "python",
   "name": "python3"
  },
  "language_info": {
   "codemirror_mode": {
    "name": "ipython",
    "version": 3
   },
   "file_extension": ".py",
   "mimetype": "text/x-python",
   "name": "python",
   "nbconvert_exporter": "python",
   "pygments_lexer": "ipython3",
   "version": "3.10.9"
  },
  "orig_nbformat": 4
 },
 "nbformat": 4,
 "nbformat_minor": 2
}
