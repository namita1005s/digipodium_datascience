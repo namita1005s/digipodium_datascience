{
 "cells": [
  {
   "cell_type": "markdown",
   "metadata": {},
   "source": [
    "Write a program that creates an empty list and then asks the user to input integers to add to the list. Print the final list."
   ]
  },
  {
   "cell_type": "code",
   "execution_count": 1,
   "metadata": {},
   "outputs": [
    {
     "name": "stdout",
     "output_type": "stream",
     "text": [
      "Final list: [5, 6, 7, 8, 9]\n"
     ]
    }
   ],
   "source": [
    "my_list = []  # Create an empty list\n",
    "\n",
    "# Ask the user to input integers until 'q' is entered\n",
    "while True:\n",
    "    value = input(\"Enter an integer (or 'q' to quit): \")\n",
    "    if value.lower() == 'q':\n",
    "        break\n",
    "    my_list.append(int(value))\n",
    "\n",
    "# Print the final list\n",
    "print(\"Final list:\", my_list)\n"
   ]
  },
  {
   "cell_type": "markdown",
   "metadata": {},
   "source": [
    "Write a program that creates a list of integers and then asks the user to input an integer to check if it exists in the list. Print a message indicating whether the integer is in the list or not."
   ]
  },
  {
   "cell_type": "code",
   "execution_count": 2,
   "metadata": {},
   "outputs": [
    {
     "name": "stdout",
     "output_type": "stream",
     "text": [
      "The number 5 exists in the list.\n"
     ]
    }
   ],
   "source": [
    "\n",
    "num_list = [1, 3, 5, 7, 9]\n",
    "\n",
    "\n",
    "user_input = int(input(\"Enter an integer to check if it exists in the list: \"))\n",
    "if user_input in num_list:\n",
    "            print(f\"The number {user_input} exists in the list.\")\n",
    "else:\n",
    "            print(f\"The number {user_input} does not exist in the list.\")\n"
   ]
  },
  {
   "cell_type": "markdown",
   "metadata": {},
   "source": [
    "Write a program that creates a list of strings and then sorts the list alphabetically. Print the sorted list."
   ]
  },
  {
   "cell_type": "code",
   "execution_count": 3,
   "metadata": {},
   "outputs": [
    {
     "name": "stdout",
     "output_type": "stream",
     "text": [
      "Sorted list: ['apple', 'banana', 'grape', 'kiwi', 'orange']\n"
     ]
    }
   ],
   "source": [
    "string_list = [\"apple\", \"orange\", \"banana\", \"grape\", \"kiwi\"]\n",
    "\n",
    "    # Sort the list alphabetically\n",
    "sorted_list = sorted(string_list)\n",
    "\n",
    "    # Print the sorted list\n",
    "print(\"Sorted list:\", sorted_list)"
   ]
  },
  {
   "cell_type": "markdown",
   "metadata": {},
   "source": [
    "Write a program that creates a list of integers and then finds the maximum value in the list. Print the maximum value."
   ]
  },
  {
   "cell_type": "code",
   "execution_count": 4,
   "metadata": {},
   "outputs": [
    {
     "name": "stdout",
     "output_type": "stream",
     "text": [
      "num_list: 76\n"
     ]
    }
   ],
   "source": [
    "num_list = [ 22,6,8,9,29,3,7,63,45,36,76,67]\n",
    "max_list = max(num_list)\n",
    "print(\"num_list:\",max_list)"
   ]
  },
  {
   "cell_type": "markdown",
   "metadata": {},
   "source": [
    "Write a program that creates two lists of integers and then finds the common elements between those two lists. Print the common elements."
   ]
  },
  {
   "cell_type": "code",
   "execution_count": 6,
   "metadata": {},
   "outputs": [
    {
     "name": "stdout",
     "output_type": "stream",
     "text": [
      "6 9 29 7 76 67 "
     ]
    }
   ],
   "source": [
    "num_list1 = [ 22,6,8,9,29,3,7,63,45,36,76,67]\n",
    "num_list2 = [ 21,6,88,9,29,39,7,633,459,360,76,67]\n",
    "for i in num_list1:\n",
    "    for j in num_list2:\n",
    "        if(i == j): #common elements\n",
    "            print(i, end = ' ')"
   ]
  },
  {
   "cell_type": "markdown",
   "metadata": {},
   "source": [
    "Write a program that creates a list of strings and then removes all elements that contain a specific substring. Print the final list."
   ]
  },
  {
   "cell_type": "code",
   "execution_count": 4,
   "metadata": {},
   "outputs": [
    {
     "name": "stdout",
     "output_type": "stream",
     "text": [
      "Final List: ['apple', 'kiwi', 'grape']\n"
     ]
    }
   ],
   "source": [
    "strings_list = [\"apple\", \"banana\", \"orange\", \"kiwi\", \"grape\", \"mango\"]\n",
    "substring = input(\"Enter the substring to remove: \")\n",
    "final_list = [s for s in strings_list if substring not in s]\n",
    "print(\"Final List: \" + str(final_list))\n",
    "\n",
    "\n"
   ]
  },
  {
   "cell_type": "markdown",
   "metadata": {},
   "source": [
    "Write a program that creates a nested list and then accesses a specific element in the list. Print the accessed element."
   ]
  },
  {
   "cell_type": "code",
   "execution_count": 9,
   "metadata": {},
   "outputs": [
    {
     "name": "stdout",
     "output_type": "stream",
     "text": [
      "Accessed Element: 6\n"
     ]
    }
   ],
   "source": [
    "nested_list = [\n",
    "        [1, 2, 3],\n",
    "        [4, 5, 6],\n",
    "        [7, 8, 9]\n",
    "    ]\n",
    "\n",
    "row_index = int(input(\"Enter the row index: \"))\n",
    "column_index = int(input(\"Enter the column index: \"))\n",
    "accessed_element = nested_list[row_index][column_index]\n",
    "print(\"Accessed Element:\", accessed_element)\n",
    "\n"
   ]
  },
  {
   "cell_type": "markdown",
   "metadata": {},
   "source": [
    "Write a program that creates a list of integers and then finds the median value of the list. Print the median."
   ]
  },
  {
   "cell_type": "code",
   "execution_count": 1,
   "metadata": {},
   "outputs": [
    {
     "name": "stdout",
     "output_type": "stream",
     "text": [
      "5.5\n"
     ]
    }
   ],
   "source": [
    "my_list = [1, 2, 3, 4, 5, 6, 7, 8, 9, 10]\n",
    "\n",
    "my_list.sort()\n",
    "\n",
    "middle_index = len(my_list) // 2\n",
    "\n",
    "if len(my_list) % 2 == 1:\n",
    "    median = my_list[middle_index]\n",
    "\n",
    "else:\n",
    "    median = (my_list[middle_index - 1] + my_list[middle_index]) / 2\n",
    "print(median)"
   ]
  },
  {
   "cell_type": "markdown",
   "metadata": {},
   "source": [
    "Write a program that creates a list of strings and then reverses the order of the strings in the list. Print the reversed list."
   ]
  },
  {
   "cell_type": "code",
   "execution_count": 2,
   "metadata": {},
   "outputs": [
    {
     "name": "stdout",
     "output_type": "stream",
     "text": [
      "['fig', 'elderberry', 'date', 'cherry', 'banana', 'apple']\n"
     ]
    }
   ],
   "source": [
    "my_list = [\"apple\", \"banana\", \"cherry\", \"date\", \"elderberry\", \"fig\"]\n",
    "my_list.reverse()\n",
    "print(my_list)"
   ]
  },
  {
   "cell_type": "markdown",
   "metadata": {},
   "source": [
    "Write a program that creates a list of integers and then calculates the average of all the numbers in the list. Print the average."
   ]
  },
  {
   "cell_type": "code",
   "execution_count": 3,
   "metadata": {},
   "outputs": [
    {
     "name": "stdout",
     "output_type": "stream",
     "text": [
      "5.5\n"
     ]
    }
   ],
   "source": [
    "my_list = [1, 2, 3, 4, 5, 6, 7, 8, 9, 10]\n",
    "average = sum(my_list) / len(my_list)\n",
    "print(average)"
   ]
  },
  {
   "cell_type": "markdown",
   "metadata": {},
   "source": [
    "Write a program that creates a list of integers and then finds the index of a specific element in the list. Print the index.\n"
   ]
  },
  {
   "cell_type": "code",
   "execution_count": 4,
   "metadata": {},
   "outputs": [
    {
     "name": "stdout",
     "output_type": "stream",
     "text": [
      "4\n"
     ]
    }
   ],
   "source": [
    "index = my_list.index(5)\n",
    "print(index)"
   ]
  },
  {
   "cell_type": "markdown",
   "metadata": {},
   "source": [
    "Write a program that creates a list of strings and then removes all whitespace characters from each string in the list. Print the final list."
   ]
  },
  {
   "cell_type": "code",
   "execution_count": 10,
   "metadata": {},
   "outputs": [
    {
     "name": "stdout",
     "output_type": "stream",
     "text": [
      "['This is a string', 'with some spaces', 'in it']\n"
     ]
    }
   ],
   "source": [
    "my_list1 = [\"This is a string\", \"with some spaces\", \"in it\"]\n",
    "for string in my_list1:\n",
    "    string = string.strip()\n",
    "print(my_list1)"
   ]
  },
  {
   "cell_type": "markdown",
   "metadata": {},
   "source": [
    "Write a program that creates a list of integers and then sorts the list in descending order. Print the sorted list."
   ]
  },
  {
   "cell_type": "code",
   "execution_count": 14,
   "metadata": {},
   "outputs": [
    {
     "name": "stdout",
     "output_type": "stream",
     "text": [
      "[10, 9, 8, 7, 6, 5, 4, 3, 2, 1]\n"
     ]
    }
   ],
   "source": [
    "my_list = [1, 2, 3, 4, 5, 6, 7, 8, 9, 10]\n",
    "my_list.sort(reverse=True)\n",
    "print(my_list)"
   ]
  },
  {
   "cell_type": "markdown",
   "metadata": {},
   "source": [
    "Write a program that creates a list of integers and then asks the user to input a value to add to the list. Add the value to the beginning of the list and print the final list."
   ]
  },
  {
   "cell_type": "code",
   "execution_count": 15,
   "metadata": {},
   "outputs": [
    {
     "name": "stdout",
     "output_type": "stream",
     "text": [
      "Final List: [20, 10, 9, 8, 7, 6, 5, 4, 3, 2, 1]\n"
     ]
    }
   ],
   "source": [
    "new_value = int(input(\"Enter a value to add to the list: \"))\n",
    "my_list.insert(0, new_value)\n",
    "\n",
    "print(\"Final List:\", my_list)\n"
   ]
  },
  {
   "cell_type": "markdown",
   "metadata": {},
   "source": [
    "Write a program that creates two lists of integers and then concatenates those two lists into a single list. Print the final list."
   ]
  },
  {
   "cell_type": "code",
   "execution_count": 16,
   "metadata": {},
   "outputs": [
    {
     "name": "stdout",
     "output_type": "stream",
     "text": [
      "[22, 6, 8, 9, 29, 3, 7, 63, 45, 36, 76, 67, 21, 6, 88, 9, 29, 39, 7, 633, 459, 360, 76, 67]\n"
     ]
    }
   ],
   "source": [
    "num_list1 = [ 22,6,8,9,29,3,7,63,45,36,76,67]\n",
    "num_list2 = [ 21,6,88,9,29,39,7,633,459,360,76,67]\n",
    "print(num_list1+num_list2)\n"
   ]
  },
  {
   "cell_type": "markdown",
   "metadata": {},
   "source": [
    "Write a program that uses the map function to create a new list that contains the squares of each element in a user inputted list of integers."
   ]
  },
  {
   "cell_type": "code",
   "execution_count": 17,
   "metadata": {},
   "outputs": [
    {
     "name": "stdout",
     "output_type": "stream",
     "text": [
      "5 6 7 8 9 3 9 55 44 67 89 32 90\n",
      "[5, 6, 7, 8, 9, 3, 9, 55, 44, 67, 89, 32, 90]\n",
      "Squared List: [25, 36, 49, 64, 81, 9, 81, 3025, 1936, 4489, 7921, 1024, 8100]\n"
     ]
    }
   ],
   "source": [
    "user_input = input(\"Enter a list of integers separated by spaces: \")\n",
    "print(user_input)\n",
    "input_list = list(map(int, user_input.split()))\n",
    "print(input_list)\n",
    "squared_list = list(map(lambda x: x ** 2, input_list))\n",
    "\n",
    "print(\"Squared List:\", squared_list)\n"
   ]
  },
  {
   "cell_type": "markdown",
   "metadata": {},
   "source": [
    "Write a program that uses a lambda expression and the map function to convert a list of integers to a list of strings. Print the new list"
   ]
  },
  {
   "cell_type": "code",
   "execution_count": 18,
   "metadata": {},
   "outputs": [
    {
     "name": "stdout",
     "output_type": "stream",
     "text": [
      "['20', '10', '9', '8', '7', '6', '5', '4', '3', '2', '1']\n"
     ]
    }
   ],
   "source": [
    "num_list1 = [ 22,6,8,9,29,3,7,63,45,36,76,67]\n",
    "new_list = list(map(lambda x: str(x), my_list))\n",
    "print(new_list)"
   ]
  },
  {
   "cell_type": "markdown",
   "metadata": {},
   "source": [
    "Write a program that uses a lambda expression and the map function to add 10 to each element in a list of integers. Print the new lis"
   ]
  },
  {
   "cell_type": "code",
   "execution_count": 22,
   "metadata": {},
   "outputs": [
    {
     "name": "stdout",
     "output_type": "stream",
     "text": [
      "[32, 16, 18, 19, 39, 13, 17, 73, 55, 46, 86, 77]\n"
     ]
    }
   ],
   "source": [
    "num_list1 = [ 22,6,8,9,29,3,7,63,45,36,76,67]\n",
    "new_list2 = list(map(lambda x: x+10, num_list1))\n",
    "print(new_list2)"
   ]
  },
  {
   "cell_type": "markdown",
   "metadata": {},
   "source": [
    "Write a program that uses the map function to create a new list that contains the first letter of each string in a user inputted list of strings."
   ]
  },
  {
   "cell_type": "code",
   "execution_count": 24,
   "metadata": {},
   "outputs": [
    {
     "name": "stdout",
     "output_type": "stream",
     "text": [
      " please provide more details \n",
      "['please', 'provide', 'more', 'details']\n",
      "['p', 'p', 'm', 'd']\n"
     ]
    }
   ],
   "source": [
    "user_input = input(\"Enter a list of strings separated by spaces: \")\n",
    "print(user_input)\n",
    "input_list = user_input.split()\n",
    "print(input_list)\n",
    "first_letters_list = list(map(lambda x: x[0], input_list))\n",
    "print(first_letters_list)\n"
   ]
  },
  {
   "cell_type": "markdown",
   "metadata": {},
   "source": [
    "Write a program that uses a lambda expression and the map function to convert a list of Celsius temperatures to a list of Fahrenheit temperatures. Print the new list."
   ]
  },
  {
   "cell_type": "code",
   "execution_count": 25,
   "metadata": {},
   "outputs": [
    {
     "name": "stdout",
     "output_type": "stream",
     "text": [
      "[32.0, 50.0, 68.0, 86.0, 104.0, 122.0, 140.0, 158.0, 176.0, 194.0]\n"
     ]
    }
   ],
   "source": [
    "celsius_temperatures = [0, 10, 20, 30, 40, 50, 60, 70, 80, 90]\n",
    "fahrenheit_temperatures = list(map(lambda x: x * 9 / 5 + 32, celsius_temperatures))\n",
    "print(fahrenheit_temperatures)"
   ]
  },
  {
   "cell_type": "markdown",
   "metadata": {},
   "source": [
    "Write a program that uses a lambda expression and the map function to convert a list of strings to a list of integers. Print the new list"
   ]
  },
  {
   "cell_type": "code",
   "execution_count": 27,
   "metadata": {},
   "outputs": [
    {
     "name": "stdout",
     "output_type": "stream",
     "text": [
      "2 8 9 5 4 \n",
      "['2', '8', '9', '5', '4']\n",
      "[2, 8, 9, 5, 4]\n"
     ]
    }
   ],
   "source": [
    "user_input = input(\"Enter a list of integer separated by spaces: \")\n",
    "print(user_input)\n",
    "input_list = user_input.split()\n",
    "print(input_list)\n",
    "new_list = list(map(lambda x: int(x), input_list))\n",
    "print(new_list)"
   ]
  },
  {
   "cell_type": "markdown",
   "metadata": {},
   "source": [
    "Write a program that uses the map function to create a new list that contains the length of each string in a user inputted list of strings."
   ]
  },
  {
   "cell_type": "code",
   "execution_count": 28,
   "metadata": {},
   "outputs": [
    {
     "name": "stdout",
     "output_type": "stream",
     "text": [
      "please provide more detail\n",
      "['please', 'provide', 'more', 'detail']\n",
      "[6, 7, 4, 6]\n"
     ]
    }
   ],
   "source": [
    "user_input = input(\"Enter a list of strings separated by spaces: \")\n",
    "print(user_input)\n",
    "input_list = user_input.split()\n",
    "print(input_list)\n",
    "new_list = list(map(lambda x: len(x), input_list))\n",
    "print(new_list)"
   ]
  },
  {
   "cell_type": "markdown",
   "metadata": {},
   "source": [
    "Write a program that uses a lambda expression and the map function to calculate the square root of each element in a list of integers. Print the new list."
   ]
  },
  {
   "cell_type": "code",
   "execution_count": 33,
   "metadata": {},
   "outputs": [
    {
     "name": "stdout",
     "output_type": "stream",
     "text": [
      "44 67 23 45 77 55 4 6 8 9 \n",
      "[6.6332495807108, 8.18535277187245, 4.795831523312719, 6.708203932499369, 8.774964387392123, 7.416198487095663, 2.0, 2.449489742783178, 2.8284271247461903, 3.0]\n"
     ]
    }
   ],
   "source": [
    "user_input = input(\"Enter a list of integers separated by spaces: \")\n",
    "print(user_input)\n",
    "\n",
    "input_list = user_input.split()\n",
    "input_list = list(map(int, input_list))\n",
    "\n",
    "new_list = list(map(lambda x: x ** 0.5, input_list))\n",
    "print(new_list)\n"
   ]
  },
  {
   "cell_type": "markdown",
   "metadata": {},
   "source": [
    "Write a program that uses a lambda expression and the map function to convert a list of integers to their absolute values. Print the new list."
   ]
  },
  {
   "cell_type": "code",
   "execution_count": 35,
   "metadata": {},
   "outputs": [
    {
     "name": "stdout",
     "output_type": "stream",
     "text": [
      "-5 -7 -8 -7 -55 -76 8 5 6 43\n",
      "[5, 7, 8, 7, 55, 76, 8, 5, 6, 43]\n"
     ]
    }
   ],
   "source": [
    "user_input = input(\"Enter a list of integers separated by spaces: \")\n",
    "print(user_input)\n",
    "\n",
    "input_list = user_input.split()\n",
    "input_list = list(map(int, input_list))\n",
    "\n",
    "absolute_values_list = list(map(lambda x: abs(x), input_list))\n",
    "print(absolute_values_list)\n"
   ]
  },
  {
   "cell_type": "markdown",
   "metadata": {},
   "source": [
    "Write a program that uses the map function to create a new list that contains the uppercase version of each string in a user inputted list of strings."
   ]
  },
  {
   "cell_type": "code",
   "execution_count": 36,
   "metadata": {},
   "outputs": [
    {
     "name": "stdout",
     "output_type": "stream",
     "text": [
      "please provide more detail\n",
      "['please', 'provide', 'more', 'detail']\n",
      "['PLEASE', 'PROVIDE', 'MORE', 'DETAIL']\n"
     ]
    }
   ],
   "source": [
    "user_input = input(\"Enter a list of strings separated by spaces: \")\n",
    "print(user_input)\n",
    "input_list = user_input.split()\n",
    "print(input_list)\n",
    "new_list = list(map(lambda x: x.upper(), input_list))\n",
    "print(new_list)"
   ]
  },
  {
   "cell_type": "markdown",
   "metadata": {},
   "source": [
    "Write a program that uses the filter function to create a new list that contains only the even numbers from a user inputted list of integers."
   ]
  },
  {
   "cell_type": "code",
   "execution_count": 37,
   "metadata": {},
   "outputs": [
    {
     "name": "stdout",
     "output_type": "stream",
     "text": [
      "65 87 76 34 56 3 4 5 6 2\n",
      "[76, 34, 56, 4, 6, 2]\n"
     ]
    }
   ],
   "source": [
    "user_input = input(\"Enter a list of integers separated by spaces: \")\n",
    "print(user_input)\n",
    "\n",
    "input_list = user_input.split()\n",
    "input_list = list(map(int, input_list))\n",
    "even_numbers_list = list(filter(lambda x: x % 2 == 0, input_list))\n",
    "print(even_numbers_list)"
   ]
  },
  {
   "cell_type": "markdown",
   "metadata": {},
   "source": [
    "Write a program that uses a lambda expression and the filter function to create a new list that contains only the strings that start with a vowel from a user inputted list of strings."
   ]
  },
  {
   "cell_type": "code",
   "execution_count": 2,
   "metadata": {},
   "outputs": [
    {
     "name": "stdout",
     "output_type": "stream",
     "text": [
      "apple banana orange elephant iguana\n",
      "['apple', 'banana', 'orange', 'elephant', 'iguana']\n",
      "['apple', 'orange', 'elephant', 'iguana']\n"
     ]
    }
   ],
   "source": [
    "user_input = input(\"Enter a list of strings separated by spaces: \")\n",
    "print(user_input)\n",
    "\n",
    "input_list = user_input.split()\n",
    "print(input_list)\n",
    "\n",
    "vowel_strings = filter(lambda string: string[0] in \"aeiou\", input_list)\n",
    "vowel_strings_list = list(vowel_strings)\n",
    "print(vowel_strings_list)\n"
   ]
  }
 ],
 "metadata": {
  "kernelspec": {
   "display_name": "Python 3",
   "language": "python",
   "name": "python3"
  },
  "language_info": {
   "codemirror_mode": {
    "name": "ipython",
    "version": 3
   },
   "file_extension": ".py",
   "mimetype": "text/x-python",
   "name": "python",
   "nbconvert_exporter": "python",
   "pygments_lexer": "ipython3",
   "version": "3.10.10"
  },
  "orig_nbformat": 4
 },
 "nbformat": 4,
 "nbformat_minor": 2
}
