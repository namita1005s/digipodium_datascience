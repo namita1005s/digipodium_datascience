{
 "cells": [
  {
   "cell_type": "code",
   "execution_count": 1,
   "metadata": {},
   "outputs": [
    {
     "name": "stdout",
     "output_type": "stream",
     "text": [
      "{'first name': 'Rajesh', 'last name': 'Kumar', 'age': 25, 'address': {'house no': 123, 'street': 'MG road', 'city': 'Banglore', 'State': 'Karnataka'}}\n"
     ]
    }
   ],
   "source": [
    "raju = {\n",
    "    'first name': 'Rajesh',\n",
    "    'last name': 'Kumar',\n",
    "    'age': 25,\n",
    "    'address':{\n",
    "        'house no': 123,\n",
    "        'street': 'MG road',\n",
    "        'city': 'Banglore',\n",
    "        'State': 'Karnataka',\n",
    "    }\n",
    "    }\n",
    "print(raju)"
   ]
  },
  {
   "cell_type": "code",
   "execution_count": 2,
   "metadata": {},
   "outputs": [
    {
     "name": "stdout",
     "output_type": "stream",
     "text": [
      "Rajesh\n",
      "Kumar\n",
      "25\n",
      "Banglore\n"
     ]
    }
   ],
   "source": [
    "print(raju['first name'])\n",
    "print(raju['last name'])\n",
    "print(raju['age'])\n",
    "print(raju['address']['city'])"
   ]
  },
  {
   "cell_type": "markdown",
   "metadata": {},
   "source": [
    "get() function"
   ]
  },
  {
   "cell_type": "code",
   "execution_count": 3,
   "metadata": {},
   "outputs": [
    {
     "name": "stdout",
     "output_type": "stream",
     "text": [
      "Rajesh\n",
      "None\n",
      "not found\n"
     ]
    }
   ],
   "source": [
    "print(raju.get('first name'))\n",
    "print(raju.get('middle name'))\n",
    "print(raju.get('middle name','not found')) #default value optional"
   ]
  },
  {
   "cell_type": "markdown",
   "metadata": {},
   "source": [
    "update value of a key"
   ]
  },
  {
   "cell_type": "code",
   "execution_count": 4,
   "metadata": {},
   "outputs": [
    {
     "name": "stdout",
     "output_type": "stream",
     "text": [
      "{'first name': 'Rajesh', 'last name': 'Kumar', 'age': 24, 'address': {'house no': 123, 'street': 'MG road', 'city': 'Banglore', 'State': 'Karnataka'}}\n"
     ]
    }
   ],
   "source": [
    "raju['age'] = 24\n",
    "print(raju)"
   ]
  },
  {
   "cell_type": "markdown",
   "metadata": {},
   "source": [
    "adding an entry"
   ]
  },
  {
   "cell_type": "code",
   "execution_count": 5,
   "metadata": {},
   "outputs": [
    {
     "name": "stdout",
     "output_type": "stream",
     "text": [
      "{'first name': 'Rajesh', 'last name': 'Kumar', 'age': 24, 'address': {'house no': 123, 'street': 'MG road', 'city': 'Banglore', 'State': 'Karnataka', 'country': 'India'}, 'middle name': 'Arun', 'phone': '1234567890'}\n"
     ]
    }
   ],
   "source": [
    "raju['middle name']='Arun'\n",
    "raju['address']['country'] = 'India'\n",
    "raju['phone'] = '1234567890'\n",
    "print(raju)"
   ]
  },
  {
   "cell_type": "markdown",
   "metadata": {},
   "source": [
    "remove an entry"
   ]
  },
  {
   "cell_type": "code",
   "execution_count": 6,
   "metadata": {},
   "outputs": [
    {
     "data": {
      "text/plain": [
       "'Arun'"
      ]
     },
     "execution_count": 6,
     "metadata": {},
     "output_type": "execute_result"
    }
   ],
   "source": [
    "# pop() function\n",
    "raju.pop('middle name')"
   ]
  },
  {
   "cell_type": "code",
   "execution_count": 7,
   "metadata": {},
   "outputs": [
    {
     "name": "stdout",
     "output_type": "stream",
     "text": [
      "{'first name': 'Rajesh', 'last name': 'Kumar', 'age': 25, 'address': {'house no': 123, 'street': 'MG road', 'city': 'Banglore', 'State': 'Karnataka'}}\n"
     ]
    }
   ],
   "source": [
    "raju.clear()\n",
    "raju = {\n",
    "    'first name': 'Rajesh',\n",
    "    'last name': 'Kumar',\n",
    "    'age': 25,\n",
    "    'address':{\n",
    "        'house no': 123,\n",
    "        'street': 'MG road',\n",
    "        'city': 'Banglore',\n",
    "        'State': 'Karnataka',\n",
    "    }\n",
    "    }\n",
    "print(raju)"
   ]
  },
  {
   "cell_type": "code",
   "execution_count": 8,
   "metadata": {},
   "outputs": [
    {
     "name": "stdout",
     "output_type": "stream",
     "text": [
      "dict_keys(['first name', 'last name', 'age', 'address'])\n",
      "dict_values(['Rajesh', 'Kumar', 25, {'house no': 123, 'street': 'MG road', 'city': 'Banglore', 'State': 'Karnataka'}])\n",
      "dict_items([('first name', 'Rajesh'), ('last name', 'Kumar'), ('age', 25), ('address', {'house no': 123, 'street': 'MG road', 'city': 'Banglore', 'State': 'Karnataka'})])\n"
     ]
    }
   ],
   "source": [
    "print(raju.keys()) #list all the keys\n",
    "print(raju.values()) #list all the values\n",
    "print(raju.items()) #list all the key-value pairs\n"
   ]
  },
  {
   "cell_type": "code",
   "execution_count": 9,
   "metadata": {},
   "outputs": [
    {
     "name": "stdout",
     "output_type": "stream",
     "text": [
      "first name\n",
      "last name\n",
      "age\n",
      "address\n"
     ]
    }
   ],
   "source": [
    "for key in raju:\n",
    "    print(key)"
   ]
  },
  {
   "cell_type": "code",
   "execution_count": 10,
   "metadata": {},
   "outputs": [
    {
     "name": "stdout",
     "output_type": "stream",
     "text": [
      "Rajesh\n",
      "Kumar\n",
      "25\n",
      "{'house no': 123, 'street': 'MG road', 'city': 'Banglore', 'State': 'Karnataka'}\n"
     ]
    }
   ],
   "source": [
    "for key in raju:\n",
    "    print(raju[key])"
   ]
  },
  {
   "cell_type": "code",
   "execution_count": 11,
   "metadata": {},
   "outputs": [
    {
     "name": "stdout",
     "output_type": "stream",
     "text": [
      "first name Rajesh\n",
      "last name Kumar\n",
      "age 25\n",
      "address {'house no': 123, 'street': 'MG road', 'city': 'Banglore', 'State': 'Karnataka'}\n"
     ]
    }
   ],
   "source": [
    "for k,v in raju.items():\n",
    "    print(k,v)"
   ]
  },
  {
   "cell_type": "code",
   "execution_count": 12,
   "metadata": {},
   "outputs": [
    {
     "name": "stdout",
     "output_type": "stream",
     "text": [
      "Rajesh\n",
      "Kumar\n",
      "25\n",
      "{'house no': 123, 'street': 'MG road', 'city': 'Banglore', 'State': 'Karnataka'}\n"
     ]
    }
   ],
   "source": [
    "for v in raju.values():\n",
    "    print(v)"
   ]
  },
  {
   "cell_type": "code",
   "execution_count": 2,
   "metadata": {},
   "outputs": [
    {
     "name": "stdout",
     "output_type": "stream",
     "text": [
      "{'accounts': {'emp1': {'name': 'mahesh',\n",
      "                       'designation': 'lucknow',\n",
      "                       'salary': 7999999},\n",
      "              'emp2': {'name': 'shreya',\n",
      "                       'designation': 'barabanki',\n",
      "                       'salary': 6000000},\n",
      "              'emp3': {'name': 'rudraksh',\n",
      "                       'designation': 'jaipur',\n",
      "                       'salary': 8000000},\n",
      "              'emp4': {'name': 'maya',\n",
      "                       'designation': 'london',\n",
      "                       'salary': 1000000},\n",
      "              'emp5': {'name': 'namita singh',\n",
      "                       'designation': 'lucknow',\n",
      "                       'salary': 100000000}}}\n"
     ]
    }
   ],
   "source": [
    "# create a dictionary of 5 employees of account dept in a ACME company\n",
    "acme = {'accounts': { }}\n",
    "for i in range(5):\n",
    "    name = input(\"enter name: \")\n",
    "    desig = input('enter designation: ')\n",
    "    sal = int(input(\"enter salary: \"))\n",
    "    acme['accounts'][f'emp{i+1}'] = {\n",
    "        'name' : name,\n",
    "        'designation' : desig,\n",
    "        'salary': sal\n",
    "    }\n",
    "from pprint import pp\n",
    "pp(acme)"
   ]
  },
  {
   "cell_type": "code",
   "execution_count": 3,
   "metadata": {},
   "outputs": [
    {
     "name": "stdout",
     "output_type": "stream",
     "text": [
      "122999999\n"
     ]
    }
   ],
   "source": [
    "#calculate the total salary of the empolyees in the company\n",
    "total_salary = 0\n",
    "for i in acme['accounts']:\n",
    "    total_salary += acme['accounts'][i]['salary']\n",
    "print(total_salary)"
   ]
  },
  {
   "cell_type": "code",
   "execution_count": 4,
   "metadata": {},
   "outputs": [
    {
     "name": "stdout",
     "output_type": "stream",
     "text": [
      "found contact\n",
      "name police\n",
      "number 112\n",
      "contact not found\n",
      "add contact\n",
      "contact added\n"
     ]
    }
   ],
   "source": [
    "# create a contact dictionary and\n",
    "#let user check if a contact details\n",
    "# if yes, print the contact details\n",
    "# if no, ask user to add the contact\n",
    "\n",
    "contacts = {'police' : 112}\n",
    "while True:\n",
    "    contact_name = input('enter contact name: ')\n",
    "    if contact_name in contacts:\n",
    "        print('found contact')\n",
    "        print('name',contact_name)\n",
    "        print('number',contacts[contact_name])\n",
    "    elif(contact_name == 'exit'):\n",
    "        break\n",
    "    else:\n",
    "        print('contact not found')\n",
    "        print('add contact')\n",
    "        contact_number = input('enter contact number: ')\n",
    "        contacts[contact_name] = contact_number\n",
    "        print('contact added')"
   ]
  }
 ],
 "metadata": {
  "kernelspec": {
   "display_name": "Python 3",
   "language": "python",
   "name": "python3"
  },
  "language_info": {
   "codemirror_mode": {
    "name": "ipython",
    "version": 3
   },
   "file_extension": ".py",
   "mimetype": "text/x-python",
   "name": "python",
   "nbconvert_exporter": "python",
   "pygments_lexer": "ipython3",
   "version": "3.10.10"
  },
  "orig_nbformat": 4
 },
 "nbformat": 4,
 "nbformat_minor": 2
}
