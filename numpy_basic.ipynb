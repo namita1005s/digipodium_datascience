{
 "cells": [
  {
   "cell_type": "markdown",
   "metadata": {},
   "source": [
    "# Numpy Library\n",
    "Numpy (Numerical Python) is a powerful library in Python designed for efficient numerical computing.\n",
    "\n",
    "Numpy is like a super-powerful toolbox for doing math with Python. It helps you work with big sets of numbers easily, and it's used in many scientific and data-related tasks.\n",
    "\n",
    "With Numpy, you can work with arrays, which are like fancy lists that can have many dimensions. It's not just limited to 1D lists; you can have 2D tables, 3D cubes, and even higher-dimensional structures.\n",
    "\n",
    "One cool thing is \"broadcasting,\" which means you can do math on arrays of different shapes without any extra effort. Numpy figures out how to make the shapes match, so you don't have to worry about it.\n",
    "\n",
    "Numpy also comes with lots of built-in math functions, like adding, multiplying, taking the mean, or calculating trigonometric functions. It's like having a math expert in your Python code!\n",
    "\n",
    "And when you want to access or modify specific parts of an array, Numpy makes it easy with \"indexing\" and \"slicing.\" It's like being able to pick and choose the data you need.\n",
    "\n",
    "Numpy is super speedy because it's written in a language called C, which is excellent for performance. It can also work with other languages like C++ and Fortran if you need to integrate your code with them.\n",
    "\n",
    "So, in a nutshell, Numpy makes it simple to work with lots of numbers, do math easily, and it's super fast too!\n",
    "well documented library"
   ]
  },
  {
   "cell_type": "markdown",
   "metadata": {},
   "source": [
    "Creating Arrays:\n",
    "Numpy provides several functions to create arrays:\n",
    "\n",
    "np.array: Convert Python lists or tuples to arrays.\n",
    "np.zeros: Create an array filled with zeros.\n",
    "np.ones: Create an array filled with ones.\n",
    "np.arange: Create an array with a range of values.\n",
    "np.linspace: Create an array with evenly spaced values.\n",
    "np.random: Create arrays with random numbers."
   ]
  },
  {
   "cell_type": "code",
   "execution_count": 1,
   "metadata": {},
   "outputs": [],
   "source": [
    "import numpy as np"
   ]
  },
  {
   "cell_type": "code",
   "execution_count": 2,
   "metadata": {},
   "outputs": [
    {
     "name": "stdout",
     "output_type": "stream",
     "text": [
      "\u001b[1;31mSignature:\u001b[0m \u001b[0mnp\u001b[0m\u001b[1;33m.\u001b[0m\u001b[0meye\u001b[0m\u001b[1;33m(\u001b[0m\u001b[0mN\u001b[0m\u001b[1;33m,\u001b[0m \u001b[0mM\u001b[0m\u001b[1;33m=\u001b[0m\u001b[1;32mNone\u001b[0m\u001b[1;33m,\u001b[0m \u001b[0mk\u001b[0m\u001b[1;33m=\u001b[0m\u001b[1;36m0\u001b[0m\u001b[1;33m,\u001b[0m \u001b[0mdtype\u001b[0m\u001b[1;33m=\u001b[0m\u001b[1;33m<\u001b[0m\u001b[1;32mclass\u001b[0m \u001b[1;34m'float'\u001b[0m\u001b[1;33m>\u001b[0m\u001b[1;33m,\u001b[0m \u001b[0morder\u001b[0m\u001b[1;33m=\u001b[0m\u001b[1;34m'C'\u001b[0m\u001b[1;33m,\u001b[0m \u001b[1;33m*\u001b[0m\u001b[1;33m,\u001b[0m \u001b[0mlike\u001b[0m\u001b[1;33m=\u001b[0m\u001b[1;32mNone\u001b[0m\u001b[1;33m)\u001b[0m\u001b[1;33m\u001b[0m\u001b[1;33m\u001b[0m\u001b[0m\n",
      "\u001b[1;31mDocstring:\u001b[0m\n",
      "Return a 2-D array with ones on the diagonal and zeros elsewhere.\n",
      "\n",
      "Parameters\n",
      "----------\n",
      "N : int\n",
      "  Number of rows in the output.\n",
      "M : int, optional\n",
      "  Number of columns in the output. If None, defaults to `N`.\n",
      "k : int, optional\n",
      "  Index of the diagonal: 0 (the default) refers to the main diagonal,\n",
      "  a positive value refers to an upper diagonal, and a negative value\n",
      "  to a lower diagonal.\n",
      "dtype : data-type, optional\n",
      "  Data-type of the returned array.\n",
      "order : {'C', 'F'}, optional\n",
      "    Whether the output should be stored in row-major (C-style) or\n",
      "    column-major (Fortran-style) order in memory.\n",
      "\n",
      "    .. versionadded:: 1.14.0\n",
      "like : array_like, optional\n",
      "    Reference object to allow the creation of arrays which are not\n",
      "    NumPy arrays. If an array-like passed in as ``like`` supports\n",
      "    the ``__array_function__`` protocol, the result will be defined\n",
      "    by it. In this case, it ensures the creation of an array object\n",
      "    compatible with that passed in via this argument.\n",
      "\n",
      "    .. versionadded:: 1.20.0\n",
      "\n",
      "Returns\n",
      "-------\n",
      "I : ndarray of shape (N,M)\n",
      "  An array where all elements are equal to zero, except for the `k`-th\n",
      "  diagonal, whose values are equal to one.\n",
      "\n",
      "See Also\n",
      "--------\n",
      "identity : (almost) equivalent function\n",
      "diag : diagonal 2-D array from a 1-D array specified by the user.\n",
      "\n",
      "Examples\n",
      "--------\n",
      ">>> np.eye(2, dtype=int)\n",
      "array([[1, 0],\n",
      "       [0, 1]])\n",
      ">>> np.eye(3, k=1)\n",
      "array([[0.,  1.,  0.],\n",
      "       [0.,  0.,  1.],\n",
      "       [0.,  0.,  0.]])\n",
      "\u001b[1;31mFile:\u001b[0m      c:\\users\\namita\\miniconda3\\lib\\site-packages\\numpy\\lib\\twodim_base.py\n",
      "\u001b[1;31mType:\u001b[0m      function"
     ]
    }
   ],
   "source": [
    "np.eye?"
   ]
  },
  {
   "cell_type": "code",
   "execution_count": 3,
   "metadata": {},
   "outputs": [
    {
     "name": "stdout",
     "output_type": "stream",
     "text": [
      "[2 3 4 5]\n",
      "[[1 2 3]\n",
      " [4 5 6]]\n",
      "[[[1 2]\n",
      "  [4 5]]\n",
      "\n",
      " [[2 1]\n",
      "  [3 4]]]\n"
     ]
    }
   ],
   "source": [
    "x = np.array([2,3,4,5]) #1D array\n",
    "x2d = np.array([[1,2,3],[4,5,6]]) #2D array\n",
    "x3d = np.array([[[1,2],[4,5]],[[2,1],[3,4]]]) #3D array\n",
    "print(x)\n",
    "print(x2d)\n",
    "print(x3d)"
   ]
  },
  {
   "cell_type": "code",
   "execution_count": 4,
   "metadata": {},
   "outputs": [
    {
     "name": "stdout",
     "output_type": "stream",
     "text": [
      "[1 2 3 4 5]\n",
      "[[1 2 3]\n",
      " [4 5 6]]\n",
      "[ 2  4  6  8 10]\n",
      "3.0\n"
     ]
    }
   ],
   "source": [
    "# Create a 1D array\n",
    "arr1d = np.array([1, 2, 3, 4, 5])\n",
    "print(arr1d)\n",
    "# Create a 2D array\n",
    "arr2d = np.array([[1, 2, 3], [4, 5, 6]])\n",
    "print(arr2d)\n",
    "\n",
    "# Perform element-wise operations\n",
    "result = arr1d + arr1d\n",
    "print(result)  \n",
    "\n",
    "# Use mathematical functions\n",
    "mean_value = np.mean(arr1d)\n",
    "print(mean_value)  \n"
   ]
  },
  {
   "cell_type": "code",
   "execution_count": 5,
   "metadata": {},
   "outputs": [
    {
     "name": "stdout",
     "output_type": "stream",
     "text": [
      "1D array:\n",
      "[1 2 3 4 5]\n",
      "\n",
      "2D array:\n",
      "[[1 2 3]\n",
      " [4 5 6]\n",
      " [7 8 9]]\n",
      "\n",
      "Zeros array:\n",
      "[[0. 0. 0. 0.]\n",
      " [0. 0. 0. 0.]\n",
      " [0. 0. 0. 0.]]\n",
      "\n",
      "Ones array:\n",
      "[[1. 1. 1.]\n",
      " [1. 1. 1.]]\n",
      "\n",
      "Range array:\n",
      "[0 2 4 6 8]\n",
      "\n",
      "Linspace array:\n",
      "[0.   0.25 0.5  0.75 1.  ]\n"
     ]
    }
   ],
   "source": [
    "import numpy as np\n",
    "\n",
    "# Create a 1D array from a Python list\n",
    "arr1d = np.array([1, 2, 3, 4, 5])\n",
    "print(\"1D array:\")\n",
    "print(arr1d)\n",
    "\n",
    "# Create a 2D array (matrix)\n",
    "arr2d = np.array([[1, 2, 3], [4, 5, 6], [7, 8, 9]])\n",
    "print(\"\\n2D array:\")\n",
    "print(arr2d)\n",
    "\n",
    "# Create an array of zeros\n",
    "zeros_array = np.zeros((3, 4))  # Creates a 3x4 matrix of zeros\n",
    "print(\"\\nZeros array:\")\n",
    "print(zeros_array)\n",
    "\n",
    "# Create an array of ones\n",
    "ones_array = np.ones((2, 3))  # Creates a 2x3 matrix of ones\n",
    "print(\"\\nOnes array:\")\n",
    "print(ones_array)\n",
    "\n",
    "# Create a range of values\n",
    "range_array = np.arange(0, 10, 2)  # Creates [0, 2, 4, 6, 8]\n",
    "print(\"\\nRange array:\")\n",
    "print(range_array)\n",
    "\n",
    "# Create evenly spaced values\n",
    "linspace_array = np.linspace(0, 1, 5)  # Creates [0.  , 0.25, 0.5 , 0.75, 1.  ]\n",
    "print(\"\\nLinspace array:\")\n",
    "print(linspace_array)\n"
   ]
  },
  {
   "cell_type": "markdown",
   "metadata": {},
   "source": [
    "# Sequential Matrix\n",
    "np.arange()\n",
    "np.Linspace()"
   ]
  },
  {
   "cell_type": "code",
   "execution_count": 6,
   "metadata": {},
   "outputs": [
    {
     "name": "stdout",
     "output_type": "stream",
     "text": [
      "\u001b[1;31mDocstring:\u001b[0m\n",
      "arange([start,] stop[, step,], dtype=None, *, like=None)\n",
      "\n",
      "Return evenly spaced values within a given interval.\n",
      "\n",
      "``arange`` can be called with a varying number of positional arguments:\n",
      "\n",
      "* ``arange(stop)``: Values are generated within the half-open interval\n",
      "  ``[0, stop)`` (in other words, the interval including `start` but\n",
      "  excluding `stop`).\n",
      "* ``arange(start, stop)``: Values are generated within the half-open\n",
      "  interval ``[start, stop)``.\n",
      "* ``arange(start, stop, step)`` Values are generated within the half-open\n",
      "  interval ``[start, stop)``, with spacing between values given by\n",
      "  ``step``.\n",
      "\n",
      "For integer arguments the function is roughly equivalent to the Python\n",
      "built-in :py:class:`range`, but returns an ndarray rather than a ``range``\n",
      "instance.\n",
      "\n",
      "When using a non-integer step, such as 0.1, it is often better to use\n",
      "`numpy.linspace`.\n",
      "\n",
      "See the Warning sections below for more information.\n",
      "\n",
      "Parameters\n",
      "----------\n",
      "start : integer or real, optional\n",
      "    Start of interval.  The interval includes this value.  The default\n",
      "    start value is 0.\n",
      "stop : integer or real\n",
      "    End of interval.  The interval does not include this value, except\n",
      "    in some cases where `step` is not an integer and floating point\n",
      "    round-off affects the length of `out`.\n",
      "step : integer or real, optional\n",
      "    Spacing between values.  For any output `out`, this is the distance\n",
      "    between two adjacent values, ``out[i+1] - out[i]``.  The default\n",
      "    step size is 1.  If `step` is specified as a position argument,\n",
      "    `start` must also be given.\n",
      "dtype : dtype, optional\n",
      "    The type of the output array.  If `dtype` is not given, infer the data\n",
      "    type from the other input arguments.\n",
      "like : array_like, optional\n",
      "    Reference object to allow the creation of arrays which are not\n",
      "    NumPy arrays. If an array-like passed in as ``like`` supports\n",
      "    the ``__array_function__`` protocol, the result will be defined\n",
      "    by it. In this case, it ensures the creation of an array object\n",
      "    compatible with that passed in via this argument.\n",
      "\n",
      "    .. versionadded:: 1.20.0\n",
      "\n",
      "Returns\n",
      "-------\n",
      "arange : ndarray\n",
      "    Array of evenly spaced values.\n",
      "\n",
      "    For floating point arguments, the length of the result is\n",
      "    ``ceil((stop - start)/step)``.  Because of floating point overflow,\n",
      "    this rule may result in the last element of `out` being greater\n",
      "    than `stop`.\n",
      "\n",
      "Warnings\n",
      "--------\n",
      "The length of the output might not be numerically stable.\n",
      "\n",
      "Another stability issue is due to the internal implementation of\n",
      "`numpy.arange`.\n",
      "The actual step value used to populate the array is\n",
      "``dtype(start + step) - dtype(start)`` and not `step`. Precision loss\n",
      "can occur here, due to casting or due to using floating points when\n",
      "`start` is much larger than `step`. This can lead to unexpected\n",
      "behaviour. For example::\n",
      "\n",
      "  >>> np.arange(0, 5, 0.5, dtype=int)\n",
      "  array([0, 0, 0, 0, 0, 0, 0, 0, 0, 0])\n",
      "  >>> np.arange(-3, 3, 0.5, dtype=int)\n",
      "  array([-3, -2, -1,  0,  1,  2,  3,  4,  5,  6,  7,  8])\n",
      "\n",
      "In such cases, the use of `numpy.linspace` should be preferred.\n",
      "\n",
      "The built-in :py:class:`range` generates :std:doc:`Python built-in integers\n",
      "that have arbitrary size <python:c-api/long>`, while `numpy.arange`\n",
      "produces `numpy.int32` or `numpy.int64` numbers. This may result in\n",
      "incorrect results for large integer values::\n",
      "\n",
      "  >>> power = 40\n",
      "  >>> modulo = 10000\n",
      "  >>> x1 = [(n ** power) % modulo for n in range(8)]\n",
      "  >>> x2 = [(n ** power) % modulo for n in np.arange(8)]\n",
      "  >>> print(x1)\n",
      "  [0, 1, 7776, 8801, 6176, 625, 6576, 4001]  # correct\n",
      "  >>> print(x2)\n",
      "  [0, 1, 7776, 7185, 0, 5969, 4816, 3361]  # incorrect\n",
      "\n",
      "See Also\n",
      "--------\n",
      "numpy.linspace : Evenly spaced numbers with careful handling of endpoints.\n",
      "numpy.ogrid: Arrays of evenly spaced numbers in N-dimensions.\n",
      "numpy.mgrid: Grid-shaped arrays of evenly spaced numbers in N-dimensions.\n",
      ":ref:`how-to-partition`\n",
      "\n",
      "Examples\n",
      "--------\n",
      ">>> np.arange(3)\n",
      "array([0, 1, 2])\n",
      ">>> np.arange(3.0)\n",
      "array([ 0.,  1.,  2.])\n",
      ">>> np.arange(3,7)\n",
      "array([3, 4, 5, 6])\n",
      ">>> np.arange(3,7,2)\n",
      "array([3, 5])\n",
      "\u001b[1;31mType:\u001b[0m      builtin_function_or_method"
     ]
    }
   ],
   "source": [
    "np.arange?"
   ]
  },
  {
   "cell_type": "code",
   "execution_count": 7,
   "metadata": {},
   "outputs": [
    {
     "data": {
      "text/plain": [
       "array([0, 2, 4, 6, 8])"
      ]
     },
     "execution_count": 7,
     "metadata": {},
     "output_type": "execute_result"
    }
   ],
   "source": [
    "np.arange(0,10,2) #np.arange()"
   ]
  },
  {
   "cell_type": "code",
   "execution_count": 8,
   "metadata": {},
   "outputs": [
    {
     "data": {
      "text/plain": [
       "array([0. , 0.2, 0.4, 0.6, 0.8, 1. , 1.2, 1.4, 1.6, 1.8, 2. , 2.2, 2.4,\n",
       "       2.6, 2.8, 3. , 3.2, 3.4, 3.6, 3.8, 4. , 4.2, 4.4, 4.6, 4.8, 5. ,\n",
       "       5.2, 5.4, 5.6, 5.8, 6. , 6.2, 6.4, 6.6, 6.8, 7. , 7.2, 7.4, 7.6,\n",
       "       7.8, 8. , 8.2, 8.4, 8.6, 8.8, 9. , 9.2, 9.4, 9.6, 9.8])"
      ]
     },
     "execution_count": 8,
     "metadata": {},
     "output_type": "execute_result"
    }
   ],
   "source": [
    "np.arange(0,10,.2) #start stop step"
   ]
  },
  {
   "cell_type": "code",
   "execution_count": 9,
   "metadata": {},
   "outputs": [
    {
     "data": {
      "text/plain": [
       "50"
      ]
     },
     "execution_count": 9,
     "metadata": {},
     "output_type": "execute_result"
    }
   ],
   "source": [
    "#size\n",
    "np.arange(0,10,.2).size"
   ]
  },
  {
   "cell_type": "code",
   "execution_count": 10,
   "metadata": {},
   "outputs": [
    {
     "data": {
      "text/plain": [
       "array([[0. , 0.2, 0.4, 0.6, 0.8, 1. , 1.2, 1.4, 1.6, 1.8],\n",
       "       [2. , 2.2, 2.4, 2.6, 2.8, 3. , 3.2, 3.4, 3.6, 3.8],\n",
       "       [4. , 4.2, 4.4, 4.6, 4.8, 5. , 5.2, 5.4, 5.6, 5.8],\n",
       "       [6. , 6.2, 6.4, 6.6, 6.8, 7. , 7.2, 7.4, 7.6, 7.8],\n",
       "       [8. , 8.2, 8.4, 8.6, 8.8, 9. , 9.2, 9.4, 9.6, 9.8]])"
      ]
     },
     "execution_count": 10,
     "metadata": {},
     "output_type": "execute_result"
    }
   ],
   "source": [
    "np.arange(0,10,.2).reshape(5,10)"
   ]
  },
  {
   "cell_type": "code",
   "execution_count": 11,
   "metadata": {},
   "outputs": [
    {
     "data": {
      "text/plain": [
       "array([ 0.,  5., 10., 15.])"
      ]
     },
     "execution_count": 11,
     "metadata": {},
     "output_type": "execute_result"
    }
   ],
   "source": [
    "np.linspace(0,15,4)"
   ]
  },
  {
   "cell_type": "code",
   "execution_count": 12,
   "metadata": {},
   "outputs": [
    {
     "data": {
      "text/plain": [
       "4"
      ]
     },
     "execution_count": 12,
     "metadata": {},
     "output_type": "execute_result"
    }
   ],
   "source": [
    "np.linspace(0,15,4).size"
   ]
  },
  {
   "cell_type": "code",
   "execution_count": 13,
   "metadata": {},
   "outputs": [
    {
     "data": {
      "text/plain": [
       "array([[ 0.,  5.],\n",
       "       [10., 15.]])"
      ]
     },
     "execution_count": 13,
     "metadata": {},
     "output_type": "execute_result"
    }
   ],
   "source": [
    "np.linspace(0,15,4).reshape(2,2)"
   ]
  },
  {
   "cell_type": "code",
   "execution_count": null,
   "metadata": {},
   "outputs": [],
   "source": []
  },
  {
   "cell_type": "code",
   "execution_count": 14,
   "metadata": {},
   "outputs": [
    {
     "name": "stdout",
     "output_type": "stream",
     "text": [
      "[[0.95708518 0.47653372 0.04707792]\n",
      " [0.90535537 0.76056378 0.75877986]\n",
      " [0.58204544 0.24460229 0.48091739]]\n"
     ]
    }
   ],
   "source": [
    "# randomized matrix with random number\n",
    "# np.random.rand()\n",
    "print(np.random.rand(3,3)) # 0 to 1"
   ]
  },
  {
   "cell_type": "code",
   "execution_count": 15,
   "metadata": {},
   "outputs": [
    {
     "name": "stdout",
     "output_type": "stream",
     "text": [
      "[[ 1.06621337  0.96758282  0.58409     0.73079498]\n",
      " [ 1.43396097 -0.35483038  1.60765041 -1.36766421]\n",
      " [-0.75622767 -0.75727049 -0.83350378  0.62432102]\n",
      " [-0.68953497 -0.73454295 -1.6125727   0.9326277 ]]\n"
     ]
    }
   ],
   "source": [
    "# np.random.randn(4,4) #normal distribution\n",
    "print(np.random.randn(4,4)) #around 0\n"
   ]
  },
  {
   "cell_type": "code",
   "execution_count": 16,
   "metadata": {},
   "outputs": [
    {
     "name": "stdout",
     "output_type": "stream",
     "text": [
      "[[-9  9 -7]\n",
      " [-1 -6  4]\n",
      " [ 0  4  5]]\n"
     ]
    }
   ],
   "source": [
    "# np.random.randint()\n",
    "print(np.random.randint(-10,10,(3,3))) # random int from -10 to 10"
   ]
  },
  {
   "cell_type": "code",
   "execution_count": 17,
   "metadata": {},
   "outputs": [
    {
     "name": "stdout",
     "output_type": "stream",
     "text": [
      "[[1.19359292 1.99873792 1.40290962]\n",
      " [0.32484992 1.12242574 0.38184902]\n",
      " [1.49556499 0.5133844  0.14303652]]\n"
     ]
    }
   ],
   "source": [
    "# np.random.uniform()\n",
    "print(np.random.uniform(0,2,(3,3))) #random uniform from 0 to 10"
   ]
  },
  {
   "cell_type": "code",
   "execution_count": 18,
   "metadata": {},
   "outputs": [
    {
     "name": "stdout",
     "output_type": "stream",
     "text": [
      "[ 7  5  9  8  4  2 10  3  1  6]\n"
     ]
    }
   ],
   "source": [
    "# np.random.permutation()\n",
    "print(np.random.permutation([1,2,3,4,5,6,7,8,9,10])) #random permutation"
   ]
  },
  {
   "cell_type": "code",
   "execution_count": 19,
   "metadata": {},
   "outputs": [
    {
     "name": "stdout",
     "output_type": "stream",
     "text": [
      "[[4.08605088 4.49580701 3.89303693]\n",
      " [2.9638063  2.00014539 0.87239451]\n",
      " [3.50529653 2.53442128 1.03467676]]\n",
      "[[4 4 3]\n",
      " [2 2 0]\n",
      " [3 2 1]]\n"
     ]
    }
   ],
   "source": [
    "xp = np.random.uniform(0,5,(3,3))\n",
    "print(xp)\n",
    "print(xp.astype(int))"
   ]
  },
  {
   "cell_type": "code",
   "execution_count": 20,
   "metadata": {},
   "outputs": [
    {
     "name": "stdout",
     "output_type": "stream",
     "text": [
      "Random Float: 0.8511670303619473\n",
      "Random Integer: 0\n",
      "Random Array:\n",
      "[[ 1.76698069 -0.7510937  -1.15558982]\n",
      " [-0.95127374  0.96204157  0.37748683]\n",
      " [ 1.18599597 -0.64453556 -0.98852439]]\n",
      "Shuffled Array: [1 3 2 5 4]\n"
     ]
    }
   ],
   "source": [
    "# Generate random float between 0 and 1\n",
    "random_float = np.random.rand()\n",
    "print(\"Random Float:\", random_float)\n",
    "\n",
    "# Generate random integers between 0 and 9\n",
    "random_int = np.random.randint(0, 10)\n",
    "print(\"Random Integer:\", random_int)\n",
    "\n",
    "# Generate a 3x3 random array with values from standard normal distribution\n",
    "random_array = np.random.randn(3, 3)\n",
    "print(\"Random Array:\")\n",
    "print(random_array)\n",
    "\n",
    "# Shuffle elements of an array\n",
    "arr = np.array([1, 2, 3, 4, 5])\n",
    "np.random.shuffle(arr)\n",
    "print(\"Shuffled Array:\", arr)\n"
   ]
  },
  {
   "cell_type": "markdown",
   "metadata": {},
   "source": [
    "Array Shape and Size:\n",
    "You can check the shape and size of an array using the shape and size attributes, respectively."
   ]
  },
  {
   "cell_type": "code",
   "execution_count": 21,
   "metadata": {},
   "outputs": [
    {
     "name": "stdout",
     "output_type": "stream",
     "text": [
      "(2, 3)\n",
      "6\n"
     ]
    }
   ],
   "source": [
    "arr = np.array([[1, 2, 3], [4, 5, 6]])\n",
    "print(arr.shape)  \n",
    "print(arr.size)"
   ]
  },
  {
   "cell_type": "markdown",
   "metadata": {},
   "source": [
    "# Operations"
   ]
  },
  {
   "cell_type": "markdown",
   "metadata": {},
   "source": [
    "Mathematical Operations:\n",
    "You can perform various mathematical operations on arrays with Numpy. The operations are applied element-wise.\n",
    "\n",
    "Arithmetic operations: Addition, subtraction, multiplication, division, exponentiation, etc.\n",
    "Trigonometric functions: sin, cos, tan, arcsin, arccos, arctan, etc.\n",
    "Logarithmic functions: log, log10, log2, etc.\n",
    "Statistical functions: mean, median, standard deviation, sum, etc.\n",
    "Linear algebra operations: dot product, matrix multiplication, eigenvalues, etc."
   ]
  },
  {
   "cell_type": "code",
   "execution_count": 22,
   "metadata": {},
   "outputs": [
    {
     "name": "stdout",
     "output_type": "stream",
     "text": [
      "[[  4 -10  -7]\n",
      " [ -9  -2 -10]\n",
      " [  7   1 -10]]\n",
      "[[ -7  -4  -6]\n",
      " [  5  -1  -8]\n",
      " [  1 -10   2]]\n"
     ]
    }
   ],
   "source": [
    "a = np.random.randint(-10,10,(3,3))\n",
    "b = np.random.randint(-10,10,(3,3))\n",
    "print(a)\n",
    "print(b)"
   ]
  },
  {
   "cell_type": "code",
   "execution_count": 23,
   "metadata": {},
   "outputs": [
    {
     "data": {
      "text/plain": [
       "array([[  40, -100,  -70],\n",
       "       [ -90,  -20, -100],\n",
       "       [  70,   10, -100]])"
      ]
     },
     "execution_count": 23,
     "metadata": {},
     "output_type": "execute_result"
    }
   ],
   "source": [
    "# matrix and constant operations\n",
    "\n",
    "a*10"
   ]
  },
  {
   "cell_type": "code",
   "execution_count": 24,
   "metadata": {},
   "outputs": [
    {
     "data": {
      "text/plain": [
       "array([[4, 0, 3],\n",
       "       [1, 8, 0],\n",
       "       [7, 1, 0]], dtype=int32)"
      ]
     },
     "execution_count": 24,
     "metadata": {},
     "output_type": "execute_result"
    }
   ],
   "source": [
    "a % 10"
   ]
  },
  {
   "cell_type": "code",
   "execution_count": 25,
   "metadata": {},
   "outputs": [
    {
     "data": {
      "text/plain": [
       "array([[ 16, 100,  49],\n",
       "       [ 81,   4, 100],\n",
       "       [ 49,   1, 100]])"
      ]
     },
     "execution_count": 25,
     "metadata": {},
     "output_type": "execute_result"
    }
   ],
   "source": [
    "a ** 2"
   ]
  },
  {
   "cell_type": "code",
   "execution_count": 26,
   "metadata": {},
   "outputs": [
    {
     "name": "stdout",
     "output_type": "stream",
     "text": [
      "[[ -3 -14 -13]\n",
      " [ -4  -3 -18]\n",
      " [  8  -9  -8]]\n",
      "[[ 11  -6  -1]\n",
      " [-14  -1  -2]\n",
      " [  6  11 -12]]\n",
      "[[-0.57142857  2.5         1.16666667]\n",
      " [-1.8         2.          1.25      ]\n",
      " [ 7.         -0.1        -5.        ]]\n",
      "[[-28  40  42]\n",
      " [-45   2  80]\n",
      " [  7 -10 -20]]\n",
      "[[-85  64  42]\n",
      " [ 43 138  50]\n",
      " [-54  71 -70]]\n"
     ]
    }
   ],
   "source": [
    "# same size matrix operations\n",
    "\n",
    "print(a+b)\n",
    "\n",
    "print(a-b)\n",
    "\n",
    "print(a/b)\n",
    "\n",
    "print(a*b)\n",
    "\n",
    "print(a @ b)"
   ]
  },
  {
   "cell_type": "code",
   "execution_count": 27,
   "metadata": {},
   "outputs": [
    {
     "name": "stdout",
     "output_type": "stream",
     "text": [
      "[[-85  64  42]\n",
      " [ 43 138  50]\n",
      " [-54  71 -70]]\n",
      "[[-85  64  42]\n",
      " [ 43 138  50]\n",
      " [-54  71 -70]]\n"
     ]
    }
   ],
   "source": [
    "# matrix multiplication\n",
    "print(np.matmul(a,b))\n",
    "print(np.dot(a,b))"
   ]
  },
  {
   "cell_type": "code",
   "execution_count": 28,
   "metadata": {},
   "outputs": [
    {
     "name": "stdout",
     "output_type": "stream",
     "text": [
      "[5 7 9]\n",
      "[3 3 3]\n",
      "[ 4 10 18]\n",
      "[4.  2.5 2. ]\n",
      "[1 4 9]\n"
     ]
    }
   ],
   "source": [
    "import numpy as np\n",
    "\n",
    "arr1 = np.array([1, 2, 3])\n",
    "arr2 = np.array([4, 5, 6])\n",
    "\n",
    "result_add = arr1 + arr2          # Element-wise addition\n",
    "result_subtract = arr2 - arr1     # Element-wise subtraction\n",
    "result_multiply = arr1 * arr2     # Element-wise multiplication\n",
    "result_divide = arr2 / arr1       # Element-wise division\n",
    "result_power = arr1 ** 2          # Element-wise exponentiation\n",
    "\n",
    "print(result_add)     \n",
    "print(result_subtract) \n",
    "print(result_multiply)  \n",
    "print(result_divide)  \n",
    "print(result_power)    \n"
   ]
  },
  {
   "cell_type": "markdown",
   "metadata": {},
   "source": [
    "# indexing\n",
    "mat[row,col]\n",
    "# 2D slicing\n",
    "mat[row_start : row_end, col_start : col_end]"
   ]
  },
  {
   "cell_type": "markdown",
   "metadata": {},
   "source": [
    "Array Indexing and Slicing:\n",
    "Numpy allows you to access and modify elements of an array using indexing and slicing. It is similar to regular Python lists.\n",
    "\n",
    "Indexing: Access individual elements of the array using square brackets and the index.\n",
    "Slicing: Extract a portion of the array using colon notation."
   ]
  },
  {
   "cell_type": "code",
   "execution_count": 29,
   "metadata": {},
   "outputs": [
    {
     "name": "stdout",
     "output_type": "stream",
     "text": [
      "[[11 14 11 14 14 13 17 18]\n",
      " [11 13 17 11 14 19 13 11]\n",
      " [16 12 17 13 19 11 11 18]\n",
      " [17 13 14 17 16 13 11 14]\n",
      " [19 14 12 14 19 15 18 17]\n",
      " [12 12 17 18 16 14 13 15]\n",
      " [14 13 13 14 13 13 19 11]\n",
      " [12 18 12 12 11 11 18 16]]\n"
     ]
    }
   ],
   "source": [
    "z = np.random.randint(11,20,(8,8))\n",
    "print(z)"
   ]
  },
  {
   "cell_type": "code",
   "execution_count": 30,
   "metadata": {},
   "outputs": [
    {
     "name": "stdout",
     "output_type": "stream",
     "text": [
      "1\n",
      "[2 3 4]\n",
      "[1 2 3]\n",
      "[4 5]\n"
     ]
    }
   ],
   "source": [
    "import numpy as np\n",
    "\n",
    "arr = np.array([1, 2, 3, 4, 5])\n",
    "print(arr[0])      #  - access the first element\n",
    "print(arr[1:4])    #  - slice elements from index 1 to 3 (exclusive)\n",
    "print(arr[:3])     # - slice elements from the beginning to index 2 (exclusive)\n",
    "print(arr[3:])     #  - slice elements from index 3 to the end\n"
   ]
  },
  {
   "cell_type": "code",
   "execution_count": 31,
   "metadata": {},
   "outputs": [
    {
     "name": "stdout",
     "output_type": "stream",
     "text": [
      "11 18 14\n",
      "fifth row [19 14 12 14 19 15 18 17]\n",
      "first column [11 11 16 17 19 12 14 12]\n",
      "last column [18 11 18 14 17 15 11 16]\n",
      "first 3 rows\n",
      " [[11 14 11 14 14 13 17 18]\n",
      " [11 13 17 11 14 19 13 11]\n",
      " [16 12 17 13 19 11 11 18]]\n",
      "first 3 columns\n",
      " [[11 14 11]\n",
      " [11 13 17]\n",
      " [16 12 17]\n",
      " [17 13 14]\n",
      " [19 14 12]\n",
      " [12 12 17]\n",
      " [14 13 13]\n",
      " [12 18 12]]\n"
     ]
    }
   ],
   "source": [
    "# single element indexing\n",
    "print(z[0,0], z[2,-1],z[5,5])\n",
    "\n",
    "#single row\n",
    "print(\"fifth row\",z[4]) #5th row(index 4)\n",
    "\n",
    "#single column\n",
    "print(\"first column\",z[:, 0]) #first column(index 0)\n",
    "print(\"last column\",z[:, -1]) #last column (index -1)\n",
    "\n",
    "#multiple rows in sequence\n",
    "print('first 3 rows\\n', z[:3]) #first three rows (index 0, 1 ,2)\n",
    "\n",
    "#multiple columns in sequence\n",
    "print('first 3 columns\\n', z[:, :3]) #first three columns(index 0,1 and 2)"
   ]
  },
  {
   "cell_type": "markdown",
   "metadata": {},
   "source": [
    "# Boolean filter\n"
   ]
  },
  {
   "cell_type": "code",
   "execution_count": 32,
   "metadata": {},
   "outputs": [
    {
     "name": "stdout",
     "output_type": "stream",
     "text": [
      "[[4 1 3 4 3]\n",
      " [2 5 1 4 3]\n",
      " [4 5 3 1 4]\n",
      " [3 3 4 2 5]\n",
      " [4 1 5 3 3]]\n"
     ]
    }
   ],
   "source": [
    "x = np.random.randint(1,6,(5,5))\n",
    "print(x)"
   ]
  },
  {
   "cell_type": "code",
   "execution_count": 33,
   "metadata": {},
   "outputs": [
    {
     "data": {
      "text/plain": [
       "array([[False,  True, False, False, False],\n",
       "       [ True, False,  True, False, False],\n",
       "       [False, False, False,  True, False],\n",
       "       [False, False, False,  True, False],\n",
       "       [False,  True, False, False, False]])"
      ]
     },
     "execution_count": 33,
     "metadata": {},
     "output_type": "execute_result"
    }
   ],
   "source": [
    "x<3"
   ]
  },
  {
   "cell_type": "code",
   "execution_count": 34,
   "metadata": {},
   "outputs": [
    {
     "data": {
      "text/plain": [
       "array([1, 2, 1, 1, 2, 1])"
      ]
     },
     "execution_count": 34,
     "metadata": {},
     "output_type": "execute_result"
    }
   ],
   "source": [
    "x[x<3]"
   ]
  },
  {
   "cell_type": "code",
   "execution_count": 35,
   "metadata": {},
   "outputs": [
    {
     "name": "stdout",
     "output_type": "stream",
     "text": [
      "Mask: [False False False  True  True]\n",
      "Filtered Array: [4 5]\n",
      "Boolean Index: [ True  True False False False]\n",
      "Filtered Array using Boolean Index: [1 2]\n"
     ]
    }
   ],
   "source": [
    "\n",
    "\n",
    "# Masking: Select elements greater than 3\n",
    "mask = arr > 3\n",
    "print(\"Mask:\", mask) \n",
    "\n",
    "# Select elements greater than 3 using the mask\n",
    "filtered_arr = arr[mask]\n",
    "print(\"Filtered Array:\", filtered_arr) \n",
    "\n",
    "# Boolean Indexing: Select elements less than 3\n",
    "bool_index = arr < 3\n",
    "print(\"Boolean Index:\", bool_index)  \n",
    "\n",
    "# Select elements less than 3 using the boolean index\n",
    "filtered_arr_2 = arr[bool_index]\n",
    "print(\"Filtered Array using Boolean Index:\", filtered_arr_2)  \n"
   ]
  },
  {
   "cell_type": "code",
   "execution_count": 36,
   "metadata": {},
   "outputs": [
    {
     "name": "stdout",
     "output_type": "stream",
     "text": [
      "[[  2  -7   6  -9 -10]\n",
      " [ -2   9  -3  -6  -5]\n",
      " [  6  -5  -8   2   3]\n",
      " [ -6   3   7   2  -6]\n",
      " [  6   0   9  -6   5]]\n"
     ]
    }
   ],
   "source": [
    "x = np.random.randint(-10,10,(5,5))\n",
    "print(x)"
   ]
  },
  {
   "cell_type": "code",
   "execution_count": 37,
   "metadata": {},
   "outputs": [
    {
     "data": {
      "text/plain": [
       "array([2, 2, 3, 3, 2, 5])"
      ]
     },
     "execution_count": 37,
     "metadata": {},
     "output_type": "execute_result"
    }
   ],
   "source": [
    "x[(x< 6) & (x>0)]"
   ]
  },
  {
   "cell_type": "markdown",
   "metadata": {},
   "source": [
    "Some useful functions in numpy"
   ]
  },
  {
   "cell_type": "code",
   "execution_count": 38,
   "metadata": {},
   "outputs": [
    {
     "name": "stdout",
     "output_type": "stream",
     "text": [
      "[[  1   9 -10  -1  -7]\n",
      " [  7  -2   4   9   9]\n",
      " [  6   6   4  -9  -9]]\n"
     ]
    }
   ],
   "source": [
    "x = np.random.randint(-10,10,(3,5))\n",
    "print(x)"
   ]
  },
  {
   "cell_type": "markdown",
   "metadata": {},
   "source": [
    "Array Manipulation:\n",
    "Numpy provides functions to manipulate arrays.\n",
    "\n",
    "Reshaping arrays: reshape, flatten, ravel.\n",
    "Transposing arrays: transpose, T.\n",
    "Concatenating arrays: np.concatenate, np.vstack, np.hstack.\n",
    "Splitting arrays: np.split, np.vsplit, np.hsplit."
   ]
  },
  {
   "cell_type": "code",
   "execution_count": 39,
   "metadata": {},
   "outputs": [
    {
     "name": "stdout",
     "output_type": "stream",
     "text": [
      "Original Array:\n",
      "[[1 2 3]\n",
      " [4 5 6]]\n",
      "Reshaped Array:\n",
      "[[1 2]\n",
      " [3 4]\n",
      " [5 6]]\n",
      "Flattened Array:\n",
      "[1 2 3 4 5 6]\n",
      "Raveled Array:\n",
      "[1 2 3 4 5 6]\n"
     ]
    }
   ],
   "source": [
    "import numpy as np\n",
    "\n",
    "arr = np.array([[1, 2, 3], [4, 5, 6]])\n",
    "\n",
    "reshaped = arr.reshape(3, 2)  # Reshape to a 3x2 array\n",
    "flattened = arr.flatten()    # Flatten the array into a 1D array (copy)\n",
    "raveled = arr.ravel()        # Ravel the array into a 1D view (not a copy)\n",
    "\n",
    "print(\"Original Array:\")\n",
    "print(arr)\n",
    "print(\"Reshaped Array:\")\n",
    "print(reshaped)\n",
    "print(\"Flattened Array:\")\n",
    "print(flattened)\n",
    "print(\"Raveled Array:\")\n",
    "print(raveled)\n"
   ]
  },
  {
   "cell_type": "code",
   "execution_count": 40,
   "metadata": {},
   "outputs": [
    {
     "name": "stdout",
     "output_type": "stream",
     "text": [
      "[[  1   7   6]\n",
      " [  9  -2   6]\n",
      " [-10   4   4]\n",
      " [ -1   9  -9]\n",
      " [ -7   9  -9]]\n",
      "[[  1   7   6]\n",
      " [  9  -2   6]\n",
      " [-10   4   4]\n",
      " [ -1   9  -9]\n",
      " [ -7   9  -9]]\n"
     ]
    }
   ],
   "source": [
    "# transpose of the matrix\n",
    "print(x.transpose())\n",
    "print(x.T) "
   ]
  },
  {
   "cell_type": "code",
   "execution_count": 41,
   "metadata": {},
   "outputs": [
    {
     "name": "stdout",
     "output_type": "stream",
     "text": [
      "Original Array:\n",
      "[[1 2 3]\n",
      " [4 5 6]]\n",
      "Transposed Array:\n",
      "[[1 4]\n",
      " [2 5]\n",
      " [3 6]]\n",
      "T of Array:\n",
      "[[1 4]\n",
      " [2 5]\n",
      " [3 6]]\n"
     ]
    }
   ],
   "source": [
    "import numpy as np\n",
    "\n",
    "arr = np.array([[1, 2, 3], [4, 5, 6]])\n",
    "\n",
    "transposed = arr.transpose()  # Transpose the array\n",
    "T_arr = arr.T                 # Same as arr.transpose()\n",
    "\n",
    "print(\"Original Array:\")\n",
    "print(arr)\n",
    "print(\"Transposed Array:\")\n",
    "print(transposed)\n",
    "print(\"T of Array:\")\n",
    "print(T_arr)\n"
   ]
  },
  {
   "cell_type": "code",
   "execution_count": 42,
   "metadata": {},
   "outputs": [
    {
     "name": "stdout",
     "output_type": "stream",
     "text": [
      "[  1   9 -10  -1  -7   7  -2   4   9   9   6   6   4  -9  -9]\n",
      "[  1   9 -10  -1  -7   7  -2   4   9   9   6   6   4  -9  -9]\n",
      "[[  1   9 -10  -1  -7]\n",
      " [  7  -2   4   9   9]\n",
      " [  6   6   4  -9  -9]]\n",
      "[[  1]\n",
      " [  9]\n",
      " [-10]\n",
      " [ -1]\n",
      " [ -7]\n",
      " [  7]\n",
      " [ -2]\n",
      " [  4]\n",
      " [  9]\n",
      " [  9]\n",
      " [  6]\n",
      " [  6]\n",
      " [  4]\n",
      " [ -9]\n",
      " [ -9]]\n",
      "[[  1   9 -10  -1  -7   7  -2   4   9   9   6   6   4  -9  -9]]\n"
     ]
    }
   ],
   "source": [
    "# flatten \n",
    "# to change the nD array to 1D array\n",
    "print(x.flatten())\n",
    "print(x.ravel())\n",
    "\n",
    "# reshape\n",
    "print(x.reshape(3,5))\n",
    "\n",
    "# make a 2D array with 1 column\n",
    "print(x.reshape(-1,1))\n",
    "\n",
    "#make a 2D array with 1 row\n",
    "print(x.reshape(1,-1))"
   ]
  },
  {
   "cell_type": "code",
   "execution_count": 43,
   "metadata": {},
   "outputs": [
    {
     "name": "stdout",
     "output_type": "stream",
     "text": [
      "[[1 2 3]\n",
      " [4 5 6]]\n",
      "[[4 5 6]\n",
      " [1 1 1]]\n",
      "[[1 2 3]\n",
      " [4 5 6]\n",
      " [4 5 6]\n",
      " [1 1 1]]\n",
      "[[1 2 3 4 5 6]\n",
      " [4 5 6 1 1 1]]\n"
     ]
    }
   ],
   "source": [
    "# concatenation of the matrix\n",
    "x = np.array([[1,2,3],[4,5,6]])\n",
    "y = np.array([[4,5,6],[1,1,1]])\n",
    "print(x)\n",
    "print(y)\n",
    "print(np.concatenate([x, y], axis=0)) #axis=0: row\n",
    "print(np.concatenate([x, y], axis=1)) # axis=1 : column"
   ]
  },
  {
   "cell_type": "code",
   "execution_count": 44,
   "metadata": {},
   "outputs": [
    {
     "name": "stdout",
     "output_type": "stream",
     "text": [
      "Array 1:\n",
      "[[1 2]\n",
      " [3 4]]\n",
      "Array 2:\n",
      "[[5 6]]\n",
      "Concatenated Array:\n",
      "[[1 2]\n",
      " [3 4]\n",
      " [5 6]]\n",
      "Vertically Stacked Array:\n",
      "[[1 2]\n",
      " [3 4]\n",
      " [5 6]]\n",
      "Horizontally Stacked Array:\n",
      "[[1 2 5]\n",
      " [3 4 6]]\n"
     ]
    }
   ],
   "source": [
    "import numpy as np\n",
    "\n",
    "arr1 = np.array([[1, 2], [3, 4]])\n",
    "arr2 = np.array([[5, 6]])\n",
    "\n",
    "concatenated = np.concatenate((arr1, arr2), axis=0)  # Concatenate along rows (vertically)\n",
    "vstacked = np.vstack((arr1, arr2))                  # Same as np.concatenate(axis=0)\n",
    "hstacked = np.hstack((arr1, arr2.T))                 # Stack arr2.T horizontally (column-wise)\n",
    "\n",
    "print(\"Array 1:\")\n",
    "print(arr1)\n",
    "print(\"Array 2:\")\n",
    "print(arr2)\n",
    "print(\"Concatenated Array:\")\n",
    "print(concatenated)\n",
    "print(\"Vertically Stacked Array:\")\n",
    "print(vstacked)\n",
    "print(\"Horizontally Stacked Array:\")\n",
    "print(hstacked)\n"
   ]
  },
  {
   "cell_type": "code",
   "execution_count": 45,
   "metadata": {},
   "outputs": [
    {
     "name": "stdout",
     "output_type": "stream",
     "text": [
      "[[8 5 2]\n",
      " [8 0 1]\n",
      " [4 6 4]\n",
      " [3 6 5]]\n",
      "[[8 5 2 4 6 4]\n",
      " [8 0 1 3 6 5]]\n"
     ]
    }
   ],
   "source": [
    "#stacking\n",
    "a = np.random.randint(0,10,(2,3))\n",
    "b = np.random.randint(0,10,(2,3))\n",
    "print(np.vstack((a,b))) #vertical stack\n",
    "print(np.hstack((a,b))) #horizontal stack"
   ]
  },
  {
   "cell_type": "code",
   "execution_count": 46,
   "metadata": {},
   "outputs": [
    {
     "name": "stdout",
     "output_type": "stream",
     "text": [
      "Original Array:\n",
      "[[1 2 3]\n",
      " [4 5 6]\n",
      " [7 8 9]]\n",
      "Split Result:\n",
      "[array([[1, 2, 3]]), array([[4, 5, 6]]), array([[7, 8, 9]])]\n",
      "Vertically Split Result:\n",
      "[array([[1, 2, 3]]), array([[4, 5, 6]]), array([[7, 8, 9]])]\n",
      "Horizontally Split Result:\n",
      "[array([[1],\n",
      "       [4],\n",
      "       [7]]), array([[2],\n",
      "       [5],\n",
      "       [8]]), array([[3],\n",
      "       [6],\n",
      "       [9]])]\n"
     ]
    }
   ],
   "source": [
    "import numpy as np\n",
    "\n",
    "arr = np.array([[1, 2, 3], [4, 5, 6], [7, 8, 9]])\n",
    "\n",
    "split_result = np.split(arr, 3, axis=0)  # Split along rows (vertically)\n",
    "vsplit_result = np.vsplit(arr, 3)       # Same as np.split(axis=0)\n",
    "hsplit_result = np.hsplit(arr, 3)       # Split along columns (horizontally)\n",
    "\n",
    "print(\"Original Array:\")\n",
    "print(arr)\n",
    "print(\"Split Result:\")\n",
    "print(split_result)\n",
    "print(\"Vertically Split Result:\")\n",
    "print(vsplit_result)\n",
    "print(\"Horizontally Split Result:\")\n",
    "print(hsplit_result)\n"
   ]
  },
  {
   "cell_type": "code",
   "execution_count": 47,
   "metadata": {},
   "outputs": [
    {
     "name": "stdout",
     "output_type": "stream",
     "text": [
      "[[8, 5, 2], [8, 0, 1]]\n"
     ]
    }
   ],
   "source": [
    "# to list\n",
    "print(a.tolist())\n",
    "\n",
    "#to a file\n",
    "np.savetxt('a.npy',a)"
   ]
  },
  {
   "cell_type": "markdown",
   "metadata": {},
   "source": [
    "\n",
    "Array Aggregations:\n",
    "Numpy allows you to perform aggregation operations on arrays.\n",
    "\n",
    "sum: Calculate the sum of array elements.\n",
    "min, max: Find the minimum and maximum values.\n",
    "argmin, argmax: Find the indices of minimum and maximum values.\n",
    "mean, median: Calculate the mean and median values.\n",
    "std: Compute the standard deviation."
   ]
  },
  {
   "cell_type": "code",
   "execution_count": 48,
   "metadata": {},
   "outputs": [
    {
     "name": "stdout",
     "output_type": "stream",
     "text": [
      "Sum: 15\n",
      "Minimum Value: 1\n",
      "Maximum Value: 5\n"
     ]
    }
   ],
   "source": [
    "arr = np.array([1, 2, 3, 4, 5])\n",
    "sum_result = np.sum(arr)\n",
    "print(\"Sum:\", sum_result) \n",
    "min_val = np.min(arr)\n",
    "max_val = np.max(arr)\n",
    "print(\"Minimum Value:\", min_val)  \n",
    "print(\"Maximum Value:\", max_val)\n"
   ]
  },
  {
   "cell_type": "code",
   "execution_count": 49,
   "metadata": {},
   "outputs": [
    {
     "name": "stdout",
     "output_type": "stream",
     "text": [
      "Index of Minimum Value: 0\n",
      "Index of Maximum Value: 4\n"
     ]
    }
   ],
   "source": [
    "min_index = np.argmin(arr)\n",
    "max_index = np.argmax(arr)\n",
    "print(\"Index of Minimum Value:\", min_index)  # (index of 1)\n",
    "print(\"Index of Maximum Value:\", max_index)  #(index of 5)"
   ]
  },
  {
   "cell_type": "code",
   "execution_count": 50,
   "metadata": {},
   "outputs": [
    {
     "name": "stdout",
     "output_type": "stream",
     "text": [
      "Mean: 3.0\n",
      "Median: 3.0\n"
     ]
    }
   ],
   "source": [
    "mean_val = np.mean(arr)\n",
    "median_val = np.median(arr)\n",
    "print(\"Mean:\", mean_val)     \n",
    "print(\"Median:\", median_val)"
   ]
  },
  {
   "cell_type": "code",
   "execution_count": 51,
   "metadata": {},
   "outputs": [
    {
     "name": "stdout",
     "output_type": "stream",
     "text": [
      "Standard Deviation: 1.4142135623730951\n"
     ]
    }
   ],
   "source": [
    "arr = np.array([1, 2, 3, 4, 5])\n",
    "std_val = np.std(arr)\n",
    "print(\"Standard Deviation:\", std_val)"
   ]
  },
  {
   "cell_type": "code",
   "execution_count": 52,
   "metadata": {},
   "outputs": [
    {
     "name": "stdout",
     "output_type": "stream",
     "text": [
      "Broadcasted Result:\n",
      "[[11 12 13]\n",
      " [21 22 23]\n",
      " [31 32 33]]\n",
      "Square Root:\n",
      "[1.         1.41421356 1.73205081]\n"
     ]
    }
   ],
   "source": [
    "arr1 = np.array([1, 2, 3])\n",
    "arr2 = np.array([[10], [20], [30]])\n",
    "\n",
    "# Broadcasting: Adding a 1D array to a 2D array\n",
    "result_broadcast = arr1 + arr2\n",
    "print(\"Broadcasted Result:\")\n",
    "print(result_broadcast)\n",
    "\n",
    "\n",
    "# Universal Functions (ufuncs): Element-wise operations\n",
    "result_sqrt = np.sqrt(arr1)\n",
    "print(\"Square Root:\")\n",
    "print(result_sqrt)  # Output: [1.  1.41421356 1.73205081]\n"
   ]
  },
  {
   "cell_type": "code",
   "execution_count": 53,
   "metadata": {},
   "outputs": [],
   "source": [
    "import matplotlib.pyplot as plt"
   ]
  },
  {
   "cell_type": "code",
   "execution_count": 54,
   "metadata": {},
   "outputs": [
    {
     "data": {
      "text/plain": [
       "[<matplotlib.lines.Line2D at 0x16a5619be90>]"
      ]
     },
     "execution_count": 54,
     "metadata": {},
     "output_type": "execute_result"
    },
    {
     "data": {
      "image/png": "[encoded data removed]",
      "text/plain": [
       "<Figure size 640x480 with 1 Axes>"
      ]
     },
     "metadata": {},
     "output_type": "display_data"
    }
   ],
   "source": [
    "t = np.arange(-5,5, .2)\n",
    "s1 = np.sin(t) #sin values of each item\n",
    "plt.plot(t, s1, 'ro--') #red dots with dashed lines"
   ]
  },
  {
   "cell_type": "code",
   "execution_count": 55,
   "metadata": {},
   "outputs": [
    {
     "data": {
      "text/plain": [
       "[<matplotlib.lines.Line2D at 0x16a58454a10>]"
      ]
     },
     "execution_count": 55,
     "metadata": {},
     "output_type": "execute_result"
    },
    {
     "data": {
      "image/png": "[encoded data removed]",
      "text/plain": [
       "<Figure size 640x480 with 1 Axes>"
      ]
     },
     "metadata": {},
     "output_type": "display_data"
    }
   ],
   "source": [
    "plt.plot(t, s1, 'gs--') # green square with dashed lines"
   ]
  }
 ],
 "metadata": {
  "kernelspec": {
   "display_name": "Python 3",
   "language": "python",
   "name": "python3"
  },
  "language_info": {
   "codemirror_mode": {
    "name": "ipython",
    "version": 3
   },
   "file_extension": ".py",
   "mimetype": "text/x-python",
   "name": "python",
   "nbconvert_exporter": "python",
   "pygments_lexer": "ipython3",
   "version": "3.11.4"
  },
  "orig_nbformat": 4
 },
 "nbformat": 4,
 "nbformat_minor": 2
}
