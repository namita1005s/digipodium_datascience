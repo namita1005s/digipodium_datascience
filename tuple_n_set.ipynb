{
 "cells": [
  {
   "cell_type": "markdown",
   "metadata": {},
   "source": [
    "tuple"
   ]
  },
  {
   "cell_type": "code",
   "execution_count": 1,
   "metadata": {},
   "outputs": [
    {
     "name": "stdout",
     "output_type": "stream",
     "text": [
      "(1, 2, 3, 4, 5)\n",
      "<class 'tuple'>\n"
     ]
    }
   ],
   "source": [
    "x = (1,2,3,4,5)\n",
    "print(x)\n",
    "print(type(x))"
   ]
  },
  {
   "cell_type": "markdown",
   "metadata": {},
   "source": [
    "tuple packing"
   ]
  },
  {
   "cell_type": "code",
   "execution_count": 2,
   "metadata": {},
   "outputs": [
    {
     "name": "stdout",
     "output_type": "stream",
     "text": [
      "(1, 2, 3, 4)\n",
      "<class 'tuple'>\n"
     ]
    }
   ],
   "source": [
    "y = 1,2,3,4\n",
    "print(y)\n",
    "print(type(y))"
   ]
  },
  {
   "cell_type": "code",
   "execution_count": 3,
   "metadata": {},
   "outputs": [
    {
     "name": "stdout",
     "output_type": "stream",
     "text": [
      "(1, 2, 3, 4, 5)\n",
      "('h', 'e', 'l', 'l', 'o')\n"
     ]
    }
   ],
   "source": [
    "z = tuple([1,2,3,4,5]) #tuple from a iterable\n",
    "zs = tuple('hello') #tuple from a iterable\n",
    "print(z)\n",
    "print(zs)"
   ]
  },
  {
   "cell_type": "markdown",
   "metadata": {},
   "source": [
    "tuple functions"
   ]
  },
  {
   "cell_type": "code",
   "execution_count": 4,
   "metadata": {},
   "outputs": [
    {
     "name": "stdout",
     "output_type": "stream",
     "text": [
      "2\n",
      "2\n"
     ]
    }
   ],
   "source": [
    "x =(12,12,312,312,5,25,553,433,4)\n",
    "print(x.count(12))\n",
    "print(x.index(312))"
   ]
  },
  {
   "cell_type": "code",
   "execution_count": 5,
   "metadata": {},
   "outputs": [
    {
     "name": "stdout",
     "output_type": "stream",
     "text": [
      "(3,)\n",
      "<class 'tuple'>\n"
     ]
    }
   ],
   "source": [
    "x = (3,) #single element tuple needs a comma\n",
    "print(x)\n",
    "print(type(x))"
   ]
  },
  {
   "cell_type": "code",
   "execution_count": 6,
   "metadata": {},
   "outputs": [
    {
     "data": {
      "text/plain": [
       "(1, 2, 3, 4)"
      ]
     },
     "execution_count": 6,
     "metadata": {},
     "output_type": "execute_result"
    }
   ],
   "source": [
    "y"
   ]
  },
  {
   "cell_type": "code",
   "execution_count": 7,
   "metadata": {},
   "outputs": [
    {
     "name": "stdout",
     "output_type": "stream",
     "text": [
      "(1, 2, 3, 4)\n"
     ]
    }
   ],
   "source": [
    "a = y\n",
    "print(a)"
   ]
  },
  {
   "cell_type": "code",
   "execution_count": 8,
   "metadata": {},
   "outputs": [
    {
     "name": "stdout",
     "output_type": "stream",
     "text": [
      "1 2 3 4\n"
     ]
    }
   ],
   "source": [
    "a,b,c,d = y #tuple unpacking\n",
    "print(a,b,c,d)\n",
    "\n",
    "# a,b = y # too many values to unpack\n",
    "# a,b,c,d,e = y #not enough values to unpack"
   ]
  },
  {
   "cell_type": "code",
   "execution_count": 9,
   "metadata": {},
   "outputs": [
    {
     "name": "stdout",
     "output_type": "stream",
     "text": [
      "1 2 [3, 4]\n",
      "1 [2, 3, 4]\n",
      "1 [2, 3] 4\n",
      "[1, 2, 3] 4\n"
     ]
    }
   ],
   "source": [
    "a,b, *c = y #tuple unpacking\n",
    "print(a,b,c)\n",
    "a, *b = y\n",
    "print(a,b)\n",
    "a, *b, c = y\n",
    "print(a,b,c)\n",
    "*a , b = y\n",
    "print(a,b)"
   ]
  },
  {
   "cell_type": "markdown",
   "metadata": {},
   "source": [
    "Set\n",
    "Sets in Python are unordered collections of unique elements. They are defined using curly braces ({}) or the set() constructor. Sets are useful for tasks such as removing duplicates, membership testing, and performing mathematical set operations."
   ]
  },
  {
   "cell_type": "code",
   "execution_count": 10,
   "metadata": {},
   "outputs": [
    {
     "name": "stdout",
     "output_type": "stream",
     "text": [
      "{0, 2, 3, 4, 5, 6, 7, 8, 9}\n"
     ]
    }
   ],
   "source": [
    "x = {2,3,3,4,5,6,7,8,9,0}\n",
    "print(x)"
   ]
  },
  {
   "cell_type": "code",
   "execution_count": 11,
   "metadata": {},
   "outputs": [
    {
     "name": "stdout",
     "output_type": "stream",
     "text": [
      "{'orange', 'apple', 'banana', 'pear'}\n"
     ]
    }
   ],
   "source": [
    "fruits = {'apple','apple','banana','pear','orange','pear'}\n",
    "print(fruits)"
   ]
  },
  {
   "cell_type": "markdown",
   "metadata": {},
   "source": [
    "add()"
   ]
  },
  {
   "cell_type": "code",
   "execution_count": 12,
   "metadata": {},
   "outputs": [
    {
     "name": "stdout",
     "output_type": "stream",
     "text": [
      "{'banana', 'pear', 'orange', 'apple', 'grape'}\n"
     ]
    }
   ],
   "source": [
    "fruits.add('grape')\n",
    "print(fruits)"
   ]
  },
  {
   "cell_type": "markdown",
   "metadata": {},
   "source": [
    "discard()"
   ]
  },
  {
   "cell_type": "code",
   "execution_count": 13,
   "metadata": {},
   "outputs": [
    {
     "name": "stdout",
     "output_type": "stream",
     "text": [
      "{'banana', 'pear', 'orange', 'grape'}\n",
      "{'banana', 'pear', 'orange', 'grape'}\n"
     ]
    }
   ],
   "source": [
    "fruits.discard('apple')\n",
    "print(fruits)\n",
    "fruits.discard('custard apple')\n",
    "print(fruits)"
   ]
  },
  {
   "cell_type": "markdown",
   "metadata": {},
   "source": [
    "union(),intersection(),difference(),symmetric difference()"
   ]
  },
  {
   "cell_type": "code",
   "execution_count": 14,
   "metadata": {},
   "outputs": [
    {
     "name": "stdout",
     "output_type": "stream",
     "text": [
      "{1, 2, 3, 4, 5, 6, 7, 8, 9, 10}\n",
      "{1, 2, 3, 4, 5, 6, 7, 8, 9, 10}\n"
     ]
    }
   ],
   "source": [
    "a = {1,2,3,4,5,6,7,8,9,0}\n",
    "b = {1,2,3,4,5}\n",
    "c = {6,5,4,7,3,8,9,10}\n",
    "d = {1,3,4,6,10,8}\n",
    "e = {11,12,13,14,15}\n",
    "print(b|c) #union\n",
    "print(b.union(c)) #union"
   ]
  },
  {
   "cell_type": "code",
   "execution_count": 15,
   "metadata": {},
   "outputs": [
    {
     "name": "stdout",
     "output_type": "stream",
     "text": [
      "{3, 4, 5}\n",
      "{1, 2, 3, 4, 5}\n",
      "{1, 2}\n",
      "{2, 5}\n",
      "{1, 2, 6, 7, 8, 9, 10}\n",
      "{1, 2, 6, 7, 8, 9, 10}\n",
      "False\n",
      "True\n",
      "True\n",
      "False\n"
     ]
    }
   ],
   "source": [
    "print(b&c) #intersection\n",
    "print(b.intersection(a))\n",
    "\n",
    "print(b - c) #difference\n",
    "print(b.difference(d))\n",
    "\n",
    "print(b^c) #symmetric difference\n",
    "print(b.symmetric_difference(c))\n",
    "\n",
    "print(a.isdisjoint(b))\n",
    "print(a.issuperset(b))\n",
    "print(b.issubset(a))\n",
    "print(b.isdisjoint(c))\n"
   ]
  },
  {
   "cell_type": "code",
   "execution_count": 1,
   "metadata": {},
   "outputs": [
    {
     "name": "stdout",
     "output_type": "stream",
     "text": [
      "{1, 2, 3, 4, 5, 6}\n",
      "{1, 2, 4, 5, 6}\n",
      "{1, 2, 4, 5, 6}\n",
      "1\n",
      "{2, 4, 5, 6}\n",
      "set()\n",
      "{1, 2, 3, 4, 5}\n",
      "{1, 2, 3, 4, 5}\n",
      "{3}\n",
      "{1, 2}\n",
      "{1, 2, 4, 5}\n",
      "True\n",
      "True\n",
      "frozenset({1, 2, 3, 4})\n",
      "{1, 2, 3, 4, 5}\n"
     ]
    }
   ],
   "source": [
    "my_set = {1, 2, 3, 4, 5}  \n",
    "\n",
    "# Adding elements\n",
    "my_set.add(6)\n",
    "print(my_set)  \n",
    "# Removing elements\n",
    "my_set.remove(3)\n",
    "print(my_set)  \n",
    "\n",
    "my_set.discard(7)  # No error raised if element doesn't exist\n",
    "print(my_set)     \n",
    "\n",
    "popped_element = my_set.pop()\n",
    "print(popped_element)  \n",
    "print(my_set)          \n",
    "my_set.clear()\n",
    "print(my_set) \n",
    "# Copying a set\n",
    "original_set = {1, 2, 3, 4, 5}\n",
    "copy_set = original_set.copy()\n",
    "print(copy_set)  \n",
    "# Set operations\n",
    "set1 = {1, 2, 3}\n",
    "set2 = {3, 4, 5}\n",
    "\n",
    "union_set = set1.union(set2)\n",
    "print(union_set)  \n",
    "intersection_set = set1.intersection(set2)\n",
    "print(intersection_set)  \n",
    "difference_set = set1.difference(set2)\n",
    "print(difference_set)  \n",
    "\n",
    "symmetric_difference_set = set1.symmetric_difference(set2)\n",
    "print(symmetric_difference_set)  \n",
    "# Membership testing\n",
    "my_set = {1, 2, 3, 4, 5}\n",
    "\n",
    "print(3 in my_set)  \n",
    "print(6 not in my_set)   \n",
    "\n",
    "# Frozensets\n",
    "frozen_set = frozenset([1, 2, 3, 4])\n",
    "print(frozen_set) \n",
    "# Set comprehension\n",
    "my_set = {x for x in range(1, 6)}\n",
    "print(my_set)  "
   ]
  },
  {
   "cell_type": "markdown",
   "metadata": {},
   "source": [
    "Set Methods:\n",
    "\n",
    "Sets in Python come with built-in methods that provide various functionalities. Here are some commonly used set methods:\n",
    "\n",
    "add(element): Adds an element to the set.\n",
    "remove(element): Removes the specified element from the set. Raises a KeyError if the element is not found.\n",
    "discard(element): Removes the specified element from the set. Does not raise an error if the element is not found.\n",
    "pop(): Removes and returns an arbitrary element from the set.\n",
    "clear(): Removes all elements from the set, making it empty.\n",
    "copy(): Returns a shallow copy of the set.\n",
    "union(other_set): Returns a new set that is the union of the current set and another set.\n",
    "intersection(other_set): Returns a new set that is the intersection of the current set and another set.\n",
    "difference(other_set): Returns a new set that contains the elements in the current set but not in another set.\n",
    "symmetric_difference(other_set): Returns a new set that contains the elements that are in either of the sets, but not both.\n",
    "issubset(other_set): Returns True if the current set is a subset of another set, False otherwise.\n",
    "issuperset(other_set): Returns True if the current set is a superset of another set, False otherwise.\n",
    "Frozensets:\n",
    "\n",
    "In addition to regular sets, Python also provides frozensets. Frozensets are immutable sets, meaning their elements cannot be modified after creation. Frozensets are created using the frozenset() constructor or by using curly braces around a sequence of elements. Since frozensets are immutable, they can be used as elements of other sets or as keys in dictionaries.\n",
    "Set Comprehension:\n",
    "\n",
    "Similar to list comprehension and dictionary comprehension, Python also supports set comprehension, allowing you to create sets in a concise manner based on an iterable or with optional conditions."
   ]
  }
 ],
 "metadata": {
  "kernelspec": {
   "display_name": "Python 3",
   "language": "python",
   "name": "python3"
  },
  "language_info": {
   "codemirror_mode": {
    "name": "ipython",
    "version": 3
   },
   "file_extension": ".py",
   "mimetype": "text/x-python",
   "name": "python",
   "nbconvert_exporter": "python",
   "pygments_lexer": "ipython3",
   "version": "3.10.10"
  },
  "orig_nbformat": 4
 },
 "nbformat": 4,
 "nbformat_minor": 2
}
